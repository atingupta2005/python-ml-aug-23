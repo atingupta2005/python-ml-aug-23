{
  "nbformat": 4,
  "nbformat_minor": 0,
  "metadata": {
    "colab": {
      "name": "2. Python Basics All.ipynb",
      "version": "0.3.2",
      "provenance": [],
      "collapsed_sections": []
    },
    "kernelspec": {
      "display_name": "Python 3",
      "language": "python",
      "name": "python3"
    }
  },
  "cells": [
    {
      "metadata": {
        "colab_type": "text",
        "id": "JAVUmHk1He-M"
      },
      "cell_type": "markdown",
      "source": [
        "## Python Basics\n",
        "\n",
        "### Math Operators\n",
        "\n",
        "From **Highest** to **Lowest** precedence:\n",
        "\n",
        "| Operators | Operation        | Example         |\n",
        "| --------- | ---------------- | --------------- |\n",
        "| **        | Exponent         | `2 ** 3 = 8`    |\n",
        "| %         | Modulus/Remaider | `22 % 8 = 6`    |\n",
        "| //        | Integer division | `22 // 8 = 2`   |\n",
        "| /         | Division         | `22 / 8 = 2.75` |\n",
        "| *         | Multiplication   | `3 * 3 = 9`     |\n",
        "| -         | Subtraction      | `5 - 2 = 3`     |\n",
        "| +         | Addition         | `2 + 2 = 4`     |\n",
        "\n",
        "Examples of expressions in the interactive shell:"
      ]
    },
    {
      "metadata": {
        "ExecuteTime": {
          "end_time": "2019-03-13T06:50:21.842988Z",
          "start_time": "2019-03-13T06:50:21.802985Z"
        },
        "colab_type": "code",
        "id": "7kFFvK8eHe-R",
        "outputId": "7f9ef3db-67ee-4d7b-e643-2d9b6aa9c7aa",
        "colab": {
          "base_uri": "https://localhost:8080/",
          "height": 34
        }
      },
      "cell_type": "code",
      "source": [
        "3**3"
      ],
      "execution_count": 0,
      "outputs": [
        {
          "output_type": "execute_result",
          "data": {
            "text/plain": [
              "27"
            ]
          },
          "metadata": {
            "tags": []
          },
          "execution_count": 1
        }
      ]
    },
    {
      "metadata": {
        "id": "foBCseY_1qMV",
        "colab_type": "code",
        "outputId": "9a5ffb0f-1ccc-4775-8614-18274a542832",
        "colab": {
          "base_uri": "https://localhost:8080/",
          "height": 34
        }
      },
      "cell_type": "code",
      "source": [
        "8*5"
      ],
      "execution_count": 0,
      "outputs": [
        {
          "output_type": "execute_result",
          "data": {
            "text/plain": [
              "16"
            ]
          },
          "metadata": {
            "tags": []
          },
          "execution_count": 2
        }
      ]
    },
    {
      "metadata": {
        "colab_type": "code",
        "id": "gbMEhjYfHe_A",
        "outputId": "3f1334e8-aee9-4e98-eb23-7f6eb288a06a",
        "colab": {
          "base_uri": "https://localhost:8080/",
          "height": 34
        }
      },
      "cell_type": "code",
      "source": [
        "(2 + 3) * 7"
      ],
      "execution_count": 0,
      "outputs": [
        {
          "output_type": "execute_result",
          "data": {
            "text/plain": [
              "35"
            ]
          },
          "metadata": {
            "tags": []
          },
          "execution_count": 1
        }
      ]
    },
    {
      "metadata": {
        "colab_type": "code",
        "id": "EP2z7Z7yHe_r",
        "outputId": "4757f7c6-eb42-4913-9a22-cb18c56471eb",
        "colab": {
          "base_uri": "https://localhost:8080/",
          "height": 34
        }
      },
      "cell_type": "code",
      "source": [
        "5 * 6 + 5\n"
      ],
      "execution_count": 0,
      "outputs": [
        {
          "output_type": "execute_result",
          "data": {
            "text/plain": [
              "35"
            ]
          },
          "metadata": {
            "tags": []
          },
          "execution_count": 4
        }
      ]
    },
    {
      "metadata": {
        "colab_type": "code",
        "id": "lMQENGJoHe_S",
        "outputId": "7a5bede5-1c01-4852-e3ed-33191bed1314",
        "colab": {
          "base_uri": "https://localhost:8080/",
          "height": 34
        }
      },
      "cell_type": "code",
      "source": [
        "2 + 8"
      ],
      "execution_count": 0,
      "outputs": [
        {
          "output_type": "execute_result",
          "data": {
            "text/plain": [
              "10"
            ]
          },
          "metadata": {
            "tags": []
          },
          "execution_count": 1
        }
      ]
    },
    {
      "metadata": {
        "colab_type": "code",
        "id": "H_Y4rMI0He_6",
        "outputId": "2e6087ed-25b9-4651-de39-011130850fa4",
        "colab": {
          "base_uri": "https://localhost:8080/",
          "height": 51
        }
      },
      "cell_type": "code",
      "source": [
        "56% 7"
      ],
      "execution_count": 0,
      "outputs": [
        {
          "output_type": "stream",
          "text": [
            "2\n"
          ],
          "name": "stdout"
        },
        {
          "output_type": "execute_result",
          "data": {
            "text/plain": [
              "5.0"
            ]
          },
          "metadata": {
            "tags": []
          },
          "execution_count": 4
        }
      ]
    },
    {
      "metadata": {
        "colab_type": "code",
        "id": "cl1Q9G1mHfAE",
        "outputId": "05ed166b-f06b-496e-8adb-f4493486b250",
        "colab": {
          "base_uri": "https://localhost:8080/",
          "height": 34
        }
      },
      "cell_type": "code",
      "source": [
        " (5 - 1) * ((7 + 1) / (3 - 1))"
      ],
      "execution_count": 0,
      "outputs": [
        {
          "output_type": "execute_result",
          "data": {
            "text/plain": [
              "16.0"
            ]
          },
          "metadata": {
            "tags": []
          },
          "execution_count": 6
        }
      ]
    },
    {
      "metadata": {
        "colab_type": "text",
        "id": "1eLb_QCZHfAR"
      },
      "cell_type": "markdown",
      "source": [
        "### Data Types\n",
        "\n",
        "| Data Type              | Examples                                  |\n",
        "| ---------------------- | ----------------------------------------- |\n",
        "| Integers               | `-2, -1, 0, 1, 2, 3, 4, 5`                |\n",
        "| Floating-point numbers | `-1.25, -1.0, --0.5, 0.0, 0.5, 1.0, 1.25` |\n",
        "| Strings                | `'a', 'aa', 'aaa', 'Hello!', '11 cats'`   |\n",
        "\n",
        "\n",
        "### String Concatenation and Replication\n",
        "\n",
        "String concatenation:"
      ]
    },
    {
      "metadata": {
        "colab_type": "code",
        "id": "h8cvtCTeHfAp",
        "outputId": "054aa4c7-031e-443d-a610-a3cb9869f114",
        "colab": {
          "base_uri": "https://localhost:8080/",
          "height": 129
        }
      },
      "cell_type": "code",
      "source": [
        " Ali  * 7\n",
        "    help (abs)\n",
        "     help(abs)\n",
        "  \n"
      ],
      "execution_count": 0,
      "outputs": [
        {
          "output_type": "error",
          "ename": "IndentationError",
          "evalue": "ignored",
          "traceback": [
            "\u001b[0;36m  File \u001b[0;32m\"<ipython-input-1-8a2180f8d90a>\"\u001b[0;36m, line \u001b[0;32m2\u001b[0m\n\u001b[0;31m    help (abs)\u001b[0m\n\u001b[0m    ^\u001b[0m\n\u001b[0;31mIndentationError\u001b[0m\u001b[0;31m:\u001b[0m unexpected indent\n"
          ]
        }
      ]
    },
    {
      "metadata": {
        "id": "aEHGHrvTC7EC",
        "colab_type": "code",
        "outputId": "aa1dca59-aacd-40ab-b8f2-7aa8baff4760",
        "colab": {
          "base_uri": "https://localhost:8080/",
          "height": 85
        }
      },
      "cell_type": "code",
      "source": [
        "mynb = \"\"\"\n",
        "  blah blah \n",
        "  HI! This is python \n",
        "  \"\"\"\n",
        "print (mynb)"
      ],
      "execution_count": 0,
      "outputs": [
        {
          "output_type": "stream",
          "text": [
            "\n",
            "  blah blah \n",
            "  HI! This is python \n",
            "  \n"
          ],
          "name": "stdout"
        }
      ]
    },
    {
      "metadata": {
        "id": "dtHgRtUO19lt",
        "colab_type": "code",
        "outputId": "a48eb97f-107c-4e8d-bde7-e0177437ebd1",
        "colab": {
          "base_uri": "https://localhost:8080/",
          "height": 85
        }
      },
      "cell_type": "code",
      "source": [
        "spam =\"\"\"\n",
        " hi\n",
        " hello\n",
        "\"\"\"\n",
        "print(spam)"
      ],
      "execution_count": 0,
      "outputs": [
        {
          "output_type": "stream",
          "text": [
            "\n",
            " hi\n",
            " hello\n",
            "\n"
          ],
          "name": "stdout"
        }
      ]
    },
    {
      "metadata": {
        "id": "BqvCVL1BEd9H",
        "colab_type": "code",
        "outputId": "c83e242a-cc8c-4e07-ecfb-dbb5713e7b8d",
        "colab": {
          "base_uri": "https://localhost:8080/",
          "height": 170
        }
      },
      "cell_type": "code",
      "source": [
        "for i in range(1,10):\n",
        "  print(i)"
      ],
      "execution_count": 0,
      "outputs": [
        {
          "output_type": "stream",
          "text": [
            "1\n",
            "2\n",
            "3\n",
            "4\n",
            "5\n",
            "6\n",
            "7\n",
            "8\n",
            "9\n"
          ],
          "name": "stdout"
        }
      ]
    },
    {
      "metadata": {
        "id": "-s3WBCGnrfnJ",
        "colab_type": "code",
        "outputId": "1d012624-4227-4ada-c33e-f11de38efdf7",
        "colab": {
          "base_uri": "https://localhost:8080/",
          "height": 68
        }
      },
      "cell_type": "code",
      "source": [
        "for i in range(10,1,-3):\n",
        "  print(i)"
      ],
      "execution_count": 0,
      "outputs": [
        {
          "output_type": "stream",
          "text": [
            "10\n",
            "7\n",
            "4\n"
          ],
          "name": "stdout"
        }
      ]
    },
    {
      "metadata": {
        "colab_type": "text",
        "id": "J8C6L8e_HfA7"
      },
      "cell_type": "markdown",
      "source": [
        "### Variables\n",
        "\n",
        "You can name a variable anything as long as it obeys the following three rules:\n",
        "\n",
        "1. It can be only one word.\n",
        "2. It can use only letters, numbers, and the underscore (`_`) character.\n",
        "3. It can’t begin with a number.\n",
        "\n",
        "\n",
        "Example:"
      ]
    },
    {
      "metadata": {
        "id": "y2TCDGZzsgfJ",
        "colab_type": "code",
        "outputId": "8df1c01c-855a-43cf-ac68-02a33431823f",
        "colab": {
          "base_uri": "https://localhost:8080/",
          "height": 34
        }
      },
      "cell_type": "code",
      "source": [
        "print"
      ],
      "execution_count": 0,
      "outputs": [
        {
          "output_type": "execute_result",
          "data": {
            "text/plain": [
              "<function print>"
            ]
          },
          "metadata": {
            "tags": []
          },
          "execution_count": 1
        }
      ]
    },
    {
      "metadata": {
        "id": "fnbxxuQDsrRt",
        "colab_type": "code",
        "colab": {}
      },
      "cell_type": "code",
      "source": [
        ""
      ],
      "execution_count": 0,
      "outputs": []
    },
    {
      "metadata": {
        "colab_type": "code",
        "id": "wn8TXy3LHfA_",
        "outputId": "04f6d885-3f5e-4773-e514-3faad17a40a4",
        "colab": {
          "base_uri": "https://localhost:8080/",
          "height": 34
        }
      },
      "cell_type": "code",
      "source": [
        " spam = 5.2\n",
        " type(spam)"
      ],
      "execution_count": 0,
      "outputs": [
        {
          "output_type": "execute_result",
          "data": {
            "text/plain": [
              "float"
            ]
          },
          "metadata": {
            "tags": []
          },
          "execution_count": 2
        }
      ]
    },
    {
      "metadata": {
        "colab_type": "text",
        "id": "Vp00XNOwHfBH"
      },
      "cell_type": "markdown",
      "source": [
        "### Comments\n",
        "\n",
        "Inline comment:"
      ]
    },
    {
      "metadata": {
        "colab_type": "code",
        "id": "hri3fkGEHfBP",
        "colab": {}
      },
      "cell_type": "code",
      "source": [
        "# This is a comment"
      ],
      "execution_count": 0,
      "outputs": []
    },
    {
      "metadata": {
        "colab_type": "text",
        "id": "5x09mBzgHfBc"
      },
      "cell_type": "markdown",
      "source": [
        "Multiline comment:"
      ]
    },
    {
      "metadata": {
        "attributes": {
          "classes": [
            "Python"
          ],
          "id": ""
        },
        "colab_type": "code",
        "id": "Y89HXc8QHfBf",
        "colab": {}
      },
      "cell_type": "code",
      "source": [
        "# This is a\n",
        "# multiline comment"
      ],
      "execution_count": 0,
      "outputs": []
    },
    {
      "metadata": {
        "colab_type": "text",
        "id": "Hs9KfIC-HfBp"
      },
      "cell_type": "markdown",
      "source": [
        "Code with a comment:"
      ]
    },
    {
      "metadata": {
        "colab_type": "code",
        "id": "RbFxrtPnHfBs",
        "colab": {}
      },
      "cell_type": "code",
      "source": [
        "a = 1  # initialization"
      ],
      "execution_count": 0,
      "outputs": []
    },
    {
      "metadata": {
        "colab_type": "text",
        "id": "wM4PmctpHfCe"
      },
      "cell_type": "markdown",
      "source": [
        "Please note the two spaces in front of the comment.\n",
        "\n",
        "Function docstring:"
      ]
    },
    {
      "metadata": {
        "colab_type": "code",
        "id": "kxc0LNcmHfCg",
        "colab": {}
      },
      "cell_type": "code",
      "source": [
        "def sufoo():\n",
        "    \"\"\"\n",
        "    This is a function docstring\n",
        "    You can also use:\n",
        "    ''' Function Docstring '''\n",
        "    \"\"\""
      ],
      "execution_count": 0,
      "outputs": []
    },
    {
      "metadata": {
        "colab_type": "code",
        "id": "4_OSgJ5V7lX4",
        "outputId": "3fbfcb90-6365-493f-ab62-3182dfad105f",
        "colab": {
          "base_uri": "https://localhost:8080/",
          "height": 102
        }
      },
      "cell_type": "code",
      "source": [
        "#help(foo)\n",
        "help(abs)"
      ],
      "execution_count": 0,
      "outputs": [
        {
          "output_type": "stream",
          "text": [
            "Help on built-in function abs in module builtins:\n",
            "\n",
            "abs(x, /)\n",
            "    Return the absolute value of the argument.\n",
            "\n"
          ],
          "name": "stdout"
        }
      ]
    },
    {
      "metadata": {
        "id": "OwSPPYkiIkPG",
        "colab_type": "code",
        "outputId": "1890a937-1dc5-4754-a8ac-b6fe11fdbe6f",
        "colab": {
          "base_uri": "https://localhost:8080/",
          "height": 150
        }
      },
      "cell_type": "code",
      "source": [
        "def note(a, b, c):\n",
        "print(a)\n",
        "note(b=2 ,a=1, c=3)"
      ],
      "execution_count": 0,
      "outputs": [
        {
          "output_type": "error",
          "ename": "IndentationError",
          "evalue": "ignored",
          "traceback": [
            "\u001b[0;36m  File \u001b[0;32m\"<ipython-input-6-2abf0a11e96a>\"\u001b[0;36m, line \u001b[0;32m2\u001b[0m\n\u001b[0;31m    print(a)\u001b[0m\n\u001b[0m        ^\u001b[0m\n\u001b[0;31mIndentationError\u001b[0m\u001b[0;31m:\u001b[0m expected an indented block\n"
          ]
        }
      ]
    },
    {
      "metadata": {
        "colab_type": "text",
        "id": "JHfo6kXfHfCv"
      },
      "cell_type": "markdown",
      "source": [
        "### The print() Function"
      ]
    },
    {
      "metadata": {
        "colab_type": "code",
        "id": "6ib9R1KWHfCz",
        "outputId": "b37c10af-d49f-468b-c00e-bb92598e6d77",
        "colab": {
          "base_uri": "https://localhost:8080/",
          "height": 34
        }
      },
      "cell_type": "code",
      "source": [
        "print('Hello world!')"
      ],
      "execution_count": 0,
      "outputs": [
        {
          "output_type": "stream",
          "text": [
            "Hello world!\n"
          ],
          "name": "stdout"
        }
      ]
    },
    {
      "metadata": {
        "colab_type": "code",
        "id": "eTO_hOPhHfC_",
        "outputId": "3fa2a4f3-883f-4e88-bb07-6948378345af",
        "colab": {
          "base_uri": "https://localhost:8080/",
          "height": 137
        }
      },
      "cell_type": "code",
      "source": [
        "a = \"I\"\n",
        "b = \"am\"\n",
        "c = \"Paridhi\"\n",
        "print(a,\"\\n#\"*2,\"\\n\",b,\"\\n#\"*2,\"\\n\",c)"
      ],
      "execution_count": 0,
      "outputs": [
        {
          "output_type": "stream",
          "text": [
            "I \n",
            "#\n",
            "# \n",
            " am \n",
            "#\n",
            "# \n",
            " Paridhi\n"
          ],
          "name": "stdout"
        }
      ]
    },
    {
      "metadata": {
        "id": "jJty11TdBkp2",
        "colab_type": "code",
        "colab": {}
      },
      "cell_type": "code",
      "source": [
        ""
      ],
      "execution_count": 0,
      "outputs": []
    },
    {
      "metadata": {
        "colab_type": "text",
        "id": "uHCX7x9BHfDO"
      },
      "cell_type": "markdown",
      "source": [
        "[*Return to the Top*](#python-cheatsheet)\n",
        "\n",
        "### The input() Function\n",
        "\n",
        "Example Code:"
      ]
    },
    {
      "metadata": {
        "colab_type": "code",
        "id": "-Z9vFGdVHfDQ",
        "outputId": "cf839306-94c5-4710-a048-7e67d85f70e0",
        "colab": {
          "base_uri": "https://localhost:8080/",
          "height": 102
        }
      },
      "cell_type": "code",
      "source": [
        "print('What is your name?')   # ask for their name\n",
        "myName = input()\n",
        "age = int(input(\"Your age please: \"))\n",
        "print(type(age))\n",
        "print(f'It is good to meet you, {myName}. You are {age+1} years old')"
      ],
      "execution_count": 0,
      "outputs": [
        {
          "output_type": "stream",
          "text": [
            "What is your name?\n",
            "pari\n",
            "Your age please: 20\n",
            "<class 'int'>\n",
            "It is good to meet you, pari. You are 21 years old\n"
          ],
          "name": "stdout"
        }
      ]
    },
    {
      "metadata": {
        "colab_type": "code",
        "id": "qwt_naYhHfDm",
        "outputId": "3cb26bbf-40d6-4eac-d3bc-f0cb38650e09",
        "colab": {
          "base_uri": "https://localhost:8080/",
          "height": 188
        }
      },
      "cell_type": "code",
      "source": [
        "print('enter a value')\n",
        "i= int(input())\n",
        "while i<10:\n",
        "  print(i)\n",
        "  i+=1\n"
      ],
      "execution_count": 0,
      "outputs": [
        {
          "output_type": "stream",
          "text": [
            "enter a value\n",
            "2\n",
            "2\n",
            "3\n",
            "4\n",
            "5\n",
            "6\n",
            "7\n",
            "8\n",
            "9\n"
          ],
          "name": "stdout"
        }
      ]
    },
    {
      "metadata": {
        "colab_type": "text",
        "id": "qFnbUXL1HfD1"
      },
      "cell_type": "markdown",
      "source": [
        "[*Return to the Top*](#python-cheatsheet)\n",
        "\n",
        "### The str(), int(), and float() Functions\n",
        "\n",
        "Integer to String or Float:"
      ]
    },
    {
      "metadata": {
        "colab_type": "code",
        "id": "Gcr-Zt0-HfD3",
        "outputId": "cc19560f-58ac-4b24-f278-361f57d496e2",
        "colab": {
          "base_uri": "https://localhost:8080/",
          "height": 34
        }
      },
      "cell_type": "code",
      "source": [
        " str(29)"
      ],
      "execution_count": 0,
      "outputs": [
        {
          "output_type": "execute_result",
          "data": {
            "text/plain": [
              "'29'"
            ]
          },
          "metadata": {
            "tags": []
          },
          "execution_count": 13
        }
      ]
    },
    {
      "metadata": {
        "colab_type": "code",
        "id": "9UwoGZWPHfD7",
        "outputId": "16f29c7d-4f23-483c-e327-6fa3fb00ac3f",
        "colab": {
          "base_uri": "https://localhost:8080/",
          "height": 34
        }
      },
      "cell_type": "code",
      "source": [
        " Age = 29\n",
        " Name = \"Atin\" \n",
        " print(f'I am {Age} years old. {Name}')  "
      ],
      "execution_count": 0,
      "outputs": [
        {
          "output_type": "stream",
          "text": [
            "I am 29 years old. Atin\n"
          ],
          "name": "stdout"
        }
      ]
    },
    {
      "metadata": {
        "colab_type": "code",
        "id": "EeJtf3aKLcOE",
        "outputId": "877b9d5f-de93-4be7-b112-208660654dd0",
        "colab": {
          "base_uri": "https://localhost:8080/",
          "height": 34
        }
      },
      "cell_type": "code",
      "source": [
        "print('I am ' + str(Age) +  ' years old.' + Name)"
      ],
      "execution_count": 0,
      "outputs": [
        {
          "output_type": "stream",
          "text": [
            "I am 29 years old.Atin\n"
          ],
          "name": "stdout"
        }
      ]
    },
    {
      "metadata": {
        "colab_type": "code",
        "id": "jtio0RRRHfEB",
        "colab": {}
      },
      "cell_type": "code",
      "source": [
        " str(-3.14)"
      ],
      "execution_count": 0,
      "outputs": []
    },
    {
      "metadata": {
        "id": "6RD1haOzRlli",
        "colab_type": "text"
      },
      "cell_type": "markdown",
      "source": [
        ""
      ]
    },
    {
      "metadata": {
        "colab_type": "text",
        "id": "FpL-MP9XHfEG"
      },
      "cell_type": "markdown",
      "source": [
        "Float to Integer:"
      ]
    },
    {
      "metadata": {
        "colab_type": "code",
        "id": "734ZgESlHfEQ",
        "outputId": "d53bfc2a-2b14-4277-93fc-3a31622ab135",
        "colab": {
          "base_uri": "https://localhost:8080/",
          "height": 34
        }
      },
      "cell_type": "code",
      "source": [
        " int(7.7)"
      ],
      "execution_count": 0,
      "outputs": [
        {
          "output_type": "execute_result",
          "data": {
            "text/plain": [
              "7"
            ]
          },
          "metadata": {
            "tags": []
          },
          "execution_count": 1
        }
      ]
    },
    {
      "metadata": {
        "colab_type": "code",
        "id": "4ji7Vci3HfEm",
        "colab": {}
      },
      "cell_type": "code",
      "source": [
        " int(7.7) + 1"
      ],
      "execution_count": 0,
      "outputs": []
    },
    {
      "metadata": {
        "colab_type": "text",
        "id": "Glm6ML1cHfEv"
      },
      "cell_type": "markdown",
      "source": [
        "[*Return to the Top*](#python-cheatsheet)\n",
        "\n",
        "## Flow Control\n",
        "\n",
        "### Comparison Operators\n",
        "\n",
        "| Operator | Meaning                  |\n",
        "| -------- | ------------------------ |\n",
        "| `==`     | Equal to                 |\n",
        "| `!=`     | Not equal to             |\n",
        "| `<`      | Less than                |\n",
        "| `>`      | Greater Than             |\n",
        "| `<=`     | Less than or Equal to    |\n",
        "| `>=`     | Greater than or Equal to |\n",
        "\n",
        "These operators evaluate to True or False depending on the values you give them.\n",
        "\n",
        "Examples:"
      ]
    },
    {
      "metadata": {
        "colab_type": "code",
        "id": "uIJ62DhlHfEy",
        "outputId": "e43059e1-730b-4b92-94b7-21f6e0ebb08a",
        "colab": {
          "base_uri": "https://localhost:8080/",
          "height": 34
        }
      },
      "cell_type": "code",
      "source": [
        "42 == 42"
      ],
      "execution_count": 0,
      "outputs": [
        {
          "output_type": "execute_result",
          "data": {
            "text/plain": [
              "True"
            ]
          },
          "metadata": {
            "tags": []
          },
          "execution_count": 37
        }
      ]
    },
    {
      "metadata": {
        "colab_type": "code",
        "id": "33LiQV6XHfE2",
        "outputId": "9cb5c516-02cd-4e84-de28-1276fe473aab",
        "colab": {
          "base_uri": "https://localhost:8080/",
          "height": 34
        }
      },
      "cell_type": "code",
      "source": [
        "40 == 42"
      ],
      "execution_count": 0,
      "outputs": [
        {
          "output_type": "execute_result",
          "data": {
            "text/plain": [
              "False"
            ]
          },
          "metadata": {
            "tags": []
          },
          "execution_count": 38
        }
      ]
    },
    {
      "metadata": {
        "colab_type": "code",
        "id": "GH3PZEB1HfFH",
        "outputId": "cd34eb71-bd3b-4a4b-b777-d7746d747567",
        "colab": {
          "base_uri": "https://localhost:8080/",
          "height": 34
        }
      },
      "cell_type": "code",
      "source": [
        "'hello' == 'hello'"
      ],
      "execution_count": 0,
      "outputs": [
        {
          "output_type": "execute_result",
          "data": {
            "text/plain": [
              "True"
            ]
          },
          "metadata": {
            "tags": []
          },
          "execution_count": 39
        }
      ]
    },
    {
      "metadata": {
        "colab_type": "code",
        "id": "sHrjmvGhHfFN",
        "outputId": "4e818c42-9b7e-4908-90fe-3703303b97b9",
        "colab": {
          "base_uri": "https://localhost:8080/",
          "height": 34
        }
      },
      "cell_type": "code",
      "source": [
        "'hello' == 'Hello'"
      ],
      "execution_count": 0,
      "outputs": [
        {
          "output_type": "execute_result",
          "data": {
            "text/plain": [
              "False"
            ]
          },
          "metadata": {
            "tags": []
          },
          "execution_count": 40
        }
      ]
    },
    {
      "metadata": {
        "id": "yl4__Z1snh7R",
        "colab_type": "code",
        "colab": {}
      },
      "cell_type": "code",
      "source": [
        ""
      ],
      "execution_count": 0,
      "outputs": []
    },
    {
      "metadata": {
        "colab_type": "code",
        "id": "vqYXQmzPHfFS",
        "outputId": "cf32b9d0-4f8f-44ad-acba-11084a6fe38b",
        "colab": {
          "base_uri": "https://localhost:8080/",
          "height": 34
        }
      },
      "cell_type": "code",
      "source": [
        "'dog' != 'cat'"
      ],
      "execution_count": 0,
      "outputs": [
        {
          "output_type": "execute_result",
          "data": {
            "text/plain": [
              "True"
            ]
          },
          "metadata": {
            "tags": []
          },
          "execution_count": 41
        }
      ]
    },
    {
      "metadata": {
        "colab_type": "code",
        "id": "olNefIRDHfFX",
        "outputId": "7598c460-139b-4816-fa96-1c6e255fe046",
        "colab": {
          "base_uri": "https://localhost:8080/",
          "height": 34
        }
      },
      "cell_type": "code",
      "source": [
        "42 == 42.0"
      ],
      "execution_count": 0,
      "outputs": [
        {
          "output_type": "execute_result",
          "data": {
            "text/plain": [
              "True"
            ]
          },
          "metadata": {
            "tags": []
          },
          "execution_count": 42
        }
      ]
    },
    {
      "metadata": {
        "colab_type": "code",
        "id": "eZr4FqbdHfFc",
        "outputId": "51c7f8ac-67c4-4902-c194-53e9ef25977a",
        "colab": {
          "base_uri": "https://localhost:8080/",
          "height": 34
        }
      },
      "cell_type": "code",
      "source": [
        "42 == '42'"
      ],
      "execution_count": 0,
      "outputs": [
        {
          "output_type": "execute_result",
          "data": {
            "text/plain": [
              "False"
            ]
          },
          "metadata": {
            "tags": []
          },
          "execution_count": 43
        }
      ]
    },
    {
      "metadata": {
        "colab_type": "text",
        "id": "KA9q_PIkHfFg"
      },
      "cell_type": "markdown",
      "source": [
        "### Boolean evaluation\n",
        "\n",
        "Never use `==` or `!=` operator to evaluate boolean operation. Use the `is` or `is not` operators,\n",
        "or use implicit boolean evaluation.\n",
        "\n",
        "NO (even if they are valid Python):"
      ]
    },
    {
      "metadata": {
        "colab_type": "code",
        "id": "xwqHMPBiHfFh",
        "outputId": "ac6fa7aa-4b05-467a-b119-bfaaf866fbc6",
        "colab": {
          "base_uri": "https://localhost:8080/",
          "height": 34
        }
      },
      "cell_type": "code",
      "source": [
        "True == True\n"
      ],
      "execution_count": 0,
      "outputs": [
        {
          "output_type": "execute_result",
          "data": {
            "text/plain": [
              "True"
            ]
          },
          "metadata": {
            "tags": []
          },
          "execution_count": 44
        }
      ]
    },
    {
      "metadata": {
        "colab_type": "code",
        "id": "kjoTS13vHfFn",
        "outputId": "1f0d60a6-5ee7-490e-a8fb-e87a53cffd6e",
        "colab": {
          "base_uri": "https://localhost:8080/",
          "height": 34
        }
      },
      "cell_type": "code",
      "source": [
        "True != False\n"
      ],
      "execution_count": 0,
      "outputs": [
        {
          "output_type": "execute_result",
          "data": {
            "text/plain": [
              "True"
            ]
          },
          "metadata": {
            "tags": []
          },
          "execution_count": 45
        }
      ]
    },
    {
      "metadata": {
        "colab_type": "text",
        "id": "7xDrucmYHfFt"
      },
      "cell_type": "markdown",
      "source": [
        "YES (even if they are valid Python):"
      ]
    },
    {
      "metadata": {
        "colab_type": "code",
        "id": "kNBQHYtNHfFu",
        "outputId": "c33886ab-5b65-462f-96b2-263403bc270d",
        "colab": {
          "base_uri": "https://localhost:8080/",
          "height": 34
        }
      },
      "cell_type": "code",
      "source": [
        "True is True"
      ],
      "execution_count": 0,
      "outputs": [
        {
          "output_type": "execute_result",
          "data": {
            "text/plain": [
              "True"
            ]
          },
          "metadata": {
            "tags": []
          },
          "execution_count": 46
        }
      ]
    },
    {
      "metadata": {
        "colab_type": "code",
        "id": "nwoZxWuJHfF2",
        "outputId": "96d00ee7-a1a0-437c-d48c-3d30a5948c99",
        "colab": {
          "base_uri": "https://localhost:8080/",
          "height": 35
        }
      },
      "cell_type": "code",
      "source": [
        "True is not False"
      ],
      "execution_count": 0,
      "outputs": [
        {
          "output_type": "execute_result",
          "data": {
            "text/plain": [
              "True"
            ]
          },
          "metadata": {
            "tags": []
          },
          "execution_count": 13
        }
      ]
    },
    {
      "metadata": {
        "colab_type": "text",
        "id": "rcsldRtEHfGA"
      },
      "cell_type": "markdown",
      "source": [
        "These statements are equivalent:"
      ]
    },
    {
      "metadata": {
        "attributes": {
          "classes": [
            "Python"
          ],
          "id": ""
        },
        "colab_type": "code",
        "id": "Gl-ULIffHfGD",
        "outputId": "66d012ee-3d01-4620-eab2-1e8df579ac70",
        "colab": {
          "base_uri": "https://localhost:8080/",
          "height": 129
        }
      },
      "cell_type": "code",
      "source": [
        " value=input(\"a\")\n",
        "  if a is True:\n",
        "    I will do this and that later on for this. Mr Atin will give me input for that.\n",
        "     pass\n",
        " if a is not False:\n",
        "   pass\n",
        " if a:\n",
        "    pass"
      ],
      "execution_count": 0,
      "outputs": [
        {
          "output_type": "error",
          "ename": "IndentationError",
          "evalue": "ignored",
          "traceback": [
            "\u001b[0;36m  File \u001b[0;32m\"<ipython-input-9-290844fc4c03>\"\u001b[0;36m, line \u001b[0;32m2\u001b[0m\n\u001b[0;31m    if a is True:\u001b[0m\n\u001b[0m    ^\u001b[0m\n\u001b[0;31mIndentationError\u001b[0m\u001b[0;31m:\u001b[0m unexpected indent\n"
          ]
        }
      ]
    },
    {
      "metadata": {
        "colab_type": "text",
        "id": "M7acaNvtHfGJ"
      },
      "cell_type": "markdown",
      "source": [
        "And these as well:"
      ]
    },
    {
      "metadata": {
        "attributes": {
          "classes": [
            "Python"
          ],
          "id": ""
        },
        "colab_type": "code",
        "id": "jjGG8PvKHfGK",
        "outputId": "dda37bb3-9628-4235-a04c-e2c0fefb6c17",
        "colab": {
          "base_uri": "https://localhost:8080/",
          "height": 231
        }
      },
      "cell_type": "code",
      "source": [
        " if a is False:\n",
        "    pass\n",
        " if a is not True:\n",
        "    pass\n",
        " if not a:\n",
        "    pass"
      ],
      "execution_count": 0,
      "outputs": [
        {
          "output_type": "error",
          "ename": "NameError",
          "evalue": "ignored",
          "traceback": [
            "\u001b[0;31m---------------------------------------------------------------------------\u001b[0m",
            "\u001b[0;31mNameError\u001b[0m                                 Traceback (most recent call last)",
            "\u001b[0;32m<ipython-input-1-e90c3f7f61b8>\u001b[0m in \u001b[0;36m<module>\u001b[0;34m()\u001b[0m\n\u001b[0;32m----> 1\u001b[0;31m \u001b[0;32mif\u001b[0m \u001b[0ma\u001b[0m \u001b[0;32mis\u001b[0m \u001b[0;32mFalse\u001b[0m\u001b[0;34m:\u001b[0m\u001b[0;34m\u001b[0m\u001b[0;34m\u001b[0m\u001b[0m\n\u001b[0m\u001b[1;32m      2\u001b[0m    \u001b[0;32mpass\u001b[0m\u001b[0;34m\u001b[0m\u001b[0;34m\u001b[0m\u001b[0m\n\u001b[1;32m      3\u001b[0m \u001b[0;32mif\u001b[0m \u001b[0ma\u001b[0m \u001b[0;32mis\u001b[0m \u001b[0;32mnot\u001b[0m \u001b[0;32mTrue\u001b[0m\u001b[0;34m:\u001b[0m\u001b[0;34m\u001b[0m\u001b[0;34m\u001b[0m\u001b[0m\n\u001b[1;32m      4\u001b[0m    \u001b[0;32mpass\u001b[0m\u001b[0;34m\u001b[0m\u001b[0;34m\u001b[0m\u001b[0m\n\u001b[1;32m      5\u001b[0m \u001b[0;32mif\u001b[0m \u001b[0;32mnot\u001b[0m \u001b[0ma\u001b[0m\u001b[0;34m:\u001b[0m\u001b[0;34m\u001b[0m\u001b[0;34m\u001b[0m\u001b[0m\n",
            "\u001b[0;31mNameError\u001b[0m: name 'a' is not defined"
          ]
        }
      ]
    },
    {
      "metadata": {
        "colab_type": "code",
        "id": "8lQ-sk2sHfGQ",
        "outputId": "1fdc096b-978b-43ce-a333-0efa59ea605d",
        "colab": {
          "base_uri": "https://localhost:8080/",
          "height": 35
        }
      },
      "cell_type": "code",
      "source": [
        "(4 < 5) and (5 < 6)"
      ],
      "execution_count": 0,
      "outputs": [
        {
          "output_type": "execute_result",
          "data": {
            "text/plain": [
              "True"
            ]
          },
          "metadata": {
            "tags": []
          },
          "execution_count": 8
        }
      ]
    },
    {
      "metadata": {
        "colab_type": "code",
        "id": "DuXAvj8oHfGY",
        "colab": {}
      },
      "cell_type": "code",
      "source": [
        " (4 < 5) and (9 < 6)\n"
      ],
      "execution_count": 0,
      "outputs": []
    },
    {
      "metadata": {
        "colab_type": "code",
        "id": "A2dKR_-kHfGc",
        "colab": {}
      },
      "cell_type": "code",
      "source": [
        " (1 == 2) or (2 == 2)\n"
      ],
      "execution_count": 0,
      "outputs": []
    },
    {
      "metadata": {
        "colab_type": "code",
        "id": "OunkM43RHfGl",
        "outputId": "f012e49f-9af9-4390-a7a6-0026893ffdf6",
        "colab": {
          "base_uri": "https://localhost:8080/",
          "height": 35
        }
      },
      "cell_type": "code",
      "source": [
        " 2 + 2 == 4 and not 2 + 2 == 5 and 2 * 2 == 2 + 2"
      ],
      "execution_count": 0,
      "outputs": [
        {
          "output_type": "execute_result",
          "data": {
            "text/plain": [
              "True"
            ]
          },
          "metadata": {
            "tags": []
          },
          "execution_count": 9
        }
      ]
    },
    {
      "metadata": {
        "colab_type": "text",
        "id": "YgwCClWpHfGp"
      },
      "cell_type": "markdown",
      "source": [
        "[*Return to the Top*](#python-cheatsheet)\n",
        "\n",
        "### if Statements"
      ]
    },
    {
      "metadata": {
        "colab_type": "code",
        "id": "LnkiQzI8HfGq",
        "outputId": "251003be-fa92-4f9b-9c25-973c39f85cb1",
        "colab": {
          "base_uri": "https://localhost:8080/",
          "height": 68
        }
      },
      "cell_type": "code",
      "source": [
        "name = \"damini\"\n",
        "\n",
        "if name == 'damini':\n",
        "  print('Hi,damini.')\n",
        "  print('How are you')\n",
        "  \n",
        "  print('How are you')  \n"
      ],
      "execution_count": 0,
      "outputs": [
        {
          "output_type": "stream",
          "text": [
            "Hi,damini.\n",
            "How are you\n",
            "How are you\n"
          ],
          "name": "stdout"
        }
      ]
    },
    {
      "metadata": {
        "colab_type": "text",
        "id": "KYrrDpdbHfGv"
      },
      "cell_type": "markdown",
      "source": [
        "[*Return to the Top*](#python-cheatsheet)\n",
        "\n",
        "### else Statements"
      ]
    },
    {
      "metadata": {
        "colab_type": "code",
        "id": "9HIGGDNZHfGx",
        "outputId": "544f6d8e-10f4-466a-f4d6-ac855cb79489",
        "colab": {
          "base_uri": "https://localhost:8080/",
          "height": 34
        }
      },
      "cell_type": "code",
      "source": [
        "name = 'Bob'\n",
        "if name == 'Alice':\n",
        "    print('Hi, Alice.')\n",
        "else:\n",
        "    print('Hello, stranger.')"
      ],
      "execution_count": 0,
      "outputs": [
        {
          "output_type": "stream",
          "text": [
            "Hello, stranger.\n"
          ],
          "name": "stdout"
        }
      ]
    },
    {
      "metadata": {
        "colab_type": "text",
        "id": "gRReD5TIHfG1"
      },
      "cell_type": "markdown",
      "source": [
        "[*Return to the Top*](#python-cheatsheet)\n",
        "\n",
        "### elif Statements"
      ]
    },
    {
      "metadata": {
        "colab_type": "code",
        "id": "LfiPOwj3HfG3",
        "colab": {}
      },
      "cell_type": "code",
      "source": [
        "name = 'Bob'\n",
        "age = 5\n",
        "if name == 'Alice':\n",
        "    print('Hi, Alice.')\n",
        "elif age < 12:\n",
        "    print('You are not Alice, kiddo.')"
      ],
      "execution_count": 0,
      "outputs": []
    },
    {
      "metadata": {
        "colab_type": "code",
        "id": "dH7-i4GtHfG7",
        "colab": {}
      },
      "cell_type": "code",
      "source": [
        "name = 'Bob'\n",
        "age = 30\n",
        "if name == 'Alice':\n",
        "    print('Hi, Alice.')\n",
        "elif age < 12:\n",
        "    print('You are not Alice, kiddo.')\n",
        "else:\n",
        "    print('You are neither Alice nor a little kid.')"
      ],
      "execution_count": 0,
      "outputs": []
    },
    {
      "metadata": {
        "colab_type": "text",
        "id": "ySrcP14iHfHG"
      },
      "cell_type": "markdown",
      "source": [
        "[*Return to the Top*](#python-cheatsheet)\n",
        "\n",
        "### while Loop Statements"
      ]
    },
    {
      "metadata": {
        "colab_type": "code",
        "id": "d54cLR90HfHH",
        "outputId": "f9b5a666-58d0-4b1c-8956-7d9afd57d786",
        "colab": {
          "base_uri": "https://localhost:8080/",
          "height": 102
        }
      },
      "cell_type": "code",
      "source": [
        "spam = 0\n",
        "while spam < 5:\n",
        "    print('Hello, world.')\n",
        "    spam = spam + 1"
      ],
      "execution_count": 0,
      "outputs": [
        {
          "output_type": "stream",
          "text": [
            "Hello, world.\n",
            "Hello, world.\n",
            "Hello, world.\n",
            "Hello, world.\n",
            "Hello, world.\n"
          ],
          "name": "stdout"
        }
      ]
    },
    {
      "metadata": {
        "colab_type": "text",
        "id": "mL_cYd7dHfHN"
      },
      "cell_type": "markdown",
      "source": [
        "[*Return to the Top*](#python-cheatsheet)\n",
        "\n",
        "### break Statements\n",
        "\n",
        " If the execution reaches a break statement, it immediately exits the while loop’s clause:"
      ]
    },
    {
      "metadata": {
        "colab_type": "code",
        "id": "1igktt3NHfHO",
        "outputId": "9770ee4e-2db4-4ad4-8cdf-25ed6430711b",
        "colab": {
          "base_uri": "https://localhost:8080/",
          "height": 170
        }
      },
      "cell_type": "code",
      "source": [
        "while True:\n",
        "    print('Please type your name.')\n",
        "    name = input()\n",
        "    if name == 'your name':\n",
        "        break\n",
        "print('Thank you!')"
      ],
      "execution_count": 0,
      "outputs": [
        {
          "output_type": "stream",
          "text": [
            "Please type your name.\n",
            "hhjj\n",
            "Please type your name.\n",
            "true\n",
            "Please type your name.\n",
            "True\n",
            "Please type your name.\n",
            "your name\n",
            "Thank you!\n"
          ],
          "name": "stdout"
        }
      ]
    },
    {
      "metadata": {
        "colab_type": "text",
        "id": "RWVSU4pLHfHT"
      },
      "cell_type": "markdown",
      "source": [
        "[*Return to the Top*](#python-cheatsheet)\n",
        "\n",
        "### continue Statements\n",
        "\n",
        "When the program execution reaches a continue statement, the program execution immediately jumps back to the start of the loop."
      ]
    },
    {
      "metadata": {
        "colab_type": "code",
        "id": "ngkyfarpHfHV",
        "outputId": "2c338886-1c7d-4a5e-d002-95f023ca514a",
        "colab": {
          "base_uri": "https://localhost:8080/",
          "height": 51
        }
      },
      "cell_type": "code",
      "source": [
        "while True:\n",
        "    print('Who are you?')\n",
        "    name = input()\n",
        "    if name != 'Joe':\n",
        "        continue\n",
        "    print('Hello, Joe. What is the password? (It is a fish.)')\n",
        "    password = input()\n",
        "    if password == 'swordfish':\n",
        "        break\n",
        "print('Access granted.')"
      ],
      "execution_count": 0,
      "outputs": [
        {
          "output_type": "stream",
          "text": [
            "Who are you?\n",
            "Who are you?\n"
          ],
          "name": "stdout"
        }
      ]
    },
    {
      "metadata": {
        "id": "7NolEGXU2yix",
        "colab_type": "code",
        "colab": {}
      },
      "cell_type": "code",
      "source": [
        ""
      ],
      "execution_count": 0,
      "outputs": []
    },
    {
      "metadata": {
        "id": "VWHmxX8e2vGb",
        "colab_type": "code",
        "colab": {}
      },
      "cell_type": "code",
      "source": [
        ""
      ],
      "execution_count": 0,
      "outputs": []
    },
    {
      "metadata": {
        "colab_type": "text",
        "id": "vnXdsWhaHfHa"
      },
      "cell_type": "markdown",
      "source": [
        "[*Return to the Top*](#python-cheatsheet)\n",
        "\n",
        "### for Loops and the range() Function"
      ]
    },
    {
      "metadata": {
        "colab_type": "code",
        "id": "x2mvSn7WHfHc",
        "colab": {}
      },
      "cell_type": "code",
      "source": [
        " print('My name is')\n",
        " for i in range(50,41,-1):\n",
        "     print('Jimmy Five Times ({})'.format(str(i)))\n"
      ],
      "execution_count": 0,
      "outputs": []
    },
    {
      "metadata": {
        "id": "GHGc8YJI4YRW",
        "colab_type": "code",
        "colab": {}
      },
      "cell_type": "code",
      "source": [
        ""
      ],
      "execution_count": 0,
      "outputs": []
    },
    {
      "metadata": {
        "id": "xD6nOAph4HY_",
        "colab_type": "code",
        "colab": {}
      },
      "cell_type": "code",
      "source": [
        ""
      ],
      "execution_count": 0,
      "outputs": []
    },
    {
      "metadata": {
        "colab_type": "text",
        "id": "eN8ahM_VHfIN"
      },
      "cell_type": "markdown",
      "source": [
        "The *range()* function can also be called with three arguments. The first two arguments will be the start and stop values, and the third will be the step argument. The step is the amount that the variable is increased by after each iteration."
      ]
    },
    {
      "metadata": {
        "colab_type": "code",
        "id": "PJqdvSrPHfIP",
        "outputId": "54ce3e30-35ed-4409-8ba3-12e5be40953b",
        "colab": {
          "base_uri": "https://localhost:8080/",
          "height": 102
        }
      },
      "cell_type": "code",
      "source": [
        " for i in range(20, 10,-2):\n",
        "    print(i)\n"
      ],
      "execution_count": 0,
      "outputs": [
        {
          "output_type": "stream",
          "text": [
            "20\n",
            "18\n",
            "16\n",
            "14\n",
            "12\n"
          ],
          "name": "stdout"
        }
      ]
    },
    {
      "metadata": {
        "colab_type": "text",
        "id": "YUJs_cypHfIc"
      },
      "cell_type": "markdown",
      "source": [
        "You can even use a negative number for the step argument to make the for loop count down instead of up."
      ]
    },
    {
      "metadata": {
        "colab_type": "code",
        "id": "HoSLauxhHfIe",
        "outputId": "d75161d8-ed2f-40b1-c2af-97035ef362da",
        "colab": {
          "base_uri": "https://localhost:8080/",
          "height": 119
        }
      },
      "cell_type": "code",
      "source": [
        " for i in range(5, -1, -1):\n",
        "     print(i)"
      ],
      "execution_count": 0,
      "outputs": [
        {
          "output_type": "stream",
          "text": [
            "5\n",
            "4\n",
            "3\n",
            "2\n",
            "1\n",
            "0\n"
          ],
          "name": "stdout"
        }
      ]
    },
    {
      "metadata": {
        "colab_type": "text",
        "id": "x-V-uNkaHfIj"
      },
      "cell_type": "markdown",
      "source": [
        "### For else statement\n",
        "\n",
        "This allows to specify a statement to execute in case of the full loop has been executed. Only\n",
        "useful when a `break` condition can occur in the loop:"
      ]
    },
    {
      "metadata": {
        "colab_type": "code",
        "id": "yJp24D7QHfIm",
        "colab": {}
      },
      "cell_type": "code",
      "source": [
        " for i in [1, 2, 3, 4, 5]:\n",
        "    if i == 3:\n",
        "        break\n",
        " else:\n",
        "    print(\"only executed when no item of the list is equal to 3\")"
      ],
      "execution_count": 0,
      "outputs": []
    },
    {
      "metadata": {
        "id": "nYEDj9aR5XjQ",
        "colab_type": "code",
        "colab": {}
      },
      "cell_type": "code",
      "source": [
        ""
      ],
      "execution_count": 0,
      "outputs": []
    },
    {
      "metadata": {
        "colab_type": "text",
        "id": "l7phccqIHfIy"
      },
      "cell_type": "markdown",
      "source": [
        "[*Return to the Top*](#python-cheatsheet)\n",
        "\n",
        "## Lists"
      ]
    },
    {
      "metadata": {
        "colab_type": "code",
        "id": "d5OW7heEHfJL",
        "outputId": "59e7cd2a-37b4-4ff0-c4ca-035c02ee4fe9",
        "colab": {
          "base_uri": "https://localhost:8080/",
          "height": 34
        }
      },
      "cell_type": "code",
      "source": [
        " spam = ['cat', 'bat', 'rat', 'elephant', 50, 54.5]\n",
        "\n",
        " spam[-2]"
      ],
      "execution_count": 0,
      "outputs": [
        {
          "output_type": "execute_result",
          "data": {
            "text/plain": [
              "50"
            ]
          },
          "metadata": {
            "tags": []
          },
          "execution_count": 7
        }
      ]
    },
    {
      "metadata": {
        "colab_type": "text",
        "id": "hNVpfyW0HfJT"
      },
      "cell_type": "markdown",
      "source": [
        "[*Return to the Top*](#python-cheatsheet)\n",
        "\n",
        "### Getting Individual Values in a List with Indexes"
      ]
    },
    {
      "metadata": {
        "colab_type": "code",
        "id": "ETBMixUAHfJV",
        "outputId": "b1d7193a-3279-4aae-94f9-628a06696e97",
        "colab": {
          "base_uri": "https://localhost:8080/",
          "height": 34
        }
      },
      "cell_type": "code",
      "source": [
        " spam = ['cat', 'bat', 'rat', 'elephant']\n",
        " spam[0:4]"
      ],
      "execution_count": 0,
      "outputs": [
        {
          "output_type": "execute_result",
          "data": {
            "text/plain": [
              "['cat', 'bat', 'rat', 'elephant']"
            ]
          },
          "metadata": {
            "tags": []
          },
          "execution_count": 9
        }
      ]
    },
    {
      "metadata": {
        "colab_type": "code",
        "id": "FdTYxPg0HfJr",
        "outputId": "16ecf9eb-040b-4a60-8568-5a8f41f2bb2f",
        "colab": {
          "base_uri": "https://localhost:8080/",
          "height": 34
        }
      },
      "cell_type": "code",
      "source": [
        " spam[::]"
      ],
      "execution_count": 0,
      "outputs": [
        {
          "output_type": "execute_result",
          "data": {
            "text/plain": [
              "['cat', 'bat', 'rat', 'elephant']"
            ]
          },
          "metadata": {
            "tags": []
          },
          "execution_count": 12
        }
      ]
    },
    {
      "metadata": {
        "colab_type": "code",
        "id": "YynmiqrUHfJ4",
        "outputId": "43aa9bd2-9f67-4889-eaa1-626c7fd08a2a",
        "colab": {
          "base_uri": "https://localhost:8080/",
          "height": 34
        }
      },
      "cell_type": "code",
      "source": [
        " spam[2]"
      ],
      "execution_count": 0,
      "outputs": [
        {
          "output_type": "execute_result",
          "data": {
            "text/plain": [
              "'rat'"
            ]
          },
          "metadata": {
            "tags": []
          },
          "execution_count": 28
        }
      ]
    },
    {
      "metadata": {
        "colab_type": "code",
        "id": "AM_zlE9IHfJ9",
        "outputId": "422bb021-d833-415c-9aae-6f3c21c98dec",
        "colab": {
          "base_uri": "https://localhost:8080/",
          "height": 34
        }
      },
      "cell_type": "code",
      "source": [
        " spam[3]"
      ],
      "execution_count": 0,
      "outputs": [
        {
          "output_type": "execute_result",
          "data": {
            "text/plain": [
              "'elephant'"
            ]
          },
          "metadata": {
            "tags": []
          },
          "execution_count": 29
        }
      ]
    },
    {
      "metadata": {
        "colab_type": "text",
        "id": "mr7wnIbmHfKA"
      },
      "cell_type": "markdown",
      "source": [
        "[*Return to the Top*](#python-cheatsheet)\n",
        "\n",
        "### Negative Indexes"
      ]
    },
    {
      "metadata": {
        "colab_type": "code",
        "id": "_zSk1nLVHfKB",
        "outputId": "b1acf5f4-ba95-429b-f0ef-aa5ce3891c21",
        "colab": {
          "base_uri": "https://localhost:8080/",
          "height": 34
        }
      },
      "cell_type": "code",
      "source": [
        " spam = ['cat', 'bat', 'rat', 'elephant']\n",
        " \n",
        " spam[-2]"
      ],
      "execution_count": 0,
      "outputs": [
        {
          "output_type": "execute_result",
          "data": {
            "text/plain": [
              "'rat'"
            ]
          },
          "metadata": {
            "tags": []
          },
          "execution_count": 31
        }
      ]
    },
    {
      "metadata": {
        "colab_type": "code",
        "id": "mQEOdFilHfKG",
        "outputId": "a8848b56-f593-48a2-e68d-b1a5e9aed2df",
        "colab": {
          "base_uri": "https://localhost:8080/",
          "height": 34
        }
      },
      "cell_type": "code",
      "source": [
        " spam[-3]"
      ],
      "execution_count": 0,
      "outputs": [
        {
          "output_type": "execute_result",
          "data": {
            "text/plain": [
              "'bat'"
            ]
          },
          "metadata": {
            "tags": []
          },
          "execution_count": 56
        }
      ]
    },
    {
      "metadata": {
        "colab_type": "code",
        "id": "72OqJDJcHfKK",
        "outputId": "f32e3975-935b-439a-be78-bd859bd060aa",
        "colab": {
          "base_uri": "https://localhost:8080/",
          "height": 34
        }
      },
      "cell_type": "code",
      "source": [
        " 'The {} is afraid of the {}.'.format(spam[-1], spam[-3])"
      ],
      "execution_count": 0,
      "outputs": [
        {
          "output_type": "execute_result",
          "data": {
            "text/plain": [
              "'The elephant is afraid of the bat.'"
            ]
          },
          "metadata": {
            "tags": []
          },
          "execution_count": 57
        }
      ]
    },
    {
      "metadata": {
        "colab_type": "text",
        "id": "K-u7Gn5dHfKO"
      },
      "cell_type": "markdown",
      "source": [
        "[*Return to the Top*](#python-cheatsheet)\n",
        "\n",
        "### Getting Sublists with Slices"
      ]
    },
    {
      "metadata": {
        "colab_type": "code",
        "id": "JgY-iW_ZHfKO",
        "outputId": "c4c59b74-25c9-4192-f30a-e57b0524c49d",
        "colab": {
          "base_uri": "https://localhost:8080/",
          "height": 34
        }
      },
      "cell_type": "code",
      "source": [
        " spam = ['cat', 'bat', 'rat', 'elephant']\n",
        " spam[:3]"
      ],
      "execution_count": 0,
      "outputs": [
        {
          "output_type": "execute_result",
          "data": {
            "text/plain": [
              "['cat', 'bat', 'rat']"
            ]
          },
          "metadata": {
            "tags": []
          },
          "execution_count": 35
        }
      ]
    },
    {
      "metadata": {
        "colab_type": "code",
        "id": "qTABxbQNHfKS",
        "outputId": "ea28ba17-2576-4886-b140-14fa03629223",
        "colab": {
          "base_uri": "https://localhost:8080/",
          "height": 34
        }
      },
      "cell_type": "code",
      "source": [
        " spam[1:3]"
      ],
      "execution_count": 0,
      "outputs": [
        {
          "output_type": "execute_result",
          "data": {
            "text/plain": [
              "['bat', 'rat']"
            ]
          },
          "metadata": {
            "tags": []
          },
          "execution_count": 36
        }
      ]
    },
    {
      "metadata": {
        "colab_type": "code",
        "id": "MyLZlvWuHfKV",
        "outputId": "1a789004-1021-4b19-aaca-d980349072a9",
        "colab": {
          "base_uri": "https://localhost:8080/",
          "height": 34
        }
      },
      "cell_type": "code",
      "source": [
        " spam[-1:0:-1]"
      ],
      "execution_count": 0,
      "outputs": [
        {
          "output_type": "execute_result",
          "data": {
            "text/plain": [
              "['elephant', 'rat', 'bat']"
            ]
          },
          "metadata": {
            "tags": []
          },
          "execution_count": 37
        }
      ]
    },
    {
      "metadata": {
        "colab_type": "code",
        "id": "htCUW3tfHfKY",
        "colab": {}
      },
      "cell_type": "code",
      "source": [
        " spam = ['cat', 'bat', 'rat', 'elephant']\n",
        " spam[:2]"
      ],
      "execution_count": 0,
      "outputs": []
    },
    {
      "metadata": {
        "colab_type": "code",
        "id": "ls2HXMsPHfKb",
        "outputId": "7e1e71ee-5d90-4cf3-ea70-a3f9fe017684",
        "colab": {
          "base_uri": "https://localhost:8080/",
          "height": 34
        }
      },
      "cell_type": "code",
      "source": [
        " spam[1:]"
      ],
      "execution_count": 0,
      "outputs": [
        {
          "output_type": "execute_result",
          "data": {
            "text/plain": [
              "['bat', 'rat', 'elephant']"
            ]
          },
          "metadata": {
            "tags": []
          },
          "execution_count": 65
        }
      ]
    },
    {
      "metadata": {
        "colab_type": "text",
        "id": "cfW9TxIJHfKl"
      },
      "cell_type": "markdown",
      "source": [
        "[*Return to the Top*](#python-cheatsheet)\n",
        "\n",
        "### Getting a List’s Length with len()"
      ]
    },
    {
      "metadata": {
        "colab_type": "code",
        "id": "jAAzUkbrHfKn",
        "outputId": "2dd7d6da-fe55-4c46-b011-73bd649b6679",
        "colab": {
          "base_uri": "https://localhost:8080/",
          "height": 34
        }
      },
      "cell_type": "code",
      "source": [
        " spam = ['cat', 'dog', 'moose']\n",
        " len(spam)"
      ],
      "execution_count": 0,
      "outputs": [
        {
          "output_type": "execute_result",
          "data": {
            "text/plain": [
              "3"
            ]
          },
          "metadata": {
            "tags": []
          },
          "execution_count": 68
        }
      ]
    },
    {
      "metadata": {
        "colab_type": "text",
        "id": "mUFhWosXHfKq"
      },
      "cell_type": "markdown",
      "source": [
        "[*Return to the Top*](#python-cheatsheet)\n",
        "\n",
        "### Changing Values in a List with Indexes"
      ]
    },
    {
      "metadata": {
        "colab_type": "code",
        "id": "RifVGDFhHfKt",
        "outputId": "61cb2690-fe42-448a-92f3-362724fda551",
        "colab": {
          "base_uri": "https://localhost:8080/",
          "height": 68
        }
      },
      "cell_type": "code",
      "source": [
        " spam = ['cat', 'bat', 'rat', 'elephant']\n",
        " spam[1] = 'aardvark'\n",
        "\n",
        " print(spam)\n",
        "\n",
        "\n",
        " spam[2] = spam[1]\n",
        "\n",
        " print(spam)\n",
        "\n",
        "\n",
        " spam[-1] = 12345\n",
        "\n",
        " print(spam)\n"
      ],
      "execution_count": 0,
      "outputs": [
        {
          "output_type": "stream",
          "text": [
            "['cat', 'aardvark', 'rat', 'elephant']\n",
            "['cat', 'aardvark', 'aardvark', 'elephant']\n",
            "['cat', 'aardvark', 'aardvark', 12345]\n"
          ],
          "name": "stdout"
        }
      ]
    },
    {
      "metadata": {
        "colab_type": "text",
        "id": "Vptte-BfHfKw"
      },
      "cell_type": "markdown",
      "source": [
        "[*Return to the Top*](#python-cheatsheet)\n",
        "\n",
        "### List Concatenation and List Replication"
      ]
    },
    {
      "metadata": {
        "colab_type": "code",
        "id": "4FIEHutmHfKy",
        "outputId": "5fef6abb-8ce4-4780-f8e8-8271d03cdd6d",
        "colab": {
          "base_uri": "https://localhost:8080/",
          "height": 51
        }
      },
      "cell_type": "code",
      "source": [
        "[1, 2, 3] + ['A', 'B', 'C']\n",
        "\n",
        "print(['X', 'Y', 'Z'] * 3)\n",
        "\n",
        "spam = [1, 2, 3]\n",
        "\n",
        "spam = spam + ['A', 'B', 'C']\n",
        "\n",
        "spam"
      ],
      "execution_count": 0,
      "outputs": [
        {
          "output_type": "stream",
          "text": [
            "['X', 'Y', 'Z', 'X', 'Y', 'Z', 'X', 'Y', 'Z']\n"
          ],
          "name": "stdout"
        },
        {
          "output_type": "execute_result",
          "data": {
            "text/plain": [
              "[1, 2, 3, 'A', 'B', 'C']"
            ]
          },
          "metadata": {
            "tags": []
          },
          "execution_count": 31
        }
      ]
    },
    {
      "metadata": {
        "colab_type": "text",
        "id": "lzRJHzk3HfK1"
      },
      "cell_type": "markdown",
      "source": [
        "[*Return to the Top*](#python-cheatsheet)\n",
        "\n",
        "### Removing Values from Lists with del Statements"
      ]
    },
    {
      "metadata": {
        "colab_type": "code",
        "id": "34nbN1CxHfK5",
        "outputId": "928bafff-8d70-4eec-bb6c-cadfdf4e12fa",
        "colab": {
          "base_uri": "https://localhost:8080/",
          "height": 34
        }
      },
      "cell_type": "code",
      "source": [
        " spam = ['cat', 'bat', 'rat', 'elephant']\n",
        " del spam[2]\n",
        " spam"
      ],
      "execution_count": 0,
      "outputs": [
        {
          "output_type": "execute_result",
          "data": {
            "text/plain": [
              "['cat', 'bat', 'elephant']"
            ]
          },
          "metadata": {
            "tags": []
          },
          "execution_count": 19
        }
      ]
    },
    {
      "metadata": {
        "colab_type": "code",
        "id": "eEzCldOtHfK7",
        "outputId": "b735f1f1-1989-418d-a2ec-d3be855cf662",
        "colab": {
          "base_uri": "https://localhost:8080/",
          "height": 34
        }
      },
      "cell_type": "code",
      "source": [
        " del spam[2]\n",
        " spam"
      ],
      "execution_count": 0,
      "outputs": [
        {
          "output_type": "execute_result",
          "data": {
            "text/plain": [
              "['cat', 'bat']"
            ]
          },
          "metadata": {
            "tags": []
          },
          "execution_count": 80
        }
      ]
    },
    {
      "metadata": {
        "colab_type": "text",
        "id": "s8djslbXHfLA"
      },
      "cell_type": "markdown",
      "source": [
        "### The in and not in Operators"
      ]
    },
    {
      "metadata": {
        "colab_type": "code",
        "id": "fs_nVYI_HfLD",
        "outputId": "68f0b2b7-32bc-4694-ba88-ad97ccbb1afe",
        "colab": {
          "base_uri": "https://localhost:8080/",
          "height": 34
        }
      },
      "cell_type": "code",
      "source": [
        " if('howdy1' in ['hello', 'hi', 'howdy', 'heyas','howdy1']):\n",
        "  print (\"has\")"
      ],
      "execution_count": 0,
      "outputs": [
        {
          "output_type": "stream",
          "text": [
            "has\n"
          ],
          "name": "stdout"
        }
      ]
    },
    {
      "metadata": {
        "colab_type": "code",
        "id": "rJkCwHTJHfLI",
        "outputId": "8318b07d-7a16-44b2-ed4e-1b5175e5c6ba",
        "colab": {
          "base_uri": "https://localhost:8080/",
          "height": 34
        }
      },
      "cell_type": "code",
      "source": [
        " spam = ['hello', 'hi', 'howdy', 'heyas']\n",
        " 'radhika' in spam"
      ],
      "execution_count": 0,
      "outputs": [
        {
          "output_type": "execute_result",
          "data": {
            "text/plain": [
              "False"
            ]
          },
          "metadata": {
            "tags": []
          },
          "execution_count": 29
        }
      ]
    },
    {
      "metadata": {
        "colab_type": "code",
        "id": "rDAORTWRHfLL",
        "outputId": "71f62233-1a03-4f22-f188-298bda8b0701",
        "colab": {
          "base_uri": "https://localhost:8080/",
          "height": 34
        }
      },
      "cell_type": "code",
      "source": [
        " 'howdy' not in spam"
      ],
      "execution_count": 0,
      "outputs": [
        {
          "output_type": "execute_result",
          "data": {
            "text/plain": [
              "False"
            ]
          },
          "metadata": {
            "tags": []
          },
          "execution_count": 28
        }
      ]
    },
    {
      "metadata": {
        "colab_type": "code",
        "id": "rxAwVFfrHfLQ",
        "outputId": "f169fb24-e9f8-4777-daa1-ceb7263e7731",
        "colab": {
          "base_uri": "https://localhost:8080/",
          "height": 34
        }
      },
      "cell_type": "code",
      "source": [
        " 'radhika' not in spam"
      ],
      "execution_count": 0,
      "outputs": [
        {
          "output_type": "execute_result",
          "data": {
            "text/plain": [
              "True"
            ]
          },
          "metadata": {
            "tags": []
          },
          "execution_count": 30
        }
      ]
    },
    {
      "metadata": {
        "colab_type": "text",
        "id": "-Zx3ttQ7HfLU"
      },
      "cell_type": "markdown",
      "source": [
        "If the value appears multiple times in the list, only the first instance of the value will be removed.\n",
        "\n",
        "[*Return to the Top*](#python-cheatsheet)\n",
        "\n",
        "### Sorting the Values in a List with the sort() Method"
      ]
    },
    {
      "metadata": {
        "colab_type": "code",
        "id": "n4lHLDp-HfLW",
        "outputId": "a647f14d-5106-4a65-819a-17185510e75b",
        "colab": {
          "base_uri": "https://localhost:8080/",
          "height": 34
        }
      },
      "cell_type": "code",
      "source": [
        " spam = [2, 5, 3.14, 1, -7]\n",
        " spam.sort()\n",
        " spam"
      ],
      "execution_count": 0,
      "outputs": [
        {
          "output_type": "execute_result",
          "data": {
            "text/plain": [
              "[-7, 1, 2, 3.14, 5]"
            ]
          },
          "metadata": {
            "tags": []
          },
          "execution_count": 13
        }
      ]
    },
    {
      "metadata": {
        "colab_type": "code",
        "id": "sbn9HN2kHfLY",
        "outputId": "d19bbd23-1909-47b9-e312-809726bd2089",
        "colab": {
          "base_uri": "https://localhost:8080/",
          "height": 34
        }
      },
      "cell_type": "code",
      "source": [
        "spam = ['ants', 'cats', 'dogs', 'badgers', 'elephants']\n",
        "spam.sort()\n",
        "spam\n"
      ],
      "execution_count": 0,
      "outputs": [
        {
          "output_type": "execute_result",
          "data": {
            "text/plain": [
              "['ants', 'badgers', 'cats', 'dogs', 'elephants']"
            ]
          },
          "metadata": {
            "tags": []
          },
          "execution_count": 33
        }
      ]
    },
    {
      "metadata": {
        "colab_type": "code",
        "id": "vKvjZ9Nihv1F",
        "outputId": "627bad08-f8ca-47b7-c848-d23e07cc5126",
        "colab": {
          "base_uri": "https://localhost:8080/",
          "height": 34
        }
      },
      "cell_type": "code",
      "source": [
        "from random import shuffle \n",
        "\n",
        "\n",
        "shuffle(spam)\n",
        "print(spam)"
      ],
      "execution_count": 0,
      "outputs": [
        {
          "output_type": "stream",
          "text": [
            "['cats', 'badgers', 'elephants', 'ants', 'dogs']\n"
          ],
          "name": "stdout"
        }
      ]
    },
    {
      "metadata": {
        "colab_type": "text",
        "id": "2pfsvpCZHfLb"
      },
      "cell_type": "markdown",
      "source": [
        "You can also pass True for the reverse keyword argument to have sort() sort the values in reverse order:"
      ]
    },
    {
      "metadata": {
        "colab_type": "code",
        "id": "kp3n7jWnHfLc",
        "outputId": "b0dc8f41-9edc-4676-be43-8eee34a2e6d2",
        "colab": {
          "base_uri": "https://localhost:8080/",
          "height": 34
        }
      },
      "cell_type": "code",
      "source": [
        "spam.sort(reverse=True)\n",
        "spam\n"
      ],
      "execution_count": 0,
      "outputs": [
        {
          "output_type": "execute_result",
          "data": {
            "text/plain": [
              "['elephants', 'dogs', 'cats', 'badgers', 'ants']"
            ]
          },
          "metadata": {
            "tags": []
          },
          "execution_count": 35
        }
      ]
    },
    {
      "metadata": {
        "colab_type": "text",
        "id": "SdqBktXBHfLf"
      },
      "cell_type": "markdown",
      "source": [
        "[*Return to the Top*](#python-cheatsheet)\n",
        "\n",
        "### Tuple Data Type"
      ]
    },
    {
      "metadata": {
        "colab_type": "code",
        "id": "xoCYWaPHHfLg",
        "outputId": "6208d8f0-a30b-421b-d138-ed7f609e2596",
        "colab": {
          "base_uri": "https://localhost:8080/",
          "height": 34
        }
      },
      "cell_type": "code",
      "source": [
        "# Immutable\n",
        "# Can't change values after initialize\n",
        "# Tuple, String, Int, Float\n",
        "\n",
        "#Mutable\n",
        "# List, Dictionary, Array\n",
        "\n",
        "eggs = ('hello', 42, 0.5)\n",
        "eggs[0]\n"
      ],
      "execution_count": 0,
      "outputs": [
        {
          "output_type": "execute_result",
          "data": {
            "text/plain": [
              "'hello'"
            ]
          },
          "metadata": {
            "tags": []
          },
          "execution_count": 42
        }
      ]
    },
    {
      "metadata": {
        "colab_type": "code",
        "id": "_nZDo2XajRMX",
        "colab": {}
      },
      "cell_type": "code",
      "source": [
        "Age = 46"
      ],
      "execution_count": 0,
      "outputs": []
    },
    {
      "metadata": {
        "colab_type": "code",
        "id": "JIDMCY7_jghz",
        "outputId": "de624e10-9ed6-4cd1-854c-37d2443eabf6",
        "colab": {
          "base_uri": "https://localhost:8080/",
          "height": 34
        }
      },
      "cell_type": "code",
      "source": [
        "id(Age)"
      ],
      "execution_count": 0,
      "outputs": [
        {
          "output_type": "execute_result",
          "data": {
            "text/plain": [
              "10911840"
            ]
          },
          "metadata": {
            "tags": []
          },
          "execution_count": 89
        }
      ]
    },
    {
      "metadata": {
        "colab_type": "code",
        "id": "MkN3uPxQi7DR",
        "outputId": "799af5d2-27af-4c27-de8c-345a76ba8b88",
        "colab": {
          "base_uri": "https://localhost:8080/",
          "height": 34
        }
      },
      "cell_type": "code",
      "source": [
        "eggs = (45,58,65)\n",
        "'radhika' in spam\n"
      ],
      "execution_count": 0,
      "outputs": [
        {
          "output_type": "execute_result",
          "data": {
            "text/plain": [
              "False"
            ]
          },
          "metadata": {
            "tags": []
          },
          "execution_count": 43
        }
      ]
    },
    {
      "metadata": {
        "colab_type": "code",
        "id": "B6AOFgGVjM9e",
        "outputId": "f4e84e5e-c76c-4920-f3fe-1c4daa78edb0",
        "colab": {
          "base_uri": "https://localhost:8080/",
          "height": 34
        }
      },
      "cell_type": "code",
      "source": [
        "id(eggs)"
      ],
      "execution_count": 0,
      "outputs": [
        {
          "output_type": "execute_result",
          "data": {
            "text/plain": [
              "140676388615080"
            ]
          },
          "metadata": {
            "tags": []
          },
          "execution_count": 85
        }
      ]
    },
    {
      "metadata": {
        "colab_type": "code",
        "id": "sie5PDfkHfLi",
        "outputId": "8bfad822-59ba-476b-a6ff-390226ffcdd5",
        "colab": {
          "base_uri": "https://localhost:8080/",
          "height": 34
        }
      },
      "cell_type": "code",
      "source": [
        "eggs[1:3]\n"
      ],
      "execution_count": 0,
      "outputs": [
        {
          "output_type": "execute_result",
          "data": {
            "text/plain": [
              "(58, 65)"
            ]
          },
          "metadata": {
            "tags": []
          },
          "execution_count": 39
        }
      ]
    },
    {
      "metadata": {
        "colab_type": "code",
        "id": "7bPTvyMLHfLl",
        "outputId": "625f8250-cf34-452e-acfd-8d6374e38a0a",
        "colab": {
          "base_uri": "https://localhost:8080/",
          "height": 34
        }
      },
      "cell_type": "code",
      "source": [
        "len(eggs)\n"
      ],
      "execution_count": 0,
      "outputs": [
        {
          "output_type": "execute_result",
          "data": {
            "text/plain": [
              "3"
            ]
          },
          "metadata": {
            "tags": []
          },
          "execution_count": 40
        }
      ]
    },
    {
      "metadata": {
        "colab_type": "text",
        "id": "l5oObIumHfLx"
      },
      "cell_type": "markdown",
      "source": [
        "[*Return to the Top*](#python-cheatsheet)\n",
        "\n",
        "## Dictionaries and Structuring Data\n",
        "\n",
        "Example Dictionary:"
      ]
    },
    {
      "metadata": {
        "colab_type": "code",
        "id": "fm_iO4qMHfLy",
        "colab": {}
      },
      "cell_type": "code",
      "source": [
        "myCat = {'size': 'fat', 'color': 'gray', 'disposition': 'loud'}"
      ],
      "execution_count": 0,
      "outputs": []
    },
    {
      "metadata": {
        "colab_type": "code",
        "id": "zaiosEweolCd",
        "outputId": "b1348e17-90e3-4914-866b-c223e479e0d5",
        "colab": {
          "base_uri": "https://localhost:8080/",
          "height": 34
        }
      },
      "cell_type": "code",
      "source": [
        "myCat[\"size\"]"
      ],
      "execution_count": 0,
      "outputs": [
        {
          "output_type": "execute_result",
          "data": {
            "text/plain": [
              "'fat'"
            ]
          },
          "metadata": {
            "tags": []
          },
          "execution_count": 11
        }
      ]
    },
    {
      "metadata": {
        "id": "7Yd43juyDdva",
        "colab_type": "code",
        "colab": {}
      },
      "cell_type": "code",
      "source": [
        "def my_function():\n",
        "  print('hello world')\n",
        "  "
      ],
      "execution_count": 0,
      "outputs": []
    },
    {
      "metadata": {
        "id": "hNAxiy6LD17M",
        "colab_type": "code",
        "outputId": "be38fb33-39ff-4423-fd1c-89a5ba75ffbd",
        "colab": {
          "base_uri": "https://localhost:8080/",
          "height": 129
        }
      },
      "cell_type": "code",
      "source": [
        "  print my_function()"
      ],
      "execution_count": 0,
      "outputs": [
        {
          "output_type": "error",
          "ename": "SyntaxError",
          "evalue": "ignored",
          "traceback": [
            "\u001b[0;36m  File \u001b[0;32m\"<ipython-input-13-b9edea3359c3>\"\u001b[0;36m, line \u001b[0;32m1\u001b[0m\n\u001b[0;31m    print my_function()\u001b[0m\n\u001b[0m                    ^\u001b[0m\n\u001b[0;31mSyntaxError\u001b[0m\u001b[0;31m:\u001b[0m invalid syntax\n"
          ]
        }
      ]
    },
    {
      "metadata": {
        "id": "5BdqCIvkD_w5",
        "colab_type": "code",
        "outputId": "77eb6773-b3a7-4bbb-95b9-6872311ee93a",
        "colab": {
          "base_uri": "https://localhost:8080/",
          "height": 34
        }
      },
      "cell_type": "code",
      "source": [
        "fullname=(\"Atin\",\"Gupta\")\n",
        "fullname"
      ],
      "execution_count": 0,
      "outputs": [
        {
          "output_type": "execute_result",
          "data": {
            "text/plain": [
              "('Atin', 'Gupta')"
            ]
          },
          "metadata": {
            "tags": []
          },
          "execution_count": 16
        }
      ]
    },
    {
      "metadata": {
        "id": "4SYQg0OJ8H-0",
        "colab_type": "code",
        "colab": {}
      },
      "cell_type": "code",
      "source": [
        "firstname, lastname = fullname\n",
        "firstname = fullname[0]\n",
        "lastname = fullname[1]"
      ],
      "execution_count": 0,
      "outputs": []
    },
    {
      "metadata": {
        "id": "mhIDK5q78kEo",
        "colab_type": "code",
        "colab": {}
      },
      "cell_type": "code",
      "source": [
        "def getFullname():\n",
        "  return \"Atin\",\"Gupta\"\n",
        "a,b = getFullname()\n",
        "  \n"
      ],
      "execution_count": 0,
      "outputs": []
    },
    {
      "metadata": {
        "id": "LUmlMg0l9RCx",
        "colab_type": "code",
        "outputId": "e11be213-83e8-4377-fe94-87e9ad16f565",
        "colab": {
          "base_uri": "https://localhost:8080/",
          "height": 34
        }
      },
      "cell_type": "code",
      "source": [
        "a=6\n",
        "id(a)"
      ],
      "execution_count": 0,
      "outputs": [
        {
          "output_type": "execute_result",
          "data": {
            "text/plain": [
              "10910560"
            ]
          },
          "metadata": {
            "tags": []
          },
          "execution_count": 26
        }
      ]
    },
    {
      "metadata": {
        "id": "_AceMXNs-Hp9",
        "colab_type": "code",
        "outputId": "bbfaf6a8-9aec-4bc1-88be-8e13d73444c3",
        "colab": {
          "base_uri": "https://localhost:8080/",
          "height": 34
        }
      },
      "cell_type": "code",
      "source": [
        "list=[1,2,3,4]\n",
        "list\n",
        "id(list)"
      ],
      "execution_count": 0,
      "outputs": [
        {
          "output_type": "execute_result",
          "data": {
            "text/plain": [
              "140604490517768"
            ]
          },
          "metadata": {
            "tags": []
          },
          "execution_count": 35
        }
      ]
    },
    {
      "metadata": {
        "id": "6Csce4pP-uvf",
        "colab_type": "code",
        "outputId": "5c317b56-5fe3-4e04-95a9-04d8431c0cc1",
        "colab": {
          "base_uri": "https://localhost:8080/",
          "height": 34
        }
      },
      "cell_type": "code",
      "source": [
        "list[2]=7\n",
        "list\n"
      ],
      "execution_count": 0,
      "outputs": [
        {
          "output_type": "execute_result",
          "data": {
            "text/plain": [
              "[1, 2, 7, 4]"
            ]
          },
          "metadata": {
            "tags": []
          },
          "execution_count": 32
        }
      ]
    },
    {
      "metadata": {
        "id": "iJVSyYnw-z3T",
        "colab_type": "code",
        "outputId": "ed354e6c-bb01-4b4c-a4f0-0af9900788d3",
        "colab": {
          "base_uri": "https://localhost:8080/",
          "height": 34
        }
      },
      "cell_type": "code",
      "source": [
        "id(list)\n"
      ],
      "execution_count": 0,
      "outputs": [
        {
          "output_type": "execute_result",
          "data": {
            "text/plain": [
              "140604490515720"
            ]
          },
          "metadata": {
            "tags": []
          },
          "execution_count": 33
        }
      ]
    },
    {
      "metadata": {
        "id": "CiZBatkv_Vgt",
        "colab_type": "code",
        "colab": {}
      },
      "cell_type": "code",
      "source": [
        ""
      ],
      "execution_count": 0,
      "outputs": []
    }
  ]
}