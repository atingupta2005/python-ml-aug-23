{
  "cells": [
    {
      "cell_type": "markdown",
      "metadata": {
        "id": "cJX-h1zvndiv"
      },
      "source": [
        "Enumerate\n",
        "\n",
        "This lets you take the element's index and use it as a variable."
      ]
    },
    {
      "cell_type": "code",
      "execution_count": null,
      "metadata": {
        "id": "lBUEGopondi1",
        "outputId": "27b2f85a-a958-4ac6-d591-078b04fa5b17"
      },
      "outputs": [
        {
          "name": "stdout",
          "output_type": "stream",
          "text": [
            "0 : apple\n",
            "1 : blueberry\n",
            "2 : lemon\n"
          ]
        }
      ],
      "source": [
        "pies = ['apple', 'blueberry', 'lemon']\n",
        "\n",
        "for num, i in enumerate(pies):\n",
        "    print(num, ':', i)"
      ]
    },
    {
      "cell_type": "markdown",
      "metadata": {
        "id": "KovVOutindi-"
      },
      "source": [
        "## Comprehensions\n",
        "\n",
        "### Are a quicker way to create lists, dicts and sets, they act like for loops and can take conditions as well as if else statements.\n",
        "\n",
        "#### List comprehension"
      ]
    },
    {
      "cell_type": "code",
      "execution_count": null,
      "metadata": {
        "id": "JBRdGsuwndjA",
        "outputId": "47d53e3e-9c2f-4769-c4db-543cde896c80"
      },
      "outputs": [
        {
          "name": "stdout",
          "output_type": "stream",
          "text": [
            "[1, 2, 3, 4, 5, 6, 7, 8, 9, 10]\n",
            "[11, 12, 13, 14, 15, 16, 17, 18, 19, 20]\n"
          ]
        }
      ],
      "source": [
        "# Manual way to make a list\n",
        "\n",
        "list_1 = [1, 2, 3, 4, 5, 6, 7, 8, 9, 10]\n",
        "list_2 = [11, 12, 13, 14, 15, 16, 17, 18, 19, 20]\n",
        "\n",
        "print(list_1)\n",
        "print(list_2)"
      ]
    },
    {
      "cell_type": "code",
      "execution_count": null,
      "metadata": {
        "id": "OjtGUq2FndjD",
        "outputId": "a246bf66-6460-4b00-8998-3d076462dd14"
      },
      "outputs": [
        {
          "name": "stdout",
          "output_type": "stream",
          "text": [
            "[1, 2, 3, 4, 5, 6, 7, 8, 9, 10]\n",
            "[11, 12, 13, 14, 15, 16, 17, 18, 19, 20]\n"
          ]
        }
      ],
      "source": [
        "# Using list()\n",
        "\n",
        "list_1_with_list = list(range(1, 11))\n",
        "list_2_with_list = list(range(11, 21))\n",
        "\n",
        "print(list_1_with_list)\n",
        "print(list_2_with_list)"
      ]
    },
    {
      "cell_type": "code",
      "execution_count": null,
      "metadata": {
        "id": "YWaRuX-YndjF",
        "outputId": "536b4342-e238-48c0-8de2-889840c919f1"
      },
      "outputs": [
        {
          "name": "stdout",
          "output_type": "stream",
          "text": [
            "[1, 2, 3, 4, 5, 6, 7, 8, 9, 10]\n",
            "[11, 12, 13, 14, 15, 16, 17, 18, 19, 20]\n"
          ]
        }
      ],
      "source": [
        "# List comprehension autogenerates the list, they function closely to for loops.\n",
        "\n",
        "list_1_with_comp = [x for x in range(1, 11)]\n",
        "list_2_with_comp = [x for x in range(11, 21)]\n",
        "\n",
        "print(list_1_with_comp)\n",
        "print(list_2_with_comp)"
      ]
    },
    {
      "cell_type": "code",
      "execution_count": null,
      "metadata": {
        "id": "DmAlWIMDndjH",
        "outputId": "82251733-eff8-40f9-9fbd-e43eea5c6155"
      },
      "outputs": [
        {
          "data": {
            "text/plain": [
              "[0, 2, 4]"
            ]
          },
          "execution_count": 7,
          "metadata": {},
          "output_type": "execute_result"
        }
      ],
      "source": [
        "# Works with functions.\n",
        "\n",
        "def addition(x):\n",
        "    return x + x\n",
        "\n",
        "[addition(x) for x in range(0, 3)]"
      ]
    },
    {
      "cell_type": "code",
      "execution_count": null,
      "metadata": {
        "id": "jy7VimOrndjI",
        "outputId": "923fc5c8-1285-49d0-fdc5-57057e8b65bf"
      },
      "outputs": [
        {
          "data": {
            "text/plain": [
              "[4, 3, 6, 5, 8, 7, 10, 9, 12, 11]"
            ]
          },
          "execution_count": 8,
          "metadata": {},
          "output_type": "execute_result"
        }
      ],
      "source": [
        "# Also works with conditions\n",
        "# The % is modulus which gives you the remainder after division.\n",
        "\n",
        "# If an number is even add 1 if it's odd add 3\n",
        "\n",
        "[x + 1 if x%2 ==0 else x + 3 for x in range(1, 11)]"
      ]
    },
    {
      "cell_type": "markdown",
      "metadata": {
        "id": "w3d0d4syndjK"
      },
      "source": [
        "### Set comprehension"
      ]
    },
    {
      "cell_type": "code",
      "execution_count": null,
      "metadata": {
        "id": "GZYIozknndjO"
      },
      "outputs": [],
      "source": [
        "# Set comprehension is same format as list comprehension but uses curly brackets.\n",
        "\n",
        "set_1_with_comp = {x for x in range(1, 11)}\n",
        "set_2_with_comp = {x for x in range(11, 21)}"
      ]
    },
    {
      "cell_type": "code",
      "execution_count": null,
      "metadata": {
        "id": "ZrVZVwvSndjP",
        "outputId": "d6e5b510-5a97-4652-e427-506f1b92a59e"
      },
      "outputs": [
        {
          "name": "stdout",
          "output_type": "stream",
          "text": [
            "{1, 2, 3, 4, 5, 6, 7, 8, 9, 10}\n",
            "{11, 12, 13, 14, 15, 16, 17, 18, 19, 20}\n"
          ]
        }
      ],
      "source": [
        "print(set_1_with_comp)\n",
        "print(set_2_with_comp)"
      ]
    },
    {
      "cell_type": "markdown",
      "metadata": {
        "id": "KnvrfNNMndjR"
      },
      "source": [
        "### Dict comprehension"
      ]
    },
    {
      "cell_type": "code",
      "execution_count": null,
      "metadata": {
        "id": "LtDLlkw3ndjS",
        "outputId": "a6829e85-3d7a-40c6-8184-3d1402f8682e"
      },
      "outputs": [
        {
          "data": {
            "text/plain": [
              "{'1': 1, '2': 2, '3': 3, '4': 4, '5': 5}"
            ]
          },
          "execution_count": 16,
          "metadata": {},
          "output_type": "execute_result"
        }
      ],
      "source": [
        "# dict comprehension to create dict with numbers as values\n",
        "{str(i):i for i in [1,2,3,4,5]}"
      ]
    },
    {
      "cell_type": "code",
      "execution_count": null,
      "metadata": {
        "id": "Sb2VSJTFndjT"
      },
      "outputs": [],
      "source": [
        "strName = \"Atin\""
      ]
    },
    {
      "cell_type": "markdown",
      "metadata": {
        "id": "3gbqArCGndjU"
      },
      "source": [
        "## Lists: popping elements "
      ]
    },
    {
      "cell_type": "code",
      "execution_count": null,
      "metadata": {
        "id": "jgeVh6wQndjV"
      },
      "outputs": [],
      "source": [
        "tasks = [\"email Frank\", \"call Sarah\", \"meet with Zach\"] "
      ]
    },
    {
      "cell_type": "code",
      "execution_count": null,
      "metadata": {
        "id": "D8f_B7ixndjW",
        "outputId": "bc312813-f00e-455e-969f-17186b32fd01"
      },
      "outputs": [
        {
          "data": {
            "text/plain": [
              "'meet with Zach'"
            ]
          },
          "execution_count": 45,
          "metadata": {},
          "output_type": "execute_result"
        }
      ],
      "source": [
        "latest_task_accomplished = tasks.pop()\n",
        "latest_task_accomplished"
      ]
    },
    {
      "cell_type": "code",
      "execution_count": null,
      "metadata": {
        "id": "YqKQZOzEndjX",
        "outputId": "e1c4ecf0-82a2-407e-ea40-b7f665350368"
      },
      "outputs": [
        {
          "data": {
            "text/plain": [
              "'call Sarah'"
            ]
          },
          "execution_count": 47,
          "metadata": {},
          "output_type": "execute_result"
        }
      ],
      "source": [
        "tasks = [\"email Frank\", \"call Sarah\", \"meet with Zach\"] \n",
        "latest_task_accomplished = tasks.pop(1)   # Pops the element from index position 1\n",
        "latest_task_accomplished"
      ]
    },
    {
      "cell_type": "markdown",
      "metadata": {
        "id": "e5rc8EOendjY"
      },
      "source": [
        "### Input always returns string values"
      ]
    },
    {
      "cell_type": "code",
      "execution_count": null,
      "metadata": {
        "id": "9yvzPK4wndja",
        "outputId": "ea969857-3c99-470b-837f-ea3b31480ee0"
      },
      "outputs": [
        {
          "name": "stdout",
          "output_type": "stream",
          "text": [
            "Enter your monthly income: 1200\n"
          ]
        }
      ],
      "source": [
        "monthly_income = input(\"Enter your monthly income: \")\n"
      ]
    },
    {
      "cell_type": "code",
      "execution_count": null,
      "metadata": {
        "id": "QHuCSKw-ndjc",
        "outputId": "aae38f15-132c-463d-e23c-9aa5dd8c1301"
      },
      "outputs": [
        {
          "data": {
            "text/plain": [
              "str"
            ]
          },
          "execution_count": 52,
          "metadata": {},
          "output_type": "execute_result"
        }
      ],
      "source": [
        "type(monthly_income)"
      ]
    },
    {
      "cell_type": "code",
      "execution_count": null,
      "metadata": {
        "id": "qp7MZA9endjd",
        "outputId": "cd516bcf-828f-4e15-e9f3-598aa0c94def"
      },
      "outputs": [
        {
          "data": {
            "text/plain": [
              "int"
            ]
          },
          "execution_count": 53,
          "metadata": {},
          "output_type": "execute_result"
        }
      ],
      "source": [
        "monthly_income = int(monthly_income)\n",
        "type(monthly_income)"
      ]
    },
    {
      "cell_type": "markdown",
      "metadata": {
        "id": "wFf5jL-Gndje"
      },
      "source": [
        "## Dictionaries: How to pick information out of them "
      ]
    },
    {
      "cell_type": "code",
      "execution_count": null,
      "metadata": {
        "id": "6d-3gj7Andje"
      },
      "outputs": [],
      "source": [
        "customer_29876 = {\"first name\": \"David\", \"last name\": \"Elliott\", \"address\": \"4803 Wellesley St.\"} "
      ]
    },
    {
      "cell_type": "code",
      "execution_count": null,
      "metadata": {
        "id": "n3B8ym1cndjf",
        "outputId": "147757fe-e543-422a-b7a5-64653137d55d"
      },
      "outputs": [
        {
          "data": {
            "text/plain": [
              "{'first name': 'David',\n",
              " 'last name': 'Elliott',\n",
              " 'address': '4803 Wellesley St.'}"
            ]
          },
          "execution_count": 63,
          "metadata": {},
          "output_type": "execute_result"
        }
      ],
      "source": [
        "customer_29876"
      ]
    },
    {
      "cell_type": "code",
      "execution_count": null,
      "metadata": {
        "id": "7gINBD-1ndjg",
        "outputId": "3314b644-c0bb-4221-8281-1397e9612c17"
      },
      "outputs": [
        {
          "data": {
            "text/plain": [
              "'4803 Wellesley St.'"
            ]
          },
          "execution_count": 59,
          "metadata": {},
          "output_type": "execute_result"
        }
      ],
      "source": [
        "address_of_customer = customer_29876[\"address\"]\n",
        "address_of_customer"
      ]
    },
    {
      "cell_type": "code",
      "execution_count": null,
      "metadata": {
        "id": "yF5yzh9Fndjh"
      },
      "outputs": [],
      "source": [
        "customer_29876[\"city\"] = \"Toronto\" "
      ]
    },
    {
      "cell_type": "code",
      "execution_count": null,
      "metadata": {
        "id": "rLgLzga2ndjh",
        "outputId": "501d2780-e54c-4b15-816b-7711f7556b39"
      },
      "outputs": [
        {
          "data": {
            "text/plain": [
              "{'first name': 'David',\n",
              " 'last name': 'Elliott',\n",
              " 'address': '4803 Wellesley St.',\n",
              " 'city': 'Toronto'}"
            ]
          },
          "execution_count": 61,
          "metadata": {},
          "output_type": "execute_result"
        }
      ],
      "source": [
        "customer_29876"
      ]
    },
    {
      "cell_type": "code",
      "execution_count": null,
      "metadata": {
        "id": "wTOEaJIxndjj"
      },
      "outputs": [],
      "source": [
        "# Empty Dictionery\n",
        "things_to_remember = {} "
      ]
    },
    {
      "cell_type": "code",
      "execution_count": null,
      "metadata": {
        "id": "BfsS8pj7ndjk"
      },
      "outputs": [],
      "source": [
        "things_to_remember[0] = \"the lowest number\"\n",
        "things_to_remember[\"a dozen\"] = 12 "
      ]
    },
    {
      "cell_type": "code",
      "execution_count": null,
      "metadata": {
        "id": "0m_rYGETndjl",
        "outputId": "76e8b352-8bc7-4156-d1e3-cec0ebad5b83"
      },
      "outputs": [
        {
          "data": {
            "text/plain": [
              "{0: 'the lowest number', 'a dozen': 12}"
            ]
          },
          "execution_count": 66,
          "metadata": {},
          "output_type": "execute_result"
        }
      ],
      "source": [
        "things_to_remember"
      ]
    },
    {
      "cell_type": "code",
      "execution_count": null,
      "metadata": {
        "id": "bcZw0Gmpndjm",
        "outputId": "69116a4c-8970-4628-8e03-6fd61d40fc2d"
      },
      "outputs": [
        {
          "data": {
            "text/plain": [
              "['Alice', 'Bob', 'Jane']"
            ]
          },
          "execution_count": 67,
          "metadata": {},
          "output_type": "execute_result"
        }
      ],
      "source": [
        "# When declaring list/set/dict constants, end all lines with a comma.\n",
        "\n",
        "names = [\n",
        "    'Alice',\n",
        "    'Bob',\n",
        "    'Jane',\n",
        "]\n",
        "names"
      ]
    },
    {
      "cell_type": "code",
      "execution_count": null,
      "metadata": {
        "id": "s8zZ-PBYndjn",
        "outputId": "f273db21-622e-4dd3-a296-ff77c9c13320"
      },
      "outputs": [
        {
          "data": {
            "text/plain": [
              "['Alice', 'Bob', 'JaneKen']"
            ]
          },
          "execution_count": 69,
          "metadata": {},
          "output_type": "execute_result"
        }
      ],
      "source": [
        "# This helps avoiding errors related to removing/adding items to constance (due to Python's string literal concatenation), \n",
        "# such as:\n",
        "\n",
        "names = [\n",
        "    'Alice',\n",
        "    'Bob',\n",
        "    'Jane'\n",
        "    'Ken'\n",
        "]\n",
        "names"
      ]
    },
    {
      "cell_type": "markdown",
      "metadata": {
        "id": "26_xwGdsndjo"
      },
      "source": [
        "## Underscores, Dunders, and More\n",
        "\n"
      ]
    },
    {
      "cell_type": "markdown",
      "metadata": {
        "id": "0kLVjkJondjp"
      },
      "source": [
        "### Single leading underscore _var\n",
        "By convention, the name is meant for internal use only.\n",
        "\n",
        "### Single trailing underscore var_\n",
        "By convention, to avoid name clashes with language keywords.\n",
        "\n",
        "### Double leading underscore (dunder) __var\n",
        "Interpreter's name mangling rewrites attribute name to create collisions.\n",
        "\n",
        "### Double learing and trailing __var__\n",
        "Prevents name mangling and have special meaning.\n",
        "\n",
        "### Single underscore _\n",
        "By convention, used for 'don't care' variables.\n"
      ]
    },
    {
      "cell_type": "markdown",
      "metadata": {
        "id": "HaB5bBv0ndjs"
      },
      "source": [
        "\n",
        "## Effective Functions\n",
        "### Python’s Functions Are First-Class Object\n"
      ]
    },
    {
      "cell_type": "code",
      "execution_count": null,
      "metadata": {
        "id": "Xf7CPNTJndju",
        "outputId": "d4d112e6-e56d-4b84-c616-37fd0c46897f"
      },
      "outputs": [
        {
          "data": {
            "text/plain": [
              "0"
            ]
          },
          "execution_count": 77,
          "metadata": {},
          "output_type": "execute_result"
        }
      ],
      "source": [
        "def get_minus(which):\n",
        "    def minus_one(num):\n",
        "        return num - 1\n",
        "    def minus_two(num):\n",
        "        return num -2\n",
        "    if which == 1:\n",
        "        return minus_one\n",
        "    else:\n",
        "        return minus_two\n",
        "\n",
        "    \n",
        "fun = get_minus(2)\n",
        "fun(2)"
      ]
    },
    {
      "cell_type": "markdown",
      "metadata": {
        "id": "1DdbENqPndjv"
      },
      "source": [
        "### Higher-order functions\n",
        "#### Accept behaviours through arguments\n"
      ]
    },
    {
      "cell_type": "code",
      "execution_count": null,
      "metadata": {
        "id": "CL13u2sendjv",
        "outputId": "3b2bc5f0-c98f-464f-ae11-c06ff9cca0e9"
      },
      "outputs": [
        {
          "data": {
            "text/plain": [
              "-2"
            ]
          },
          "execution_count": 80,
          "metadata": {},
          "output_type": "execute_result"
        }
      ],
      "source": [
        "def higher_minus(num, minus_fun):\n",
        "    return minus_fun(num)\n",
        "\n",
        "\n",
        "higher_minus(0, fun)\n"
      ]
    },
    {
      "cell_type": "markdown",
      "metadata": {
        "id": "v3ZlyLDindjw"
      },
      "source": [
        "### (Lexical) Closures\n",
        "#### Remembers values from enclosing lexical scope to pre-configure behaviours\n"
      ]
    },
    {
      "cell_type": "code",
      "execution_count": null,
      "metadata": {
        "id": "BLIwX0MXndjx",
        "outputId": "183b6e0a-68e5-4d8f-c963-f509c7789853"
      },
      "outputs": [
        {
          "data": {
            "text/plain": [
              "-1"
            ]
          },
          "execution_count": 84,
          "metadata": {},
          "output_type": "execute_result"
        }
      ],
      "source": [
        "def get_minus_closure(num, minus_num):\n",
        "    def minus_one():\n",
        "        return num - minus_num\n",
        "    return minus_one\n",
        "\n",
        "\n",
        "fun = get_minus_closure(2, 3)\n",
        "fun()"
      ]
    },
    {
      "cell_type": "markdown",
      "metadata": {
        "id": "2VMj2s1_ndjy"
      },
      "source": [
        "#### Making objects callable"
      ]
    },
    {
      "cell_type": "code",
      "execution_count": null,
      "metadata": {
        "id": "5gvolT-cndjz",
        "outputId": "11e09571-5f65-4f4a-be78-13eaec8e27eb"
      },
      "outputs": [
        {
          "data": {
            "text/plain": [
              "0"
            ]
          },
          "execution_count": 87,
          "metadata": {},
          "output_type": "execute_result"
        }
      ],
      "source": [
        "class Minus:\n",
        "    def __init__(self, num):\n",
        "        self.num = num\n",
        "    \n",
        "    def __call__(self, other):\n",
        "        return self.num - other\n",
        "    \n",
        "\n",
        "m = Minus(2)\n",
        "m(2)"
      ]
    },
    {
      "cell_type": "markdown",
      "metadata": {
        "id": "kzDW9z8wndjz"
      },
      "source": [
        "## Classes & OOP"
      ]
    },
    {
      "cell_type": "markdown",
      "metadata": {
        "id": "mbV0qBRFndj0"
      },
      "source": [
        "### Object comparisons: 'is' vs '=='¶"
      ]
    },
    {
      "cell_type": "markdown",
      "metadata": {
        "id": "tIYlozG9ndj1"
      },
      "source": [
        "### is tests if two variables point to the same object.¶"
      ]
    },
    {
      "cell_type": "code",
      "execution_count": null,
      "metadata": {
        "id": "unku3HEundj2",
        "outputId": "a17171f6-fb97-417e-b2d0-03f52bdbc666"
      },
      "outputs": [
        {
          "data": {
            "text/plain": [
              "False"
            ]
          },
          "execution_count": 93,
          "metadata": {},
          "output_type": "execute_result"
        }
      ],
      "source": [
        "t1 = (2,)\n",
        "t2 = (2,)\n",
        "\n",
        "t1 is t2"
      ]
    },
    {
      "cell_type": "code",
      "execution_count": null,
      "metadata": {
        "id": "NDa4bdIxndj2",
        "outputId": "9660db43-9596-44c8-c9ee-0a498dd69d7a"
      },
      "outputs": [
        {
          "data": {
            "text/plain": [
              "True"
            ]
          },
          "execution_count": 94,
          "metadata": {},
          "output_type": "execute_result"
        }
      ],
      "source": [
        "t2 = t1\n",
        "t1 is t2"
      ]
    },
    {
      "cell_type": "code",
      "execution_count": null,
      "metadata": {
        "id": "5S4Lq-1xndj3",
        "outputId": "43ea6407-1301-4939-ed1a-7d886634c1e9"
      },
      "outputs": [
        {
          "data": {
            "text/plain": [
              "True"
            ]
          },
          "execution_count": 95,
          "metadata": {},
          "output_type": "execute_result"
        }
      ],
      "source": [
        "t1 = (2,)\n",
        "t2 = (2,)\n",
        "\n",
        "t1 == t2"
      ]
    },
    {
      "cell_type": "markdown",
      "metadata": {
        "id": "EK2xu4SWndj4"
      },
      "source": [
        ""
      ]
    },
    {
      "cell_type": "markdown",
      "metadata": {
        "id": "-iEhixlBndj4"
      },
      "source": [
        "### String Conversion (every class need a __repr__)\n",
        "### __str__ vs __repr__\n",
        "#### __str__ should be readable. __repr__ should be unambiguous and informative for developers.\n",
        "\n"
      ]
    },
    {
      "cell_type": "code",
      "execution_count": null,
      "metadata": {
        "id": "xVqzZZNkndj5"
      },
      "outputs": [],
      "source": [
        "class MyAdder():\n",
        "    def __init__(self, num):\n",
        "        self.num = num\n",
        "    \n",
        "    def __str__(self):\n",
        "        return 'MyAdder __str__'\n",
        "        \n",
        "    def __repr__(self):\n",
        "        return 'MyAdder __repr__'"
      ]
    },
    {
      "cell_type": "code",
      "execution_count": null,
      "metadata": {
        "id": "x6EdKmhrndj6",
        "outputId": "ca51ae64-17df-4bef-e4d8-f20a844a7429"
      },
      "outputs": [
        {
          "name": "stdout",
          "output_type": "stream",
          "text": [
            "MyAdder __str__\n"
          ]
        }
      ],
      "source": [
        "a = MyAdder(1)\n",
        "print(a)"
      ]
    },
    {
      "cell_type": "code",
      "execution_count": null,
      "metadata": {
        "id": "0fPuUgcGndj7",
        "outputId": "6e74e75b-1fe6-4786-a84c-e8c225ab6ae3"
      },
      "outputs": [
        {
          "data": {
            "text/plain": [
              "MyAdder __repr__"
            ]
          },
          "execution_count": 102,
          "metadata": {},
          "output_type": "execute_result"
        }
      ],
      "source": [
        "a"
      ]
    },
    {
      "cell_type": "markdown",
      "metadata": {
        "id": "Jzk4IyFendj8"
      },
      "source": [
        "### Always add __repr__ since this is fallback for __str__¶"
      ]
    },
    {
      "cell_type": "code",
      "execution_count": null,
      "metadata": {
        "id": "AJNBLzDundkA"
      },
      "outputs": [],
      "source": [
        "class MyAdder():\n",
        "    def __init__(self, num):\n",
        "        self.num = num\n",
        "        \n",
        "    def __repr__(self):\n",
        "        return (f'{self.__class__.__name__}('f'{self.num})')"
      ]
    },
    {
      "cell_type": "code",
      "execution_count": null,
      "metadata": {
        "id": "BrhpnfE9ndkB",
        "outputId": "98c04119-9ad2-4c2f-d5f5-8fe2724a3c5f"
      },
      "outputs": [
        {
          "name": "stdout",
          "output_type": "stream",
          "text": [
            "MyAdder(1)\n"
          ]
        }
      ],
      "source": [
        "a = MyAdder(1)\n",
        "print(a)"
      ]
    },
    {
      "cell_type": "code",
      "execution_count": null,
      "metadata": {
        "id": "3eP7qL2OndkC",
        "outputId": "2d422c3f-4c10-4de7-d1a7-b9f85210e1ac"
      },
      "outputs": [
        {
          "data": {
            "text/plain": [
              "MyAdder(1)"
            ]
          },
          "execution_count": 113,
          "metadata": {},
          "output_type": "execute_result"
        }
      ],
      "source": [
        "a"
      ]
    },
    {
      "cell_type": "markdown",
      "metadata": {
        "id": "CX_dTeZJndkD"
      },
      "source": [
        "### Dictionary tricks\n"
      ]
    },
    {
      "cell_type": "markdown",
      "metadata": {
        "id": "atP-9WQAndkE"
      },
      "source": [
        "### Dictionary default values"
      ]
    },
    {
      "cell_type": "code",
      "execution_count": null,
      "metadata": {
        "id": "eGEDo215ndkF"
      },
      "outputs": [],
      "source": [
        "name_to_firstname = {'FirstName':'Atin'}"
      ]
    },
    {
      "cell_type": "code",
      "execution_count": null,
      "metadata": {
        "id": "WultrlYxndkF"
      },
      "outputs": [],
      "source": [
        "def greet(name):\n",
        "        return f'Hi {name_to_firstname[name]}!'"
      ]
    },
    {
      "cell_type": "code",
      "execution_count": null,
      "metadata": {
        "id": "QkWuEHHMndkG",
        "outputId": "f0be9678-bcb3-4edd-8412-501262371e2f"
      },
      "outputs": [
        {
          "data": {
            "text/plain": [
              "'Hi Atin!'"
            ]
          },
          "execution_count": 133,
          "metadata": {},
          "output_type": "execute_result"
        }
      ],
      "source": [
        "greet(\"FirstName\")"
      ]
    },
    {
      "cell_type": "code",
      "execution_count": null,
      "metadata": {
        "id": "NJOOq1vDndkH",
        "outputId": "08c1a81e-52c8-4f71-8a39-a7d6df61d59c"
      },
      "outputs": [
        {
          "ename": "KeyError",
          "evalue": "'FirstName1'",
          "output_type": "error",
          "traceback": [
            "\u001b[0;31m---------------------------------------------------------------------------\u001b[0m",
            "\u001b[0;31mKeyError\u001b[0m                                  Traceback (most recent call last)",
            "\u001b[0;32m<ipython-input-134-687cd94a8097>\u001b[0m in \u001b[0;36m<module>\u001b[0;34m\u001b[0m\n\u001b[0;32m----> 1\u001b[0;31m \u001b[0mgreet\u001b[0m\u001b[0;34m(\u001b[0m\u001b[0;34m\"FirstName1\"\u001b[0m\u001b[0;34m)\u001b[0m\u001b[0;34m\u001b[0m\u001b[0;34m\u001b[0m\u001b[0m\n\u001b[0m",
            "\u001b[0;32m<ipython-input-131-87075ef584ab>\u001b[0m in \u001b[0;36mgreet\u001b[0;34m(name)\u001b[0m\n\u001b[1;32m      1\u001b[0m \u001b[0;32mdef\u001b[0m \u001b[0mgreet\u001b[0m\u001b[0;34m(\u001b[0m\u001b[0mname\u001b[0m\u001b[0;34m)\u001b[0m\u001b[0;34m:\u001b[0m\u001b[0;34m\u001b[0m\u001b[0;34m\u001b[0m\u001b[0m\n\u001b[0;32m----> 2\u001b[0;31m         \u001b[0;32mreturn\u001b[0m \u001b[0;34mf'Hi {name_to_firstname[name]}!'\u001b[0m\u001b[0;34m\u001b[0m\u001b[0;34m\u001b[0m\u001b[0m\n\u001b[0m",
            "\u001b[0;31mKeyError\u001b[0m: 'FirstName1'"
          ]
        }
      ],
      "source": [
        "greet(\"FirstName1\")"
      ]
    },
    {
      "cell_type": "code",
      "execution_count": null,
      "metadata": {
        "id": "IsFBNT26ndkH"
      },
      "outputs": [],
      "source": [
        ""
      ]
    },
    {
      "cell_type": "code",
      "execution_count": null,
      "metadata": {
        "id": "xpvc2OolndkI"
      },
      "outputs": [],
      "source": [
        "def greet(name):\n",
        "    try:\n",
        "        return f'Hi {name_to_firstname[name]}!'\n",
        "    except KeyError:\n",
        "        return 'Hi user!'"
      ]
    },
    {
      "cell_type": "code",
      "execution_count": null,
      "metadata": {
        "id": "4aujhgVendkJ",
        "outputId": "f31ad3f5-c4c9-4013-82df-75f91880adb9"
      },
      "outputs": [
        {
          "data": {
            "text/plain": [
              "'Hi Atin!'"
            ]
          },
          "execution_count": 136,
          "metadata": {},
          "output_type": "execute_result"
        }
      ],
      "source": [
        "greet(\"FirstName\")"
      ]
    },
    {
      "cell_type": "code",
      "execution_count": null,
      "metadata": {
        "id": "wN-DcIbcndkJ",
        "outputId": "9f3eab5c-bfae-46b3-9254-eae65f10996d"
      },
      "outputs": [
        {
          "data": {
            "text/plain": [
              "'Hi user!'"
            ]
          },
          "execution_count": 138,
          "metadata": {},
          "output_type": "execute_result"
        }
      ],
      "source": [
        "greet(\"FirstName1\")"
      ]
    },
    {
      "cell_type": "code",
      "execution_count": null,
      "metadata": {
        "id": "L-9ep29andkK"
      },
      "outputs": [],
      "source": [
        "def greet(name):\n",
        "    return 'Hi {}!'.format(name_to_firstname.get(name, 'user'))"
      ]
    },
    {
      "cell_type": "code",
      "execution_count": null,
      "metadata": {
        "id": "opEzj5eyndkL",
        "outputId": "0e7db258-c9eb-4b36-bc91-27ab2422802a"
      },
      "outputs": [
        {
          "data": {
            "text/plain": [
              "'Hi Atin!'"
            ]
          },
          "execution_count": 139,
          "metadata": {},
          "output_type": "execute_result"
        }
      ],
      "source": [
        "greet(\"FirstName\")"
      ]
    },
    {
      "cell_type": "code",
      "execution_count": null,
      "metadata": {
        "id": "8jrOnBVondkM",
        "outputId": "0bcf3954-dc12-4a85-a3f6-5a29bb9a3cb3"
      },
      "outputs": [
        {
          "data": {
            "text/plain": [
              "'Hi user!'"
            ]
          },
          "execution_count": 140,
          "metadata": {},
          "output_type": "execute_result"
        }
      ],
      "source": [
        "greet(\"FirstName1\")"
      ]
    },
    {
      "cell_type": "markdown",
      "metadata": {
        "id": "_x80iqYsndkO"
      },
      "source": [
        "### Sorting dictionaries"
      ]
    },
    {
      "cell_type": "code",
      "execution_count": null,
      "metadata": {
        "id": "a20s_aB7ndkQ"
      },
      "outputs": [],
      "source": [
        "xs = {\"Name\": \"Atin\", \"LastName\": \"Gupta\",\"FullName\": \"Atin Gupta\"}"
      ]
    },
    {
      "cell_type": "code",
      "execution_count": null,
      "metadata": {
        "id": "7v0fo5_gndkR",
        "outputId": "f6040d43-87ef-44ef-b7d5-e0fb81bdad23"
      },
      "outputs": [
        {
          "data": {
            "text/plain": [
              "[('Name', 'Atin'), ('FullName', 'Atin Gupta'), ('LastName', 'Gupta')]"
            ]
          },
          "execution_count": 149,
          "metadata": {},
          "output_type": "execute_result"
        }
      ],
      "source": [
        "sorted(xs.items(), key=lambda x: x[1])"
      ]
    },
    {
      "cell_type": "code",
      "execution_count": null,
      "metadata": {
        "id": "Zwbb_M9pndkS",
        "outputId": "58330423-0609-409d-ca08-7c2b94d44366"
      },
      "outputs": [
        {
          "data": {
            "text/plain": [
              "[('Name', 'Atin'), ('FullName', 'Atin Gupta'), ('LastName', 'Gupta')]"
            ]
          },
          "execution_count": 151,
          "metadata": {},
          "output_type": "execute_result"
        }
      ],
      "source": [
        "# Using operator.itemgetter():\n",
        "import operator\n",
        "\n",
        "sorted(xs.items(), key=operator.itemgetter(1))  "
      ]
    },
    {
      "cell_type": "markdown",
      "metadata": {
        "id": "yCUFeEiundkT"
      },
      "source": [
        "### Dict printing\n"
      ]
    },
    {
      "cell_type": "code",
      "execution_count": null,
      "metadata": {
        "id": "JwX2ZM8DndkT",
        "outputId": "b61ce779-9e25-4285-dc3e-d363485c9730"
      },
      "outputs": [
        {
          "name": "stdout",
          "output_type": "stream",
          "text": [
            "{'Name': 'Atin', 'LastName': 'Gupta', 'FullName': 'Atin Gupta'}\n"
          ]
        }
      ],
      "source": [
        "import json\n",
        "\n",
        "print(xs)\n"
      ]
    },
    {
      "cell_type": "code",
      "execution_count": null,
      "metadata": {
        "id": "r0JoJ7ihndkU",
        "outputId": "6b8ffabf-44e9-4579-8d50-e65374afa1ba"
      },
      "outputs": [
        {
          "name": "stdout",
          "output_type": "stream",
          "text": [
            "{\n",
            "    \"FullName\": \"Atin Gupta\",\n",
            "    \"LastName\": \"Gupta\",\n",
            "    \"Name\": \"Atin\"\n",
            "}\n"
          ]
        }
      ],
      "source": [
        "import json\n",
        "\n",
        "print(json.dumps(xs, indent=4, sort_keys=True))\n"
      ]
    },
    {
      "cell_type": "markdown",
      "metadata": {
        "id": "Iwg5RQgrndkV"
      },
      "source": [
        "### Know Which Version of Python You Are Using\n"
      ]
    },
    {
      "cell_type": "code",
      "execution_count": null,
      "metadata": {
        "id": "hUReayRLndkV",
        "outputId": "513cae97-e77a-470c-b1d1-e9aaf6a08409"
      },
      "outputs": [
        {
          "name": "stdout",
          "output_type": "stream",
          "text": [
            "sys.version_info(major=3, minor=7, micro=6, releaselevel='final', serial=0)\n",
            "3.7.6 (default, Dec 19 2019, 23:50:13) \n",
            "[GCC 7.4.0]\n"
          ]
        }
      ],
      "source": [
        "import sys\n",
        "print(sys.version_info)\n",
        "print(sys.version)"
      ]
    },
    {
      "cell_type": "markdown",
      "metadata": {
        "id": "qcInGu0endkW"
      },
      "source": [
        "### Following the PEP-8 Standard\n",
        "* Indents: Four spaces for each indentation def foo(): print \"Hello, World!\"\n",
        "* Maximum line length: 80 characters.\n",
        "* Blank lines: Two between import, class, and function de nitions. One between method defnitions inside a class.\n",
        "* Import statements: Should be one per line. import os import sys\n",
        "* Class names: Should have capitals for the rst letter of each word. class MyClass(object):\n",
        "* Method names: Should use all lowercase and underscores to separate words. def my_method_example():"
      ]
    },
    {
      "cell_type": "markdown",
      "metadata": {
        "id": "yttoLWjendkX"
      },
      "source": [
        "## Profiling"
      ]
    },
    {
      "cell_type": "markdown",
      "metadata": {
        "id": "wL24voKkndkX"
      },
      "source": [
        "### iPython Timing Magic"
      ]
    },
    {
      "cell_type": "code",
      "execution_count": null,
      "metadata": {
        "id": "X7zgI6EdndkY",
        "outputId": "601ea112-304e-4674-d09c-9039d3f19171"
      },
      "outputs": [
        {
          "name": "stdout",
          "output_type": "stream",
          "text": [
            "CPU times: user 6 µs, sys: 1e+03 ns, total: 7 µs\n",
            "Wall time: 15.5 µs\n"
          ]
        }
      ],
      "source": [
        "%time a = \"abc\""
      ]
    },
    {
      "cell_type": "code",
      "execution_count": null,
      "metadata": {
        "id": "qKVyAoTPndkY",
        "outputId": "cb51450c-1d62-41fb-e732-e587bfa5cd4d"
      },
      "outputs": [
        {
          "name": "stdout",
          "output_type": "stream",
          "text": [
            "The slowest run took 58.23 times longer than the fastest. This could mean that an intermediate result is being cached.\n",
            "569 ns ± 1.24 µs per loop (mean ± std. dev. of 7 runs, 100 loops each)\n"
          ]
        }
      ],
      "source": [
        "%timeit -n 100 a = \"abc\""
      ]
    },
    {
      "cell_type": "code",
      "execution_count": null,
      "metadata": {
        "id": "ePOdqmi7ndkZ",
        "outputId": "5c9a38f7-3e1d-49d3-8503-9913905e0089"
      },
      "outputs": [
        {
          "name": "stdout",
          "output_type": "stream",
          "text": [
            "nanananananananananananananana\n",
            " batman!\n",
            " "
          ]
        }
      ],
      "source": [
        "import time\n",
        "\n",
        "def batman():\n",
        "    out = \"\"\n",
        "    for i in range(15):\n",
        "        out += \"na\"\n",
        "    out += \"\\n batman!\"\n",
        "    time.sleep(1)\n",
        "    print(out)\n",
        "\n",
        "%prun batman()"
      ]
    },
    {
      "cell_type": "markdown",
      "metadata": {
        "id": "04axZ4kundka"
      },
      "source": [
        "## Optimization"
      ]
    },
    {
      "cell_type": "markdown",
      "metadata": {
        "id": "F-FHj54Cndkb"
      },
      "source": [
        "### Q: Why can Python be slow?\n",
        "* A: It's an interpreted language with dynamic typing."
      ]
    },
    {
      "cell_type": "code",
      "execution_count": null,
      "metadata": {
        "id": "xlRY4XF5ndkb"
      },
      "outputs": [],
      "source": [
        "a = 0 \n",
        "\n",
        "# Python doesn't compile, so can't optimise below \n",
        "for i in range(100): \n",
        "    a += i # <- Will check types for 'a' and 'i' every time they are used (100 times)"
      ]
    },
    {
      "cell_type": "markdown",
      "metadata": {
        "id": "FyHSM-lzndkc"
      },
      "source": [
        "But Python is 'batteries included' -- there are plenty of mature third-party packages that can reverse one or both of these characteristics for the bits of your code that need it.\n"
      ]
    },
    {
      "cell_type": "markdown",
      "metadata": {
        "id": "XLvFLXSandke"
      },
      "source": [
        "#### Options\n",
        "* Restructurting your code\n",
        "* NumPy - Work with arrays/matrices\n",
        "* Pandas - Builds on NumPy for conveniently working with tables\n",
        "* Cython - Converts bits of your code to low-level C code (which can be compiled)"
      ]
    },
    {
      "cell_type": "markdown",
      "metadata": {
        "id": "EgSlNrn3ndkg"
      },
      "source": [
        "#### NumPy"
      ]
    },
    {
      "cell_type": "code",
      "execution_count": null,
      "metadata": {
        "id": "cEyhfTgFndkg",
        "outputId": "1397bf0c-15a3-43c4-beeb-ebadcd899f13"
      },
      "outputs": [
        {
          "name": "stdout",
          "output_type": "stream",
          "text": [
            "8.11 ms ± 103 µs per loop (mean ± std. dev. of 7 runs, 100 loops each)\n"
          ]
        }
      ],
      "source": [
        "\n",
        "# Pure Python\n",
        "from random import random\n",
        "\n",
        "a = [random() for _ in range(100000)]\n",
        "b = [random() for _ in range(100000)]\n",
        "\n",
        "%timeit c = [x * y for x, y in zip(a, b)]"
      ]
    },
    {
      "cell_type": "code",
      "execution_count": null,
      "metadata": {
        "id": "U9kmjx0Dndkh",
        "outputId": "df5423e1-b763-430d-f3ce-dc6cf08e5895"
      },
      "outputs": [
        {
          "name": "stdout",
          "output_type": "stream",
          "text": [
            "84.7 µs ± 11 µs per loop (mean ± std. dev. of 7 runs, 10000 loops each)\n"
          ]
        }
      ],
      "source": [
        "# NumPy\n",
        "import numpy as np\n",
        "\n",
        "a = np.array(a)\n",
        "b = np.array(b)\n",
        "\n",
        "%timeit c = a * b"
      ]
    },
    {
      "cell_type": "markdown",
      "metadata": {
        "id": "4a7Rjcd_ndki"
      },
      "source": [
        "### NumPy is about 100x faster here!"
      ]
    },
    {
      "cell_type": "markdown",
      "metadata": {
        "id": "jF9zIbBJndki"
      },
      "source": [
        "* Numpy includes a bunch of functions for working with arrays and matrics, including things like finding min/max, averages, and so on.\n",
        "\n",
        "* If you're working with large sets of numbers, for instance doing linear algebra, then you should use NumPy rather than built-in Python types. \n"
      ]
    },
    {
      "cell_type": "markdown",
      "metadata": {
        "id": "Zu1o820Sndkj"
      },
      "source": [
        "### Pandas\n",
        "\n",
        "* Pandas is a fantastic package for dealing with tabular data, think of it as a step up from NumPy (though it still uses NumPy under the covers). \n",
        "\n",
        "* It's fast, but also saves you from writing a heap of code. "
      ]
    },
    {
      "cell_type": "code",
      "execution_count": null,
      "metadata": {
        "id": "nPS0j7dzndkk",
        "outputId": "780de6d6-19ae-4dc0-a912-04136685b83f"
      },
      "outputs": [
        {
          "data": {
            "text/html": [
              "<div>\n",
              "<style scoped>\n",
              "    .dataframe tbody tr th:only-of-type {\n",
              "        vertical-align: middle;\n",
              "    }\n",
              "\n",
              "    .dataframe tbody tr th {\n",
              "        vertical-align: top;\n",
              "    }\n",
              "\n",
              "    .dataframe thead th {\n",
              "        text-align: right;\n",
              "    }\n",
              "</style>\n",
              "<table border=\"1\" class=\"dataframe\">\n",
              "  <thead>\n",
              "    <tr style=\"text-align: right;\">\n",
              "      <th></th>\n",
              "      <th>first_name</th>\n",
              "      <th>last_name</th>\n",
              "      <th>age</th>\n",
              "      <th>testScore</th>\n",
              "    </tr>\n",
              "  </thead>\n",
              "  <tbody>\n",
              "    <tr>\n",
              "      <th>0</th>\n",
              "      <td>Jason</td>\n",
              "      <td>Miller</td>\n",
              "      <td>42</td>\n",
              "      <td>25</td>\n",
              "    </tr>\n",
              "    <tr>\n",
              "      <th>1</th>\n",
              "      <td>Molly</td>\n",
              "      <td>Jacobson</td>\n",
              "      <td>52</td>\n",
              "      <td>94</td>\n",
              "    </tr>\n",
              "    <tr>\n",
              "      <th>2</th>\n",
              "      <td>Tina</td>\n",
              "      <td>Faye</td>\n",
              "      <td>36</td>\n",
              "      <td>57</td>\n",
              "    </tr>\n",
              "    <tr>\n",
              "      <th>3</th>\n",
              "      <td>Jake</td>\n",
              "      <td>Milner</td>\n",
              "      <td>24</td>\n",
              "      <td>62</td>\n",
              "    </tr>\n",
              "    <tr>\n",
              "      <th>4</th>\n",
              "      <td>Amy</td>\n",
              "      <td>Cooze</td>\n",
              "      <td>73</td>\n",
              "      <td>72</td>\n",
              "    </tr>\n",
              "  </tbody>\n",
              "</table>\n",
              "</div>"
            ],
            "text/plain": [
              "  first_name last_name  age  testScore\n",
              "0      Jason    Miller   42         25\n",
              "1      Molly  Jacobson   52         94\n",
              "2       Tina      Faye   36         57\n",
              "3       Jake    Milner   24         62\n",
              "4        Amy     Cooze   73         72"
            ]
          },
          "execution_count": 200,
          "metadata": {},
          "output_type": "execute_result"
        }
      ],
      "source": [
        "import pandas as pd\n",
        "%matplotlib inline\n",
        "\n",
        "raw_data = {'first_name': ['Jason', 'Molly', 'Tina', 'Jake', 'Amy'], \n",
        "        'last_name': ['Miller', 'Jacobson', \"Faye\", 'Milner', 'Cooze'], \n",
        "        'age': [42, 52, 36, 24, 73], \n",
        "        'testScore': [25, 94, 57, 62, 72]}\n",
        "df = pd.DataFrame(raw_data, columns = ['first_name', 'last_name', 'age', 'testScore'])\n",
        "df"
      ]
    },
    {
      "cell_type": "code",
      "execution_count": null,
      "metadata": {
        "id": "6KHqWbk9ndkk",
        "outputId": "631e4d8d-09a6-49af-c81e-936e369f5d65"
      },
      "outputs": [
        {
          "data": {
            "text/html": [
              "<div>\n",
              "<style scoped>\n",
              "    .dataframe tbody tr th:only-of-type {\n",
              "        vertical-align: middle;\n",
              "    }\n",
              "\n",
              "    .dataframe tbody tr th {\n",
              "        vertical-align: top;\n",
              "    }\n",
              "\n",
              "    .dataframe thead th {\n",
              "        text-align: right;\n",
              "    }\n",
              "</style>\n",
              "<table border=\"1\" class=\"dataframe\">\n",
              "  <thead>\n",
              "    <tr style=\"text-align: right;\">\n",
              "      <th></th>\n",
              "      <th>first_name</th>\n",
              "      <th>last_name</th>\n",
              "      <th>age</th>\n",
              "      <th>testScore</th>\n",
              "    </tr>\n",
              "  </thead>\n",
              "  <tbody>\n",
              "    <tr>\n",
              "      <th>1</th>\n",
              "      <td>Molly</td>\n",
              "      <td>Jacobson</td>\n",
              "      <td>52</td>\n",
              "      <td>94</td>\n",
              "    </tr>\n",
              "    <tr>\n",
              "      <th>4</th>\n",
              "      <td>Amy</td>\n",
              "      <td>Cooze</td>\n",
              "      <td>73</td>\n",
              "      <td>72</td>\n",
              "    </tr>\n",
              "  </tbody>\n",
              "</table>\n",
              "</div>"
            ],
            "text/plain": [
              "  first_name last_name  age  testScore\n",
              "1      Molly  Jacobson   52         94\n",
              "4        Amy     Cooze   73         72"
            ]
          },
          "execution_count": 201,
          "metadata": {},
          "output_type": "execute_result"
        }
      ],
      "source": [
        "# Query\n",
        "df[df['age'] > 50]"
      ]
    },
    {
      "cell_type": "code",
      "execution_count": null,
      "metadata": {
        "id": "GTV6fzYGndkl",
        "outputId": "5cf27a24-b232-41e9-e432-d58a1b2745b0"
      },
      "outputs": [
        {
          "data": {
            "text/plain": [
              "45.4"
            ]
          },
          "execution_count": 202,
          "metadata": {},
          "output_type": "execute_result"
        }
      ],
      "source": [
        "df['age'].mean()"
      ]
    },
    {
      "cell_type": "code",
      "execution_count": null,
      "metadata": {
        "id": "44a6aXDgndkm",
        "outputId": "eb4b8a7e-fbb7-430a-8b34-8694c5763f47"
      },
      "outputs": [
        {
          "data": {
            "text/plain": [
              "<matplotlib.axes._subplots.AxesSubplot at 0x7f9ac4551190>"
            ]
          },
          "execution_count": 203,
          "metadata": {},
          "output_type": "execute_result"
        },
        {
          "data": {
            "image/png": "[encoded data removed]",
            "text/plain": [
              "<Figure size 432x288 with 1 Axes>"
            ]
          },
          "metadata": {
            "needs_background": "light"
          },
          "output_type": "display_data"
        }
      ],
      "source": [
        "df.to_csv('output.csv')\n",
        "\n",
        "# Plot\n",
        "df.plot.scatter('age', 'testScore')"
      ]
    },
    {
      "cell_type": "markdown",
      "metadata": {
        "id": "jdufOunondkn"
      },
      "source": [
        "### Sorting a List of Tuples using Lambda"
      ]
    },
    {
      "cell_type": "code",
      "execution_count": null,
      "metadata": {
        "id": "Vhg8YexVndkn",
        "outputId": "1630c664-1697-491c-c384-94365309799d"
      },
      "outputs": [
        {
          "name": "stdout",
          "output_type": "stream",
          "text": [
            "[('carrots', 1.1), ('peaches', 2.45), ('eggs', 5.25), ('honey', 9.7)]\n"
          ]
        }
      ],
      "source": [
        "list1 = [('eggs', 5.25), ('honey', 9.70), ('carrots', 1.10), ('peaches', 2.45)]\n",
        "list1.sort(key = lambda x: x[1])\n",
        "print(list1)"
      ]
    },
    {
      "cell_type": "markdown",
      "metadata": {
        "id": "YIjWg567ndko"
      },
      "source": [
        "### Sorting a List of Dictionaries using Lambda"
      ]
    },
    {
      "cell_type": "code",
      "execution_count": null,
      "metadata": {
        "id": "TrE7heXhndkp",
        "outputId": "8193f95d-3e08-40fb-a7dd-639fb365c251"
      },
      "outputs": [
        {
          "name": "stdout",
          "output_type": "stream",
          "text": [
            "[{'make': 'Tesla', 'model': 'X', 'year': 1999},\n",
            " {'make': 'Mercedes', 'model': 'C350E', 'year': 2008},\n",
            " {'make': 'Ford', 'model': 'Focus', 'year': 2013}]\n"
          ]
        }
      ],
      "source": [
        "import pprint as pp\n",
        "list1 = [{'make':'Ford', 'model':'Focus', 'year':2013}, {'make':'Tesla', 'model':'X', 'year':1999}, {'make':'Mercedes', 'model':'C350E', 'year':2008}]\n",
        "list2 = sorted(list1, key = lambda x: x['year'])\n",
        "pp.pprint(list2)"
      ]
    },
    {
      "cell_type": "markdown",
      "metadata": {
        "id": "4741h6Udndkp"
      },
      "source": [
        "### Filtering a List of Integers using Lambda"
      ]
    },
    {
      "cell_type": "code",
      "execution_count": null,
      "metadata": {
        "id": "aKEIda57ndkq",
        "outputId": "f7db631b-69d2-440d-e503-888bd7d220b3"
      },
      "outputs": [
        {
          "name": "stdout",
          "output_type": "stream",
          "text": [
            "[2, 4, 6]\n"
          ]
        }
      ],
      "source": [
        "list1 = [1, 2, 3, 4, 5, 6]\n",
        "list2 = list(filter(lambda x: x%2 == 0, list1))\n",
        "print(list2)"
      ]
    },
    {
      "cell_type": "code",
      "execution_count": null,
      "metadata": {
        "id": "YfOBKbtPndkr",
        "outputId": "ef4ebd71-30b6-4f36-a457-77363be2f184"
      },
      "outputs": [
        {
          "name": "stdout",
          "output_type": "stream",
          "text": [
            "[1, 3, 5]\n"
          ]
        }
      ],
      "source": [
        "\n",
        "odds = lambda x: x%2 == 1\n",
        "list1 = [1, 2, 3, 4, 5, 6]\n",
        "list2 = list(filter(odds, list1))\n",
        "print(list2)"
      ]
    },
    {
      "cell_type": "markdown",
      "metadata": {
        "id": "Xn2loFgendkr"
      },
      "source": [
        "### Lambda Function on a List using Map"
      ]
    },
    {
      "cell_type": "code",
      "execution_count": null,
      "metadata": {
        "id": "-4EnYzHNndks",
        "outputId": "1275405b-6f77-4ddb-f311-2d5280c3c5c2"
      },
      "outputs": [
        {
          "name": "stdout",
          "output_type": "stream",
          "text": [
            "[1, 4, 9, 16, 25, 36]\n"
          ]
        }
      ],
      "source": [
        "list1 = [1, 2, 3, 4, 5, 6]\n",
        "list2 = list(map(lambda x: x ** 2, list1))\n",
        "print(list2)"
      ]
    },
    {
      "cell_type": "markdown",
      "metadata": {
        "id": "vkW_oXtmndkv"
      },
      "source": [
        "### Tuple"
      ]
    },
    {
      "cell_type": "code",
      "execution_count": null,
      "metadata": {
        "id": "d9toIcJlndkw",
        "outputId": "4d910f51-47d2-481d-d934-8b1921a79fd3"
      },
      "outputs": [
        {
          "data": {
            "text/plain": [
              "(4, 5, 6)"
            ]
          },
          "execution_count": 235,
          "metadata": {},
          "output_type": "execute_result"
        }
      ],
      "source": [
        "tup = 4, 5, 6\n",
        "tup"
      ]
    },
    {
      "cell_type": "code",
      "execution_count": null,
      "metadata": {
        "id": "471zr0wFndkx",
        "outputId": "d6217aee-327f-40d9-f6ae-a3d4cfc82a6c"
      },
      "outputs": [
        {
          "data": {
            "text/plain": [
              "((4, 5, 6), (7, 8))"
            ]
          },
          "execution_count": 236,
          "metadata": {},
          "output_type": "execute_result"
        }
      ],
      "source": [
        "nested_tup = (4, 5, 6), (7, 8)\n",
        "nested_tup"
      ]
    },
    {
      "cell_type": "code",
      "execution_count": null,
      "metadata": {
        "id": "z5j9Xfudndky",
        "outputId": "e007f7de-2c83-4353-e68a-ed4657e82e95"
      },
      "outputs": [
        {
          "data": {
            "text/plain": [
              "5"
            ]
          },
          "execution_count": 239,
          "metadata": {},
          "output_type": "execute_result"
        }
      ],
      "source": [
        "tup = (4, 5, 6)\n",
        "a, b, c = tup\n",
        "b"
      ]
    },
    {
      "cell_type": "code",
      "execution_count": null,
      "metadata": {
        "id": "D0MOM3VHndkz",
        "outputId": "e7bbae49-138e-4a9d-8f17-37a86d7f4e1e"
      },
      "outputs": [
        {
          "data": {
            "text/plain": [
              "7"
            ]
          },
          "execution_count": 240,
          "metadata": {},
          "output_type": "execute_result"
        }
      ],
      "source": [
        "tup = 4, 5, (6, 7)\n",
        "a, b, (c, d) = tup\n",
        "d"
      ]
    },
    {
      "cell_type": "code",
      "execution_count": null,
      "metadata": {
        "id": "qbSz1oEQndk0",
        "outputId": "c1a6f6e5-b72f-46b5-b81b-f26755e66f1d"
      },
      "outputs": [
        {
          "data": {
            "text/plain": [
              "1"
            ]
          },
          "execution_count": 241,
          "metadata": {},
          "output_type": "execute_result"
        }
      ],
      "source": [
        "\n",
        "a, b = 1, 2\n",
        "a\n",
        "b\n",
        "b, a = a, b\n",
        "a\n",
        "b"
      ]
    },
    {
      "cell_type": "code",
      "execution_count": null,
      "metadata": {
        "id": "wSZxT9fondk1",
        "outputId": "7cf88963-28a6-4556-8e52-96ecf00051f3"
      },
      "outputs": [
        {
          "name": "stdout",
          "output_type": "stream",
          "text": [
            "a=1, b=2, c=3\n",
            "a=4, b=5, c=6\n",
            "a=7, b=8, c=9\n"
          ]
        }
      ],
      "source": [
        "seq = [(1, 2, 3), (4, 5, 6), (7, 8, 9)]\n",
        "for a, b, c in seq:\n",
        "    print('a={0}, b={1}, c={2}'.format(a, b, c))"
      ]
    },
    {
      "cell_type": "code",
      "execution_count": null,
      "metadata": {
        "id": "lsv9iVxnndk2",
        "outputId": "119a6117-840f-4dce-b5eb-726bd2440d35"
      },
      "outputs": [
        {
          "data": {
            "text/plain": [
              "[3, 4, 5]"
            ]
          },
          "execution_count": 243,
          "metadata": {},
          "output_type": "execute_result"
        }
      ],
      "source": [
        "values = 1, 2, 3, 4, 5\n",
        "a, b, *rest = values\n",
        "a, b\n",
        "rest"
      ]
    },
    {
      "cell_type": "code",
      "execution_count": null,
      "metadata": {
        "id": "ToxAnxnAndk3"
      },
      "outputs": [],
      "source": [
        "a, b, *_ = values"
      ]
    },
    {
      "cell_type": "markdown",
      "metadata": {
        "id": "obj03hcondk4"
      },
      "source": [
        "### Zip"
      ]
    },
    {
      "cell_type": "code",
      "execution_count": null,
      "metadata": {
        "id": "-kQLdXk0ndk4",
        "outputId": "f1ef5b92-9708-4cb8-c244-ca6e86f22a1e"
      },
      "outputs": [
        {
          "data": {
            "text/plain": [
              "[('foo', 'one'), ('bar', 'two'), ('baz', 'three')]"
            ]
          },
          "execution_count": 248,
          "metadata": {},
          "output_type": "execute_result"
        }
      ],
      "source": [
        "seq1 = ['foo', 'bar', 'baz']\n",
        "seq2 = ['one', 'two', 'three']\n",
        "zipped = zip(seq1, seq2)\n",
        "list(zipped)"
      ]
    },
    {
      "cell_type": "code",
      "execution_count": null,
      "metadata": {
        "id": "sX5_tg0Pndk5",
        "outputId": "f374b530-0eee-455f-b10b-5dd2f54262fc"
      },
      "outputs": [
        {
          "data": {
            "text/plain": [
              "[('foo', 'one', False), ('bar', 'two', True)]"
            ]
          },
          "execution_count": 249,
          "metadata": {},
          "output_type": "execute_result"
        }
      ],
      "source": [
        "seq3 = [False, True]\n",
        "list(zip(seq1, seq2, seq3))\n"
      ]
    },
    {
      "cell_type": "code",
      "execution_count": null,
      "metadata": {
        "id": "szsoH2_Xndk6",
        "outputId": "07645590-307a-45ff-e9ba-a39049ece02b"
      },
      "outputs": [
        {
          "name": "stdout",
          "output_type": "stream",
          "text": [
            "0: foo, one\n",
            "1: bar, two\n",
            "2: baz, three\n"
          ]
        }
      ],
      "source": [
        "for i, (a, b) in enumerate(zip(seq1, seq2)):\n",
        "    print('{0}: {1}, {2}'.format(i, a, b))"
      ]
    },
    {
      "cell_type": "code",
      "execution_count": null,
      "metadata": {
        "id": "MYXll8ihndk7",
        "outputId": "dd0d9bd9-9e05-4695-f08e-112d53a7dc77"
      },
      "outputs": [
        {
          "data": {
            "text/plain": [
              "('Ryan', 'Clemens', 'Curt')"
            ]
          },
          "execution_count": 251,
          "metadata": {},
          "output_type": "execute_result"
        }
      ],
      "source": [
        "pitchers = [('Nolan', 'Ryan'), ('Roger', 'Clemens'),\n",
        "            ('Schilling', 'Curt')]\n",
        "first_names, last_names = zip(*pitchers)\n",
        "first_names\n",
        "last_names"
      ]
    },
    {
      "cell_type": "code",
      "execution_count": null,
      "metadata": {
        "id": "VpYYQMvBndk8"
      },
      "outputs": [],
      "source": [
        "### Sets"
      ]
    },
    {
      "cell_type": "code",
      "execution_count": null,
      "metadata": {
        "id": "hu70FoOindk-",
        "outputId": "093c8e20-8cea-4be5-90a7-917b6663efa4"
      },
      "outputs": [
        {
          "data": {
            "text/plain": [
              "{1, 2, 3}"
            ]
          },
          "execution_count": 257,
          "metadata": {},
          "output_type": "execute_result"
        }
      ],
      "source": [
        "set([2, 2, 2, 1, 3, 3])"
      ]
    },
    {
      "cell_type": "code",
      "execution_count": null,
      "metadata": {
        "id": "wqdEjFFZndlC"
      },
      "outputs": [],
      "source": [
        "a = {1, 2, 3, 4, 5}\n",
        "b = {3, 4, 5, 6, 7, 8}"
      ]
    },
    {
      "cell_type": "code",
      "execution_count": null,
      "metadata": {
        "id": "z2j_YUWPndlD",
        "outputId": "ce55ec23-6839-4d98-d2a2-67229ad6f017"
      },
      "outputs": [
        {
          "data": {
            "text/plain": [
              "{1, 2, 3, 4, 5, 6, 7, 8}"
            ]
          },
          "execution_count": 259,
          "metadata": {},
          "output_type": "execute_result"
        }
      ],
      "source": [
        "a.union(b)\n",
        "a | b"
      ]
    },
    {
      "cell_type": "code",
      "execution_count": null,
      "metadata": {
        "id": "gftUDZEKndlF",
        "outputId": "d00b6360-409a-42b8-b767-1b8e6a781c96"
      },
      "outputs": [
        {
          "data": {
            "text/plain": [
              "{3, 4, 5}"
            ]
          },
          "execution_count": 260,
          "metadata": {},
          "output_type": "execute_result"
        }
      ],
      "source": [
        "a.intersection(b)\n",
        "a & b"
      ]
    },
    {
      "cell_type": "code",
      "execution_count": null,
      "metadata": {
        "id": "Vg7wrolqndlG",
        "outputId": "948ab91b-9ccc-4d11-9986-42a95518de32"
      },
      "outputs": [
        {
          "data": {
            "text/plain": [
              "True"
            ]
          },
          "execution_count": 264,
          "metadata": {},
          "output_type": "execute_result"
        }
      ],
      "source": [
        "a_set = {1, 2, 3, 4, 5}\n",
        "{1, 2, 3}.issubset(a_set)\n",
        "a_set.issuperset({1, 2, 3})\n"
      ]
    },
    {
      "cell_type": "markdown",
      "metadata": {
        "id": "8jMnJlKGndlH"
      },
      "source": [
        "### Namespaces, Scope, and Local Functions\n"
      ]
    },
    {
      "cell_type": "code",
      "execution_count": null,
      "metadata": {
        "id": "_ariqYDTndlI",
        "outputId": "771eaa07-81b3-41ea-c19c-587892f9170b"
      },
      "outputs": [
        {
          "name": "stdout",
          "output_type": "stream",
          "text": [
            "[]\n"
          ]
        }
      ],
      "source": [
        "a = None\n",
        "def bind_a_variable():\n",
        "    global a\n",
        "    a = []\n",
        "bind_a_variable()\n",
        "print(a)"
      ]
    },
    {
      "cell_type": "markdown",
      "metadata": {
        "id": "c7hYxDMPndlK"
      },
      "source": [
        "### Returning Multiple Values"
      ]
    },
    {
      "cell_type": "code",
      "execution_count": null,
      "metadata": {
        "id": "nn9Ej2HandlL",
        "outputId": "1e9075cc-d9da-4d8f-8131-ebee0da5bc43"
      },
      "outputs": [
        {
          "name": "stdout",
          "output_type": "stream",
          "text": [
            "(5, 6, 7)\n"
          ]
        }
      ],
      "source": [
        "def f(): \n",
        "    a = 5\n",
        "    b = 6\n",
        "    c = 7\n",
        "    return a, b, c\n",
        "\n",
        "a, b, c = f()\n",
        "\n",
        "return_value = f()\n",
        "\n",
        "print(return_value)"
      ]
    },
    {
      "cell_type": "code",
      "execution_count": null,
      "metadata": {
        "id": "9r1wHJvcndlM",
        "outputId": "a6ea4423-f3a6-4508-bfa1-afb8bbcc9443"
      },
      "outputs": [
        {
          "data": {
            "text/plain": [
              "5"
            ]
          },
          "execution_count": 276,
          "metadata": {},
          "output_type": "execute_result"
        }
      ],
      "source": [
        "a"
      ]
    },
    {
      "cell_type": "code",
      "execution_count": null,
      "metadata": {
        "id": "iKxnvAD-ndlN",
        "outputId": "f9df86a5-bbf1-4663-a9d2-a236e03aaf45"
      },
      "outputs": [
        {
          "data": {
            "text/plain": [
              "6"
            ]
          },
          "execution_count": 278,
          "metadata": {},
          "output_type": "execute_result"
        }
      ],
      "source": [
        "b"
      ]
    },
    {
      "cell_type": "code",
      "execution_count": null,
      "metadata": {
        "id": "NROCfbG-ndlO",
        "outputId": "c799f827-d2e7-42e9-9b38-8eae5d4ed29f"
      },
      "outputs": [
        {
          "data": {
            "text/plain": [
              "7"
            ]
          },
          "execution_count": 279,
          "metadata": {},
          "output_type": "execute_result"
        }
      ],
      "source": [
        "c\n"
      ]
    },
    {
      "cell_type": "markdown",
      "metadata": {
        "id": "Z0AfZlOxndlR"
      },
      "source": [
        "### JSON Data"
      ]
    },
    {
      "cell_type": "code",
      "execution_count": null,
      "metadata": {
        "id": "OPAqH4qJndlT"
      },
      "outputs": [],
      "source": [
        "obj = \"\"\"\n",
        "{\"name\": \"Wes\",\n",
        " \"places_lived\": [\"United States\", \"Spain\", \"Germany\"],\n",
        " \"pet\": null,\n",
        " \"siblings\": [{\"name\": \"Scott\", \"age\": 30, \"pets\": [\"Zeus\", \"Zuko\"]},\n",
        "              {\"name\": \"Katie\", \"age\": 38,\n",
        "               \"pets\": [\"Sixes\", \"Stache\", \"Cisco\"]}]\n",
        "}\n",
        "\"\"\""
      ]
    },
    {
      "cell_type": "code",
      "execution_count": null,
      "metadata": {
        "id": "Lhy0A50XndlU",
        "outputId": "601f0a67-8cc9-4e5e-cc36-33d47884b8e5"
      },
      "outputs": [
        {
          "data": {
            "text/plain": [
              "{'name': 'Wes',\n",
              " 'places_lived': ['United States', 'Spain', 'Germany'],\n",
              " 'pet': None,\n",
              " 'siblings': [{'name': 'Scott', 'age': 30, 'pets': ['Zeus', 'Zuko']},\n",
              "  {'name': 'Katie', 'age': 38, 'pets': ['Sixes', 'Stache', 'Cisco']}]}"
            ]
          },
          "execution_count": 283,
          "metadata": {},
          "output_type": "execute_result"
        }
      ],
      "source": [
        "import json\n",
        "result = json.loads(obj)\n",
        "result"
      ]
    },
    {
      "cell_type": "code",
      "execution_count": null,
      "metadata": {
        "id": "u-RsGaz-ndlV"
      },
      "outputs": [],
      "source": [
        "asjson = json.dumps(result)"
      ]
    },
    {
      "cell_type": "code",
      "execution_count": null,
      "metadata": {
        "id": "PtIER83PndlW",
        "outputId": "3e17020f-cbf4-4855-c818-c180198d8ae8"
      },
      "outputs": [
        {
          "data": {
            "text/html": [
              "<div>\n",
              "<style scoped>\n",
              "    .dataframe tbody tr th:only-of-type {\n",
              "        vertical-align: middle;\n",
              "    }\n",
              "\n",
              "    .dataframe tbody tr th {\n",
              "        vertical-align: top;\n",
              "    }\n",
              "\n",
              "    .dataframe thead th {\n",
              "        text-align: right;\n",
              "    }\n",
              "</style>\n",
              "<table border=\"1\" class=\"dataframe\">\n",
              "  <thead>\n",
              "    <tr style=\"text-align: right;\">\n",
              "      <th></th>\n",
              "      <th>name</th>\n",
              "      <th>age</th>\n",
              "    </tr>\n",
              "  </thead>\n",
              "  <tbody>\n",
              "    <tr>\n",
              "      <th>0</th>\n",
              "      <td>Scott</td>\n",
              "      <td>30</td>\n",
              "    </tr>\n",
              "    <tr>\n",
              "      <th>1</th>\n",
              "      <td>Katie</td>\n",
              "      <td>38</td>\n",
              "    </tr>\n",
              "  </tbody>\n",
              "</table>\n",
              "</div>"
            ],
            "text/plain": [
              "    name  age\n",
              "0  Scott   30\n",
              "1  Katie   38"
            ]
          },
          "execution_count": 290,
          "metadata": {},
          "output_type": "execute_result"
        }
      ],
      "source": [
        "siblings = pd.DataFrame(result['siblings'], columns=['name', 'age'])\n",
        "siblings"
      ]
    },
    {
      "cell_type": "code",
      "execution_count": null,
      "metadata": {
        "id": "BX_ewOJundlW"
      },
      "outputs": [],
      "source": [
        ""
      ]
    }
  ],
  "metadata": {
    "kernelspec": {
      "display_name": "Python 3",
      "language": "python",
      "name": "python3"
    },
    "language_info": {
      "codemirror_mode": {
        "name": "ipython",
        "version": 3
      },
      "file_extension": ".py",
      "mimetype": "text/x-python",
      "name": "python",
      "nbconvert_exporter": "python",
      "pygments_lexer": "ipython3",
      "version": "3.7.6"
    },
    "colab": {
      "name": "Python Tips and Tricks.ipynb",
      "provenance": []
    }
  },
  "nbformat": 4,
  "nbformat_minor": 0
}