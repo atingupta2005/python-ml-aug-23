{
 "cells": [
  {
   "cell_type": "markdown",
   "metadata": {
    "id": "cJX-h1zvndiv"
   },
   "source": [
    "Enumerate\n",
    "\n",
    "This lets you take the element's index and use it as a variable."
   ]
  },
  {
   "cell_type": "code",
   "execution_count": 1,
   "metadata": {
    "id": "lBUEGopondi1",
    "outputId": "27b2f85a-a958-4ac6-d591-078b04fa5b17"
   },
   "outputs": [
    {
     "name": "stdout",
     "output_type": "stream",
     "text": [
      "0 : apple\n",
      "1 : blueberry\n",
      "2 : lemon\n"
     ]
    }
   ],
   "source": [
    "pies = ['apple', 'blueberry', 'lemon']\n",
    "\n",
    "for num, i in enumerate(pies):\n",
    "    print(num, ':', i)"
   ]
  },
  {
   "cell_type": "markdown",
   "metadata": {
    "id": "KovVOutindi-"
   },
   "source": [
    "## Comprehensions\n",
    "\n",
    "### Are a quicker way to create lists, dicts and sets, they act like for loops and can take conditions as well as if else statements.\n",
    "\n",
    "#### List comprehension"
   ]
  },
  {
   "cell_type": "code",
   "execution_count": 2,
   "metadata": {
    "id": "JBRdGsuwndjA",
    "outputId": "47d53e3e-9c2f-4769-c4db-543cde896c80"
   },
   "outputs": [
    {
     "name": "stdout",
     "output_type": "stream",
     "text": [
      "[1, 2, 3, 4, 5, 6, 7, 8, 9, 10]\n",
      "[11, 12, 13, 14, 15, 16, 17, 18, 19, 20]\n"
     ]
    }
   ],
   "source": [
    "# Manual way to make a list\n",
    "\n",
    "list_1 = [1, 2, 3, 4, 5, 6, 7, 8, 9, 10]\n",
    "list_2 = [11, 12, 13, 14, 15, 16, 17, 18, 19, 20]\n",
    "\n",
    "print(list_1)\n",
    "print(list_2)"
   ]
  },
  {
   "cell_type": "code",
   "execution_count": 3,
   "metadata": {
    "id": "OjtGUq2FndjD",
    "outputId": "a246bf66-6460-4b00-8998-3d076462dd14"
   },
   "outputs": [
    {
     "name": "stdout",
     "output_type": "stream",
     "text": [
      "[1, 2, 3, 4, 5, 6, 7, 8, 9, 10]\n",
      "[11, 12, 13, 14, 15, 16, 17, 18, 19, 20]\n"
     ]
    }
   ],
   "source": [
    "# Using list()\n",
    "\n",
    "list_1_with_list = list(range(1, 11))\n",
    "list_2_with_list = list(range(11, 21))\n",
    "\n",
    "print(list_1_with_list)\n",
    "print(list_2_with_list)"
   ]
  },
  {
   "cell_type": "code",
   "execution_count": 4,
   "metadata": {
    "id": "YWaRuX-YndjF",
    "outputId": "536b4342-e238-48c0-8de2-889840c919f1"
   },
   "outputs": [
    {
     "name": "stdout",
     "output_type": "stream",
     "text": [
      "[1, 2, 3, 4, 5, 6, 7, 8, 9, 10]\n",
      "[11, 12, 13, 14, 15, 16, 17, 18, 19, 20]\n"
     ]
    }
   ],
   "source": [
    "# List comprehension autogenerates the list, they function closely to for loops.\n",
    "\n",
    "list_1_with_comp = [x for x in range(1, 11)]\n",
    "list_2_with_comp = [x for x in range(11, 21)]\n",
    "\n",
    "print(list_1_with_comp)\n",
    "print(list_2_with_comp)"
   ]
  },
  {
   "cell_type": "code",
   "execution_count": 5,
   "metadata": {
    "id": "DmAlWIMDndjH",
    "outputId": "82251733-eff8-40f9-9fbd-e43eea5c6155"
   },
   "outputs": [
    {
     "data": {
      "text/plain": [
       "[0, 2, 4]"
      ]
     },
     "execution_count": 5,
     "metadata": {},
     "output_type": "execute_result"
    }
   ],
   "source": [
    "# Works with functions.\n",
    "\n",
    "def addition(x):\n",
    "    return x + x\n",
    "\n",
    "[addition(x) for x in range(0, 3)]"
   ]
  },
  {
   "cell_type": "code",
   "execution_count": 6,
   "metadata": {
    "id": "jy7VimOrndjI",
    "outputId": "923fc5c8-1285-49d0-fdc5-57057e8b65bf"
   },
   "outputs": [
    {
     "data": {
      "text/plain": [
       "[4, 3, 6, 5, 8, 7, 10, 9, 12, 11]"
      ]
     },
     "execution_count": 6,
     "metadata": {},
     "output_type": "execute_result"
    }
   ],
   "source": [
    "# Also works with conditions\n",
    "# The % is modulus which gives you the remainder after division.\n",
    "\n",
    "# If an number is even add 1 if it's odd add 3\n",
    "\n",
    "[x + 1 if x%2 ==0 else x + 3 for x in range(1, 11)]"
   ]
  },
  {
   "cell_type": "markdown",
   "metadata": {
    "id": "w3d0d4syndjK"
   },
   "source": [
    "### Set comprehension"
   ]
  },
  {
   "cell_type": "code",
   "execution_count": null,
   "metadata": {
    "id": "GZYIozknndjO"
   },
   "outputs": [],
   "source": [
    "# Set comprehension is same format as list comprehension but uses curly brackets.\n",
    "\n",
    "set_1_with_comp = {x for x in range(1, 11)}\n",
    "set_2_with_comp = {x for x in range(11, 21)}"
   ]
  },
  {
   "cell_type": "code",
   "execution_count": null,
   "metadata": {
    "id": "ZrVZVwvSndjP",
    "outputId": "d6e5b510-5a97-4652-e427-506f1b92a59e"
   },
   "outputs": [
    {
     "name": "stdout",
     "output_type": "stream",
     "text": [
      "{1, 2, 3, 4, 5, 6, 7, 8, 9, 10}\n",
      "{11, 12, 13, 14, 15, 16, 17, 18, 19, 20}\n"
     ]
    }
   ],
   "source": [
    "print(set_1_with_comp)\n",
    "print(set_2_with_comp)"
   ]
  },
  {
   "cell_type": "markdown",
   "metadata": {
    "id": "KnvrfNNMndjR"
   },
   "source": [
    "### Dict comprehension"
   ]
  },
  {
   "cell_type": "code",
   "execution_count": null,
   "metadata": {
    "id": "LtDLlkw3ndjS",
    "outputId": "a6829e85-3d7a-40c6-8184-3d1402f8682e"
   },
   "outputs": [
    {
     "data": {
      "text/plain": [
       "{'1': 1, '2': 2, '3': 3, '4': 4, '5': 5}"
      ]
     },
     "execution_count": 16,
     "metadata": {},
     "output_type": "execute_result"
    }
   ],
   "source": [
    "# dict comprehension to create dict with numbers as values\n",
    "{str(i):i for i in [1,2,3,4,5]}"
   ]
  },
  {
   "cell_type": "code",
   "execution_count": null,
   "metadata": {
    "id": "Sb2VSJTFndjT"
   },
   "outputs": [],
   "source": [
    "strName = \"Atin\""
   ]
  },
  {
   "cell_type": "markdown",
   "metadata": {
    "id": "3gbqArCGndjU"
   },
   "source": [
    "## Lists: popping elements "
   ]
  },
  {
   "cell_type": "code",
   "execution_count": null,
   "metadata": {
    "id": "jgeVh6wQndjV"
   },
   "outputs": [],
   "source": [
    "tasks = [\"email Frank\", \"call Sarah\", \"meet with Zach\"] "
   ]
  },
  {
   "cell_type": "code",
   "execution_count": null,
   "metadata": {
    "id": "D8f_B7ixndjW",
    "outputId": "bc312813-f00e-455e-969f-17186b32fd01"
   },
   "outputs": [
    {
     "data": {
      "text/plain": [
       "'meet with Zach'"
      ]
     },
     "execution_count": 45,
     "metadata": {},
     "output_type": "execute_result"
    }
   ],
   "source": [
    "latest_task_accomplished = tasks.pop()\n",
    "latest_task_accomplished"
   ]
  },
  {
   "cell_type": "code",
   "execution_count": null,
   "metadata": {
    "id": "YqKQZOzEndjX",
    "outputId": "e1c4ecf0-82a2-407e-ea40-b7f665350368"
   },
   "outputs": [
    {
     "data": {
      "text/plain": [
       "'call Sarah'"
      ]
     },
     "execution_count": 47,
     "metadata": {},
     "output_type": "execute_result"
    }
   ],
   "source": [
    "tasks = [\"email Frank\", \"call Sarah\", \"meet with Zach\"] \n",
    "latest_task_accomplished = tasks.pop(1)   # Pops the element from index position 1\n",
    "latest_task_accomplished"
   ]
  },
  {
   "cell_type": "markdown",
   "metadata": {
    "id": "e5rc8EOendjY"
   },
   "source": [
    "### Input always returns string values"
   ]
  },
  {
   "cell_type": "code",
   "execution_count": null,
   "metadata": {
    "id": "9yvzPK4wndja",
    "outputId": "ea969857-3c99-470b-837f-ea3b31480ee0"
   },
   "outputs": [
    {
     "name": "stdout",
     "output_type": "stream",
     "text": [
      "Enter your monthly income: 1200\n"
     ]
    }
   ],
   "source": [
    "monthly_income = input(\"Enter your monthly income: \")\n"
   ]
  },
  {
   "cell_type": "code",
   "execution_count": null,
   "metadata": {
    "id": "QHuCSKw-ndjc",
    "outputId": "aae38f15-132c-463d-e23c-9aa5dd8c1301"
   },
   "outputs": [
    {
     "data": {
      "text/plain": [
       "str"
      ]
     },
     "execution_count": 52,
     "metadata": {},
     "output_type": "execute_result"
    }
   ],
   "source": [
    "type(monthly_income)"
   ]
  },
  {
   "cell_type": "code",
   "execution_count": null,
   "metadata": {
    "id": "qp7MZA9endjd",
    "outputId": "cd516bcf-828f-4e15-e9f3-598aa0c94def"
   },
   "outputs": [
    {
     "data": {
      "text/plain": [
       "int"
      ]
     },
     "execution_count": 53,
     "metadata": {},
     "output_type": "execute_result"
    }
   ],
   "source": [
    "monthly_income = int(monthly_income)\n",
    "type(monthly_income)"
   ]
  },
  {
   "cell_type": "markdown",
   "metadata": {
    "id": "wFf5jL-Gndje"
   },
   "source": [
    "## Dictionaries: How to pick information out of them "
   ]
  },
  {
   "cell_type": "code",
   "execution_count": null,
   "metadata": {
    "id": "6d-3gj7Andje"
   },
   "outputs": [],
   "source": [
    "customer_29876 = {\"first name\": \"David\", \"last name\": \"Elliott\", \"address\": \"4803 Wellesley St.\"} "
   ]
  },
  {
   "cell_type": "code",
   "execution_count": null,
   "metadata": {
    "id": "n3B8ym1cndjf",
    "outputId": "147757fe-e543-422a-b7a5-64653137d55d"
   },
   "outputs": [
    {
     "data": {
      "text/plain": [
       "{'first name': 'David',\n",
       " 'last name': 'Elliott',\n",
       " 'address': '4803 Wellesley St.'}"
      ]
     },
     "execution_count": 63,
     "metadata": {},
     "output_type": "execute_result"
    }
   ],
   "source": [
    "customer_29876"
   ]
  },
  {
   "cell_type": "code",
   "execution_count": null,
   "metadata": {
    "id": "7gINBD-1ndjg",
    "outputId": "3314b644-c0bb-4221-8281-1397e9612c17"
   },
   "outputs": [
    {
     "data": {
      "text/plain": [
       "'4803 Wellesley St.'"
      ]
     },
     "execution_count": 59,
     "metadata": {},
     "output_type": "execute_result"
    }
   ],
   "source": [
    "address_of_customer = customer_29876[\"address\"]\n",
    "address_of_customer"
   ]
  },
  {
   "cell_type": "code",
   "execution_count": null,
   "metadata": {
    "id": "yF5yzh9Fndjh"
   },
   "outputs": [],
   "source": [
    "customer_29876[\"city\"] = \"Toronto\" "
   ]
  },
  {
   "cell_type": "code",
   "execution_count": null,
   "metadata": {
    "id": "rLgLzga2ndjh",
    "outputId": "501d2780-e54c-4b15-816b-7711f7556b39"
   },
   "outputs": [
    {
     "data": {
      "text/plain": [
       "{'first name': 'David',\n",
       " 'last name': 'Elliott',\n",
       " 'address': '4803 Wellesley St.',\n",
       " 'city': 'Toronto'}"
      ]
     },
     "execution_count": 61,
     "metadata": {},
     "output_type": "execute_result"
    }
   ],
   "source": [
    "customer_29876"
   ]
  },
  {
   "cell_type": "code",
   "execution_count": null,
   "metadata": {
    "id": "wTOEaJIxndjj"
   },
   "outputs": [],
   "source": [
    "# Empty Dictionery\n",
    "things_to_remember = {} "
   ]
  },
  {
   "cell_type": "code",
   "execution_count": null,
   "metadata": {
    "id": "BfsS8pj7ndjk"
   },
   "outputs": [],
   "source": [
    "things_to_remember[0] = \"the lowest number\"\n",
    "things_to_remember[\"a dozen\"] = 12 "
   ]
  },
  {
   "cell_type": "code",
   "execution_count": null,
   "metadata": {
    "id": "0m_rYGETndjl",
    "outputId": "76e8b352-8bc7-4156-d1e3-cec0ebad5b83"
   },
   "outputs": [
    {
     "data": {
      "text/plain": [
       "{0: 'the lowest number', 'a dozen': 12}"
      ]
     },
     "execution_count": 66,
     "metadata": {},
     "output_type": "execute_result"
    }
   ],
   "source": [
    "things_to_remember"
   ]
  },
  {
   "cell_type": "code",
   "execution_count": null,
   "metadata": {
    "id": "bcZw0Gmpndjm",
    "outputId": "69116a4c-8970-4628-8e03-6fd61d40fc2d"
   },
   "outputs": [
    {
     "data": {
      "text/plain": [
       "['Alice', 'Bob', 'Jane']"
      ]
     },
     "execution_count": 67,
     "metadata": {},
     "output_type": "execute_result"
    }
   ],
   "source": [
    "# When declaring list/set/dict constants, end all lines with a comma.\n",
    "\n",
    "names = [\n",
    "    'Alice',\n",
    "    'Bob',\n",
    "    'Jane',\n",
    "]\n",
    "names"
   ]
  },
  {
   "cell_type": "code",
   "execution_count": null,
   "metadata": {
    "id": "s8zZ-PBYndjn",
    "outputId": "f273db21-622e-4dd3-a296-ff77c9c13320"
   },
   "outputs": [
    {
     "data": {
      "text/plain": [
       "['Alice', 'Bob', 'JaneKen']"
      ]
     },
     "execution_count": 69,
     "metadata": {},
     "output_type": "execute_result"
    }
   ],
   "source": [
    "# This helps avoiding errors related to removing/adding items to constance (due to Python's string literal concatenation), \n",
    "# such as:\n",
    "\n",
    "names = [\n",
    "    'Alice',\n",
    "    'Bob',\n",
    "    'Jane'\n",
    "    'Ken'\n",
    "]\n",
    "names"
   ]
  },
  {
   "cell_type": "markdown",
   "metadata": {
    "id": "CX_dTeZJndkD"
   },
   "source": [
    "### Dictionary tricks\n"
   ]
  },
  {
   "cell_type": "markdown",
   "metadata": {
    "id": "atP-9WQAndkE"
   },
   "source": [
    "### Dictionary default values"
   ]
  },
  {
   "cell_type": "code",
   "execution_count": 7,
   "metadata": {
    "id": "eGEDo215ndkF"
   },
   "outputs": [],
   "source": [
    "name_to_firstname = {'FirstName':'Atin'}"
   ]
  },
  {
   "cell_type": "code",
   "execution_count": 8,
   "metadata": {
    "id": "WultrlYxndkF"
   },
   "outputs": [],
   "source": [
    "def greet(name):\n",
    "        return f'Hi {name_to_firstname[name]}!'"
   ]
  },
  {
   "cell_type": "code",
   "execution_count": 9,
   "metadata": {
    "id": "QkWuEHHMndkG",
    "outputId": "f0be9678-bcb3-4edd-8412-501262371e2f"
   },
   "outputs": [
    {
     "data": {
      "text/plain": [
       "'Hi Atin!'"
      ]
     },
     "execution_count": 9,
     "metadata": {},
     "output_type": "execute_result"
    }
   ],
   "source": [
    "greet(\"FirstName\")"
   ]
  },
  {
   "cell_type": "code",
   "execution_count": 10,
   "metadata": {
    "id": "NJOOq1vDndkH",
    "outputId": "08c1a81e-52c8-4f71-8a39-a7d6df61d59c"
   },
   "outputs": [
    {
     "ename": "KeyError",
     "evalue": "'FirstName1'",
     "output_type": "error",
     "traceback": [
      "\u001b[0;31m---------------------------------------------------------------------------\u001b[0m",
      "\u001b[0;31mKeyError\u001b[0m                                  Traceback (most recent call last)",
      "Cell \u001b[0;32mIn[10], line 1\u001b[0m\n\u001b[0;32m----> 1\u001b[0m \u001b[43mgreet\u001b[49m\u001b[43m(\u001b[49m\u001b[38;5;124;43m\"\u001b[39;49m\u001b[38;5;124;43mFirstName1\u001b[39;49m\u001b[38;5;124;43m\"\u001b[39;49m\u001b[43m)\u001b[49m\n",
      "Cell \u001b[0;32mIn[8], line 2\u001b[0m, in \u001b[0;36mgreet\u001b[0;34m(name)\u001b[0m\n\u001b[1;32m      1\u001b[0m \u001b[38;5;28;01mdef\u001b[39;00m \u001b[38;5;21mgreet\u001b[39m(name):\n\u001b[0;32m----> 2\u001b[0m         \u001b[38;5;28;01mreturn\u001b[39;00m \u001b[38;5;124mf\u001b[39m\u001b[38;5;124m'\u001b[39m\u001b[38;5;124mHi \u001b[39m\u001b[38;5;132;01m{\u001b[39;00m\u001b[43mname_to_firstname\u001b[49m\u001b[43m[\u001b[49m\u001b[43mname\u001b[49m\u001b[43m]\u001b[49m\u001b[38;5;132;01m}\u001b[39;00m\u001b[38;5;124m!\u001b[39m\u001b[38;5;124m'\u001b[39m\n",
      "\u001b[0;31mKeyError\u001b[0m: 'FirstName1'"
     ]
    }
   ],
   "source": [
    "greet(\"FirstName1\")"
   ]
  },
  {
   "cell_type": "code",
   "execution_count": 11,
   "metadata": {
    "id": "xpvc2OolndkI"
   },
   "outputs": [],
   "source": [
    "def greet(name):\n",
    "    try:\n",
    "        return f'Hi {name_to_firstname[name]}!'\n",
    "    except KeyError:\n",
    "        return 'Hi user!'"
   ]
  },
  {
   "cell_type": "code",
   "execution_count": 12,
   "metadata": {
    "id": "4aujhgVendkJ",
    "outputId": "f31ad3f5-c4c9-4013-82df-75f91880adb9"
   },
   "outputs": [
    {
     "data": {
      "text/plain": [
       "'Hi Atin!'"
      ]
     },
     "execution_count": 12,
     "metadata": {},
     "output_type": "execute_result"
    }
   ],
   "source": [
    "greet(\"FirstName\")"
   ]
  },
  {
   "cell_type": "code",
   "execution_count": 13,
   "metadata": {
    "id": "wN-DcIbcndkJ",
    "outputId": "9f3eab5c-bfae-46b3-9254-eae65f10996d"
   },
   "outputs": [
    {
     "data": {
      "text/plain": [
       "'Hi user!'"
      ]
     },
     "execution_count": 13,
     "metadata": {},
     "output_type": "execute_result"
    }
   ],
   "source": [
    "greet(\"FirstName1\")"
   ]
  },
  {
   "cell_type": "code",
   "execution_count": 14,
   "metadata": {
    "id": "L-9ep29andkK"
   },
   "outputs": [],
   "source": [
    "def greet(name):\n",
    "    return 'Hi {}!'.format(name_to_firstname.get(name, 'user'))"
   ]
  },
  {
   "cell_type": "code",
   "execution_count": 15,
   "metadata": {
    "id": "opEzj5eyndkL",
    "outputId": "0e7db258-c9eb-4b36-bc91-27ab2422802a"
   },
   "outputs": [
    {
     "data": {
      "text/plain": [
       "'Hi Atin!'"
      ]
     },
     "execution_count": 15,
     "metadata": {},
     "output_type": "execute_result"
    }
   ],
   "source": [
    "greet(\"FirstName\")"
   ]
  },
  {
   "cell_type": "code",
   "execution_count": 16,
   "metadata": {
    "id": "8jrOnBVondkM",
    "outputId": "0bcf3954-dc12-4a85-a3f6-5a29bb9a3cb3"
   },
   "outputs": [
    {
     "data": {
      "text/plain": [
       "'Hi user!'"
      ]
     },
     "execution_count": 16,
     "metadata": {},
     "output_type": "execute_result"
    }
   ],
   "source": [
    "greet(\"FirstName1\")"
   ]
  },
  {
   "cell_type": "markdown",
   "metadata": {
    "id": "yCUFeEiundkT"
   },
   "source": [
    "### Dict printing\n"
   ]
  },
  {
   "cell_type": "code",
   "execution_count": 20,
   "metadata": {
    "id": "JwX2ZM8DndkT",
    "outputId": "b61ce779-9e25-4285-dc3e-d363485c9730"
   },
   "outputs": [
    {
     "name": "stdout",
     "output_type": "stream",
     "text": [
      "{'Name': 'Atin', 'LastName': 'Gupta', 'FullName': 'Atin Gupta'}\n"
     ]
    }
   ],
   "source": [
    "import json\n",
    "\n",
    "print(xs)"
   ]
  },
  {
   "cell_type": "code",
   "execution_count": 21,
   "metadata": {
    "id": "r0JoJ7ihndkU",
    "outputId": "6b8ffabf-44e9-4579-8d50-e65374afa1ba"
   },
   "outputs": [
    {
     "name": "stdout",
     "output_type": "stream",
     "text": [
      "{\n",
      "    \"FullName\": \"Atin Gupta\",\n",
      "    \"LastName\": \"Gupta\",\n",
      "    \"Name\": \"Atin\"\n",
      "}\n"
     ]
    }
   ],
   "source": [
    "import json\n",
    "\n",
    "print(json.dumps(xs, indent=4, sort_keys=True))"
   ]
  },
  {
   "cell_type": "markdown",
   "metadata": {
    "id": "Iwg5RQgrndkV"
   },
   "source": [
    "### Know Which Version of Python You Are Using\n"
   ]
  },
  {
   "cell_type": "code",
   "execution_count": 37,
   "metadata": {
    "id": "hUReayRLndkV",
    "outputId": "513cae97-e77a-470c-b1d1-e9aaf6a08409"
   },
   "outputs": [
    {
     "name": "stdout",
     "output_type": "stream",
     "text": [
      "sys.version_info(major=3, minor=10, micro=12, releaselevel='final', serial=0)\n",
      "3.10.12 (main, Jun 11 2023, 05:26:28) [GCC 11.4.0]\n"
     ]
    }
   ],
   "source": [
    "import sys\n",
    "print(sys.version_info)\n",
    "print(sys.version)"
   ]
  },
  {
   "cell_type": "markdown",
   "metadata": {
    "id": "yttoLWjendkX"
   },
   "source": [
    "## Profiling"
   ]
  },
  {
   "cell_type": "markdown",
   "metadata": {
    "id": "wL24voKkndkX"
   },
   "source": [
    "### iPython Timing Magic"
   ]
  },
  {
   "cell_type": "code",
   "execution_count": 24,
   "metadata": {
    "id": "X7zgI6EdndkY",
    "outputId": "601ea112-304e-4674-d09c-9039d3f19171"
   },
   "outputs": [
    {
     "name": "stdout",
     "output_type": "stream",
     "text": [
      "CPU times: user 2 µs, sys: 1 µs, total: 3 µs\n",
      "Wall time: 5.25 µs\n"
     ]
    }
   ],
   "source": [
    "%time a = \"abc\""
   ]
  },
  {
   "cell_type": "code",
   "execution_count": 25,
   "metadata": {
    "id": "qKVyAoTPndkY",
    "outputId": "cb51450c-1d62-41fb-e732-e587bfa5cd4d"
   },
   "outputs": [
    {
     "name": "stdout",
     "output_type": "stream",
     "text": [
      "20.1 ns ± 1.81 ns per loop (mean ± std. dev. of 7 runs, 100 loops each)\n"
     ]
    }
   ],
   "source": [
    "%timeit -n 100 a = \"abc\""
   ]
  },
  {
   "cell_type": "markdown",
   "metadata": {
    "id": "04axZ4kundka"
   },
   "source": [
    "## Optimization"
   ]
  },
  {
   "cell_type": "markdown",
   "metadata": {
    "id": "F-FHj54Cndkb"
   },
   "source": [
    "### Q: Why can Python be slow?\n",
    "* A: It's an interpreted language with dynamic typing."
   ]
  },
  {
   "cell_type": "code",
   "execution_count": 27,
   "metadata": {
    "id": "xlRY4XF5ndkb"
   },
   "outputs": [],
   "source": [
    "a = 0 \n",
    "\n",
    "# Python doesn't compile, so can't optimise below \n",
    "for i in range(100): \n",
    "    a += i # <- Will check types for 'a' and 'i' every time they are used (100 times)"
   ]
  },
  {
   "cell_type": "markdown",
   "metadata": {
    "id": "FyHSM-lzndkc"
   },
   "source": [
    "But Python is 'batteries included' -- there are plenty of mature third-party packages that can reverse one or both of these characteristics for the bits of your code that need it.\n"
   ]
  },
  {
   "cell_type": "markdown",
   "metadata": {
    "id": "XLvFLXSandke"
   },
   "source": [
    "#### Options\n",
    "* Restructurting your code\n",
    "* NumPy - Work with arrays/matrices\n",
    "* Pandas - Builds on NumPy for conveniently working with tables\n",
    "* Cython - Converts bits of your code to low-level C code (which can be compiled)"
   ]
  },
  {
   "cell_type": "markdown",
   "metadata": {
    "id": "EgSlNrn3ndkg"
   },
   "source": [
    "#### NumPy"
   ]
  },
  {
   "cell_type": "code",
   "execution_count": 45,
   "metadata": {
    "id": "cEyhfTgFndkg",
    "outputId": "1397bf0c-15a3-43c4-beeb-ebadcd899f13"
   },
   "outputs": [],
   "source": [
    "# Pure Python\n",
    "from random import random\n",
    "\n",
    "a = [random() for _ in range(100000)]\n",
    "b = [random() for _ in range(100000)]"
   ]
  },
  {
   "cell_type": "code",
   "execution_count": 52,
   "metadata": {},
   "outputs": [
    {
     "name": "stdout",
     "output_type": "stream",
     "text": [
      "16.6 ms ± 71.4 µs per loop (mean ± std. dev. of 7 runs, 100 loops each)\n"
     ]
    }
   ],
   "source": [
    "%%timeit\n",
    "c = [x * y for x, y in zip(a, b)]"
   ]
  },
  {
   "cell_type": "code",
   "execution_count": 36,
   "metadata": {},
   "outputs": [],
   "source": [
    "#!pip install numpy\n",
    "#!pip install pandas"
   ]
  },
  {
   "cell_type": "code",
   "execution_count": 48,
   "metadata": {
    "id": "U9kmjx0Dndkh",
    "outputId": "df5423e1-b763-430d-f3ce-dc6cf08e5895"
   },
   "outputs": [],
   "source": [
    "# NumPy\n",
    "import numpy as np\n",
    "\n",
    "a = np.array(a)\n",
    "b = np.array(b)"
   ]
  },
  {
   "cell_type": "code",
   "execution_count": 53,
   "metadata": {},
   "outputs": [
    {
     "name": "stdout",
     "output_type": "stream",
     "text": [
      "96.8 µs ± 179 ns per loop (mean ± std. dev. of 7 runs, 10,000 loops each)\n"
     ]
    }
   ],
   "source": [
    "%%timeit\n",
    "c = a * b"
   ]
  },
  {
   "cell_type": "markdown",
   "metadata": {
    "id": "4a7Rjcd_ndki"
   },
   "source": [
    "### NumPy is about 100x faster here!"
   ]
  },
  {
   "cell_type": "markdown",
   "metadata": {
    "id": "jF9zIbBJndki"
   },
   "source": [
    "* Numpy includes a bunch of functions for working with arrays and matrics, including things like finding min/max, averages, and so on.\n",
    "\n",
    "* If you're working with large sets of numbers, for instance doing linear algebra, then you should use NumPy rather than built-in Python types. \n"
   ]
  },
  {
   "cell_type": "markdown",
   "metadata": {
    "id": "Z0AfZlOxndlR"
   },
   "source": [
    "### JSON Data"
   ]
  },
  {
   "cell_type": "code",
   "execution_count": 39,
   "metadata": {
    "id": "OPAqH4qJndlT"
   },
   "outputs": [],
   "source": [
    "obj = \"\"\"\n",
    "{\"name\": \"Wes\",\n",
    " \"places_lived\": [\"United States\", \"Spain\", \"Germany\"],\n",
    " \"pet\": null,\n",
    " \"siblings\": [{\"name\": \"Scott\", \"age\": 30, \"pets\": [\"Zeus\", \"Zuko\"]},\n",
    "              {\"name\": \"Katie\", \"age\": 38,\n",
    "               \"pets\": [\"Sixes\", \"Stache\", \"Cisco\"]}]\n",
    "}\n",
    "\"\"\""
   ]
  },
  {
   "cell_type": "code",
   "execution_count": 40,
   "metadata": {
    "id": "Lhy0A50XndlU",
    "outputId": "601f0a67-8cc9-4e5e-cc36-33d47884b8e5"
   },
   "outputs": [
    {
     "data": {
      "text/plain": [
       "{'name': 'Wes',\n",
       " 'places_lived': ['United States', 'Spain', 'Germany'],\n",
       " 'pet': None,\n",
       " 'siblings': [{'name': 'Scott', 'age': 30, 'pets': ['Zeus', 'Zuko']},\n",
       "  {'name': 'Katie', 'age': 38, 'pets': ['Sixes', 'Stache', 'Cisco']}]}"
      ]
     },
     "execution_count": 40,
     "metadata": {},
     "output_type": "execute_result"
    }
   ],
   "source": [
    "import json\n",
    "result = json.loads(obj)\n",
    "result"
   ]
  },
  {
   "cell_type": "code",
   "execution_count": 41,
   "metadata": {
    "id": "u-RsGaz-ndlV"
   },
   "outputs": [],
   "source": [
    "asjson = json.dumps(result)"
   ]
  },
  {
   "cell_type": "code",
   "execution_count": 42,
   "metadata": {
    "id": "PtIER83PndlW",
    "outputId": "3e17020f-cbf4-4855-c818-c180198d8ae8"
   },
   "outputs": [
    {
     "data": {
      "text/html": [
       "<div>\n",
       "<style scoped>\n",
       "    .dataframe tbody tr th:only-of-type {\n",
       "        vertical-align: middle;\n",
       "    }\n",
       "\n",
       "    .dataframe tbody tr th {\n",
       "        vertical-align: top;\n",
       "    }\n",
       "\n",
       "    .dataframe thead th {\n",
       "        text-align: right;\n",
       "    }\n",
       "</style>\n",
       "<table border=\"1\" class=\"dataframe\">\n",
       "  <thead>\n",
       "    <tr style=\"text-align: right;\">\n",
       "      <th></th>\n",
       "      <th>name</th>\n",
       "      <th>age</th>\n",
       "    </tr>\n",
       "  </thead>\n",
       "  <tbody>\n",
       "    <tr>\n",
       "      <th>0</th>\n",
       "      <td>Scott</td>\n",
       "      <td>30</td>\n",
       "    </tr>\n",
       "    <tr>\n",
       "      <th>1</th>\n",
       "      <td>Katie</td>\n",
       "      <td>38</td>\n",
       "    </tr>\n",
       "  </tbody>\n",
       "</table>\n",
       "</div>"
      ],
      "text/plain": [
       "    name  age\n",
       "0  Scott   30\n",
       "1  Katie   38"
      ]
     },
     "execution_count": 42,
     "metadata": {},
     "output_type": "execute_result"
    }
   ],
   "source": [
    "siblings = pd.DataFrame(result['siblings'], columns=['name', 'age'])\n",
    "siblings"
   ]
  }
 ],
 "metadata": {
  "colab": {
   "name": "Python Tips and Tricks.ipynb",
   "provenance": []
  },
  "kernelspec": {
   "display_name": "Python 3 (ipykernel)",
   "language": "python",
   "name": "python3"
  },
  "language_info": {
   "codemirror_mode": {
    "name": "ipython",
    "version": 3
   },
   "file_extension": ".py",
   "mimetype": "text/x-python",
   "name": "python",
   "nbconvert_exporter": "python",
   "pygments_lexer": "ipython3",
   "version": "3.10.12"
  }
 },
 "nbformat": 4,
 "nbformat_minor": 4
}
