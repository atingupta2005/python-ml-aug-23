{
 "cells": [
  {
   "cell_type": "markdown",
   "metadata": {
    "colab_type": "text",
    "id": "XNIvLd-Cqo-r"
   },
   "source": [
    "# Series"
   ]
  },
  {
   "cell_type": "markdown",
   "metadata": {
    "colab_type": "text",
    "id": "pLIGASLdqo-v"
   },
   "source": [
    "A Series is very similar to a NumPy array (in fact it is built on top of the NumPy array object). What differentiates the NumPy array from a Series, is that a Series can have axis labels, meaning it can be indexed by a label, instead of just a number location. It also doesn't need to hold numeric data, it can hold any arbitrary Python Object.\n",
    "\n",
    "Let's explore this concept through some examples:"
   ]
  },
  {
   "cell_type": "code",
   "execution_count": null,
   "metadata": {
    "colab": {},
    "colab_type": "code",
    "id": "XckgTpILqo-w"
   },
   "outputs": [],
   "source": [
    "import numpy as np\n",
    "import pandas as pd"
   ]
  },
  {
   "cell_type": "markdown",
   "metadata": {
    "colab_type": "text",
    "id": "LqNKyzBzqo-2"
   },
   "source": [
    "### Creating a Series\n",
    "\n",
    "You can convert a list,numpy array, or dictionary to a Series:"
   ]
  },
  {
   "cell_type": "code",
   "execution_count": null,
   "metadata": {
    "colab": {},
    "colab_type": "code",
    "id": "pl6MTtEgqo-4"
   },
   "outputs": [],
   "source": [
    "labels = ['a','b','c']\n",
    "my_list = [10,20,30]\n",
    "arr = np.array([10,20,30])\n",
    "d = {'a':10,'b':20,'c':30}"
   ]
  },
  {
   "cell_type": "markdown",
   "metadata": {
    "colab_type": "text",
    "id": "wLBkKAs2qo--"
   },
   "source": [
    "** Using Lists**"
   ]
  },
  {
   "cell_type": "code",
   "execution_count": 4,
   "metadata": {
    "colab": {
     "base_uri": "https://localhost:8080/",
     "height": 85
    },
    "colab_type": "code",
    "executionInfo": {
     "elapsed": 1165,
     "status": "ok",
     "timestamp": 1559974197857,
     "user": {
      "displayName": "Atin Gupta",
      "photoUrl": "https://lh4.googleusercontent.com/-VN-JLkSccdk/AAAAAAAAAAI/AAAAAAAAH3Q/XCDSdNuOjB0/s64/photo.jpg",
      "userId": "01235820350389977490"
     },
     "user_tz": -330
    },
    "id": "eW2ym8Jrqo-_",
    "outputId": "cae2e6ca-d21b-43a1-c3c1-989b3b9cf5fa"
   },
   "outputs": [
    {
     "data": {
      "text/plain": [
       "0    10\n",
       "1    20\n",
       "2    30\n",
       "dtype: int64"
      ]
     },
     "execution_count": 4,
     "metadata": {
      "tags": []
     },
     "output_type": "execute_result"
    }
   ],
   "source": [
    "pd.Series(data=my_list)"
   ]
  },
  {
   "cell_type": "code",
   "execution_count": 8,
   "metadata": {
    "colab": {
     "base_uri": "https://localhost:8080/",
     "height": 85
    },
    "colab_type": "code",
    "executionInfo": {
     "elapsed": 1244,
     "status": "ok",
     "timestamp": 1559974440052,
     "user": {
      "displayName": "Atin Gupta",
      "photoUrl": "https://lh4.googleusercontent.com/-VN-JLkSccdk/AAAAAAAAAAI/AAAAAAAAH3Q/XCDSdNuOjB0/s64/photo.jpg",
      "userId": "01235820350389977490"
     },
     "user_tz": -330
    },
    "id": "GZFG7e__qo_H",
    "outputId": "1adf79ea-18c2-4497-95cc-fa5990d2c747"
   },
   "outputs": [
    {
     "data": {
      "text/plain": [
       "a    10\n",
       "b    20\n",
       "c    30\n",
       "dtype: int64"
      ]
     },
     "execution_count": 8,
     "metadata": {
      "tags": []
     },
     "output_type": "execute_result"
    }
   ],
   "source": [
    "pd.Series(index=labels, data=my_list)"
   ]
  },
  {
   "cell_type": "code",
   "execution_count": 9,
   "metadata": {
    "colab": {
     "base_uri": "https://localhost:8080/",
     "height": 85
    },
    "colab_type": "code",
    "executionInfo": {
     "elapsed": 1334,
     "status": "ok",
     "timestamp": 1559974448221,
     "user": {
      "displayName": "Atin Gupta",
      "photoUrl": "https://lh4.googleusercontent.com/-VN-JLkSccdk/AAAAAAAAAAI/AAAAAAAAH3Q/XCDSdNuOjB0/s64/photo.jpg",
      "userId": "01235820350389977490"
     },
     "user_tz": -330
    },
    "id": "ofmeMy21qo_N",
    "outputId": "53bcb110-9790-4ec3-9a77-33c0cb1a5bb2"
   },
   "outputs": [
    {
     "data": {
      "text/plain": [
       "10    a\n",
       "20    b\n",
       "30    c\n",
       "dtype: object"
      ]
     },
     "execution_count": 9,
     "metadata": {
      "tags": []
     },
     "output_type": "execute_result"
    }
   ],
   "source": [
    "pd.Series(my_list,labels)"
   ]
  },
  {
   "cell_type": "markdown",
   "metadata": {
    "colab_type": "text",
    "id": "pn1F3HhRqo_V"
   },
   "source": [
    "## NumPy Arrays"
   ]
  },
  {
   "cell_type": "code",
   "execution_count": 10,
   "metadata": {
    "colab": {
     "base_uri": "https://localhost:8080/",
     "height": 85
    },
    "colab_type": "code",
    "executionInfo": {
     "elapsed": 1159,
     "status": "ok",
     "timestamp": 1559974500030,
     "user": {
      "displayName": "Atin Gupta",
      "photoUrl": "https://lh4.googleusercontent.com/-VN-JLkSccdk/AAAAAAAAAAI/AAAAAAAAH3Q/XCDSdNuOjB0/s64/photo.jpg",
      "userId": "01235820350389977490"
     },
     "user_tz": -330
    },
    "id": "5jqTkQ23qo_W",
    "outputId": "cdc600d2-ad72-4264-cca8-69835801f4b3"
   },
   "outputs": [
    {
     "data": {
      "text/plain": [
       "0    10\n",
       "1    20\n",
       "2    30\n",
       "dtype: int64"
      ]
     },
     "execution_count": 10,
     "metadata": {
      "tags": []
     },
     "output_type": "execute_result"
    }
   ],
   "source": [
    "pd.Series(arr)"
   ]
  },
  {
   "cell_type": "code",
   "execution_count": 12,
   "metadata": {
    "colab": {
     "base_uri": "https://localhost:8080/",
     "height": 85
    },
    "colab_type": "code",
    "executionInfo": {
     "elapsed": 953,
     "status": "ok",
     "timestamp": 1559974520591,
     "user": {
      "displayName": "Atin Gupta",
      "photoUrl": "https://lh4.googleusercontent.com/-VN-JLkSccdk/AAAAAAAAAAI/AAAAAAAAH3Q/XCDSdNuOjB0/s64/photo.jpg",
      "userId": "01235820350389977490"
     },
     "user_tz": -330
    },
    "id": "Gc8tlhnTqo_b",
    "outputId": "72f341ea-520c-4098-98ea-19e6017824da"
   },
   "outputs": [
    {
     "data": {
      "text/plain": [
       "a    10\n",
       "b    20\n",
       "c    30\n",
       "dtype: int64"
      ]
     },
     "execution_count": 12,
     "metadata": {
      "tags": []
     },
     "output_type": "execute_result"
    }
   ],
   "source": [
    "pd.Series(arr,labels)"
   ]
  },
  {
   "cell_type": "code",
   "execution_count": 13,
   "metadata": {
    "colab": {
     "base_uri": "https://localhost:8080/",
     "height": 34
    },
    "colab_type": "code",
    "executionInfo": {
     "elapsed": 1169,
     "status": "ok",
     "timestamp": 1559974523754,
     "user": {
      "displayName": "Atin Gupta",
      "photoUrl": "https://lh4.googleusercontent.com/-VN-JLkSccdk/AAAAAAAAAAI/AAAAAAAAH3Q/XCDSdNuOjB0/s64/photo.jpg",
      "userId": "01235820350389977490"
     },
     "user_tz": -330
    },
    "id": "-rCozP_GuiJt",
    "outputId": "86e93538-c7a5-49e5-c054-fbe5f02a7aee"
   },
   "outputs": [
    {
     "name": "stdout",
     "output_type": "stream",
     "text": [
      "{'a': 10, 'b': 20, 'c': 30}\n"
     ]
    }
   ],
   "source": [
    "print(d)"
   ]
  },
  {
   "cell_type": "markdown",
   "metadata": {
    "colab_type": "text",
    "id": "ZaiZmGubqo_j"
   },
   "source": [
    "** Dictionary**"
   ]
  },
  {
   "cell_type": "code",
   "execution_count": null,
   "metadata": {
    "colab": {},
    "colab_type": "code",
    "id": "Zcs3OiRUqo_k"
   },
   "outputs": [],
   "source": [
    "a = pd.Series(d)"
   ]
  },
  {
   "cell_type": "code",
   "execution_count": 30,
   "metadata": {
    "colab": {
     "base_uri": "https://localhost:8080/",
     "height": 34
    },
    "colab_type": "code",
    "executionInfo": {
     "elapsed": 1251,
     "status": "ok",
     "timestamp": 1559974903207,
     "user": {
      "displayName": "Atin Gupta",
      "photoUrl": "https://lh4.googleusercontent.com/-VN-JLkSccdk/AAAAAAAAAAI/AAAAAAAAH3Q/XCDSdNuOjB0/s64/photo.jpg",
      "userId": "01235820350389977490"
     },
     "user_tz": -330
    },
    "id": "08YiUeBtv2qE",
    "outputId": "6bf9e3b8-4475-442d-b684-9d38b4d77ff4"
   },
   "outputs": [
    {
     "data": {
      "text/plain": [
       "10"
      ]
     },
     "execution_count": 30,
     "metadata": {
      "tags": []
     },
     "output_type": "execute_result"
    }
   ],
   "source": [
    "d['a']"
   ]
  },
  {
   "cell_type": "code",
   "execution_count": 27,
   "metadata": {
    "colab": {
     "base_uri": "https://localhost:8080/",
     "height": 34
    },
    "colab_type": "code",
    "executionInfo": {
     "elapsed": 1176,
     "status": "ok",
     "timestamp": 1559974881910,
     "user": {
      "displayName": "Atin Gupta",
      "photoUrl": "https://lh4.googleusercontent.com/-VN-JLkSccdk/AAAAAAAAAAI/AAAAAAAAH3Q/XCDSdNuOjB0/s64/photo.jpg",
      "userId": "01235820350389977490"
     },
     "user_tz": -330
    },
    "id": "HurgQUPsvuuV",
    "outputId": "26fc42f5-db6a-412d-8f2f-f246b21237bb"
   },
   "outputs": [
    {
     "data": {
      "text/plain": [
       "20"
      ]
     },
     "execution_count": 27,
     "metadata": {
      "tags": []
     },
     "output_type": "execute_result"
    }
   ],
   "source": [
    "a['b']"
   ]
  },
  {
   "cell_type": "markdown",
   "metadata": {
    "colab_type": "text",
    "id": "FkmwvMjbqo_y"
   },
   "source": [
    "### Data in a Series\n",
    "\n",
    "A pandas Series can hold a variety of object types:"
   ]
  },
  {
   "cell_type": "code",
   "execution_count": null,
   "metadata": {
    "colab": {},
    "colab_type": "code",
    "id": "QRkcHKAoqo_z",
    "outputId": "d0cf7faf-0f3a-43f1-d2eb-0477b421ce3c"
   },
   "outputs": [
    {
     "data": {
      "text/plain": [
       "0    a\n",
       "1    b\n",
       "2    c\n",
       "dtype: object"
      ]
     },
     "execution_count": 10,
     "metadata": {
      "tags": []
     },
     "output_type": "execute_result"
    }
   ],
   "source": [
    "pd.Series(data=labels)"
   ]
  },
  {
   "cell_type": "code",
   "execution_count": null,
   "metadata": {
    "colab": {},
    "colab_type": "code",
    "id": "grj5QFpxqo_4"
   },
   "outputs": [],
   "source": [
    "# Even functions (although unlikely that you will use this)\n",
    "l1 = [sum,print,len]\n",
    "a = pd.Series(l1)"
   ]
  },
  {
   "cell_type": "code",
   "execution_count": 50,
   "metadata": {
    "colab": {
     "base_uri": "https://localhost:8080/",
     "height": 34
    },
    "colab_type": "code",
    "executionInfo": {
     "elapsed": 1299,
     "status": "ok",
     "timestamp": 1559975191236,
     "user": {
      "displayName": "Atin Gupta",
      "photoUrl": "https://lh4.googleusercontent.com/-VN-JLkSccdk/AAAAAAAAAAI/AAAAAAAAH3Q/XCDSdNuOjB0/s64/photo.jpg",
      "userId": "01235820350389977490"
     },
     "user_tz": -330
    },
    "id": "scwUq_8ewRda",
    "outputId": "dc7dc658-2bb4-4ae8-a6b8-1870698df1ab"
   },
   "outputs": [
    {
     "data": {
      "text/plain": [
       "15"
      ]
     },
     "execution_count": 50,
     "metadata": {
      "tags": []
     },
     "output_type": "execute_result"
    }
   ],
   "source": [
    "a[0]( [4,5,6]  )"
   ]
  },
  {
   "cell_type": "markdown",
   "metadata": {
    "colab_type": "text",
    "id": "GpAgdTXBqpAA"
   },
   "source": [
    "## Using an Index\n",
    "\n",
    "The key to using a Series is understanding its index. Pandas makes use of these index names or numbers by allowing for fast look ups of information (works like a hash table or dictionary).\n",
    "\n",
    "Let's see some examples of how to grab information from a Series. Let us create two sereis, ser1 and ser2:"
   ]
  },
  {
   "cell_type": "code",
   "execution_count": null,
   "metadata": {
    "colab": {},
    "colab_type": "code",
    "id": "ElHSb3dwqpAD"
   },
   "outputs": [],
   "source": [
    "ser1 = pd.Series([1,2,3,4],index = ['USA', 'Germany','USSR', 'Japan'])                                   "
   ]
  },
  {
   "cell_type": "code",
   "execution_count": 52,
   "metadata": {
    "colab": {
     "base_uri": "https://localhost:8080/",
     "height": 102
    },
    "colab_type": "code",
    "executionInfo": {
     "elapsed": 1535,
     "status": "ok",
     "timestamp": 1559975224836,
     "user": {
      "displayName": "Atin Gupta",
      "photoUrl": "https://lh4.googleusercontent.com/-VN-JLkSccdk/AAAAAAAAAAI/AAAAAAAAH3Q/XCDSdNuOjB0/s64/photo.jpg",
      "userId": "01235820350389977490"
     },
     "user_tz": -330
    },
    "id": "PwQhI7bGqpAH",
    "outputId": "46793967-f811-48bb-fb9a-9279fb924678"
   },
   "outputs": [
    {
     "data": {
      "text/plain": [
       "USA        1\n",
       "Germany    2\n",
       "USSR       3\n",
       "Japan      4\n",
       "dtype: int64"
      ]
     },
     "execution_count": 52,
     "metadata": {
      "tags": []
     },
     "output_type": "execute_result"
    }
   ],
   "source": [
    "ser1"
   ]
  },
  {
   "cell_type": "code",
   "execution_count": null,
   "metadata": {
    "colab": {},
    "colab_type": "code",
    "id": "O-hlWUwOqpAN"
   },
   "outputs": [],
   "source": [
    "ser2 = pd.Series([1,2,5,4],index = ['USA', 'Germany','Italy', 'Japan'])                                   "
   ]
  },
  {
   "cell_type": "code",
   "execution_count": 55,
   "metadata": {
    "colab": {
     "base_uri": "https://localhost:8080/",
     "height": 102
    },
    "colab_type": "code",
    "executionInfo": {
     "elapsed": 941,
     "status": "ok",
     "timestamp": 1559975245170,
     "user": {
      "displayName": "Atin Gupta",
      "photoUrl": "https://lh4.googleusercontent.com/-VN-JLkSccdk/AAAAAAAAAAI/AAAAAAAAH3Q/XCDSdNuOjB0/s64/photo.jpg",
      "userId": "01235820350389977490"
     },
     "user_tz": -330
    },
    "id": "-DL1L-dEqpAT",
    "outputId": "922270cc-7fd1-4598-9ef0-b31ba3c2a7ff"
   },
   "outputs": [
    {
     "data": {
      "text/plain": [
       "USA        1\n",
       "Germany    2\n",
       "Italy      5\n",
       "Japan      4\n",
       "dtype: int64"
      ]
     },
     "execution_count": 55,
     "metadata": {
      "tags": []
     },
     "output_type": "execute_result"
    }
   ],
   "source": [
    "ser2"
   ]
  },
  {
   "cell_type": "code",
   "execution_count": 58,
   "metadata": {
    "colab": {
     "base_uri": "https://localhost:8080/",
     "height": 34
    },
    "colab_type": "code",
    "executionInfo": {
     "elapsed": 1105,
     "status": "ok",
     "timestamp": 1559975275912,
     "user": {
      "displayName": "Atin Gupta",
      "photoUrl": "https://lh4.googleusercontent.com/-VN-JLkSccdk/AAAAAAAAAAI/AAAAAAAAH3Q/XCDSdNuOjB0/s64/photo.jpg",
      "userId": "01235820350389977490"
     },
     "user_tz": -330
    },
    "id": "9mGkOxrVqpAZ",
    "outputId": "6fb5142b-6a57-4149-ee8d-c2668e8022ef"
   },
   "outputs": [
    {
     "data": {
      "text/plain": [
       "1"
      ]
     },
     "execution_count": 58,
     "metadata": {
      "tags": []
     },
     "output_type": "execute_result"
    }
   ],
   "source": [
    "ser1['USA']"
   ]
  },
  {
   "cell_type": "markdown",
   "metadata": {
    "colab_type": "text",
    "id": "30dcNS_XqpAh"
   },
   "source": [
    "Operations are then also done based off of index:"
   ]
  },
  {
   "cell_type": "code",
   "execution_count": 59,
   "metadata": {
    "colab": {
     "base_uri": "https://localhost:8080/",
     "height": 119
    },
    "colab_type": "code",
    "executionInfo": {
     "elapsed": 1143,
     "status": "ok",
     "timestamp": 1559975306964,
     "user": {
      "displayName": "Atin Gupta",
      "photoUrl": "https://lh4.googleusercontent.com/-VN-JLkSccdk/AAAAAAAAAAI/AAAAAAAAH3Q/XCDSdNuOjB0/s64/photo.jpg",
      "userId": "01235820350389977490"
     },
     "user_tz": -330
    },
    "id": "bGtWWdqNqpAl",
    "outputId": "40fbf447-c6c3-4857-c95a-e42ae1bae14a"
   },
   "outputs": [
    {
     "data": {
      "text/plain": [
       "Germany    4.0\n",
       "Italy      NaN\n",
       "Japan      8.0\n",
       "USA        2.0\n",
       "USSR       NaN\n",
       "dtype: float64"
      ]
     },
     "execution_count": 59,
     "metadata": {
      "tags": []
     },
     "output_type": "execute_result"
    }
   ],
   "source": [
    "ser1 + ser2"
   ]
  }
 ],
 "metadata": {
  "colab": {
   "name": "13-A-C. Series.ipynb",
   "provenance": [],
   "version": "0.3.2"
  },
  "kernelspec": {
   "display_name": "Python 3 (ipykernel)",
   "language": "python",
   "name": "python3"
  },
  "language_info": {
   "codemirror_mode": {
    "name": "ipython",
    "version": 3
   },
   "file_extension": ".py",
   "mimetype": "text/x-python",
   "name": "python",
   "nbconvert_exporter": "python",
   "pygments_lexer": "ipython3",
   "version": "3.10.12"
  }
 },
 "nbformat": 4,
 "nbformat_minor": 4
}
